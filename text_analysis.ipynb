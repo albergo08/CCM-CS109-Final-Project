{
 "cells": [
  {
   "cell_type": "markdown",
   "metadata": {},
   "source": [
    "# Analyzing text in Ebay Auction Titles"
   ]
  },
  {
   "cell_type": "markdown",
   "metadata": {},
   "source": [
    "The goal of the following code is to use language processing techniques to parse the ebay auction titles, seeing if there is any correlation between certain words and success of the auction. Another column will be added to the dataframe as \"enoughKeyWords\", which will be an indicator variable of whether the titles of the ebay auction contain more than 6 keywords"
   ]
  },
  {
   "cell_type": "code",
   "execution_count": 296,
   "metadata": {
    "collapsed": true
   },
   "outputs": [],
   "source": [
    "%matplotlib inline\n",
    "import numpy as np\n",
    "import scipy as sp\n",
    "import matplotlib as mpl\n",
    "import matplotlib.cm as cm\n",
    "import matplotlib.pyplot as plt\n",
    "import pandas as pd\n",
    "pd.set_option('display.width', 500)\n",
    "pd.set_option('display.max_columns', 100)\n",
    "pd.set_option('display.notebook_repr_html', True)\n",
    "import csv, json, time, sklearn\n",
    "from pattern.en import parse\n",
    "from pattern.en import pprint\n",
    "from pattern.vector import stem, PORTER, LEMMA\n",
    "from sklearn.feature_extraction import text \n",
    "import re"
   ]
  },
  {
   "cell_type": "markdown",
   "metadata": {},
   "source": [
    "####We first load in the data, although we are only concerned with a few of these columns"
   ]
  },
  {
   "cell_type": "code",
   "execution_count": 297,
   "metadata": {
    "collapsed": false
   },
   "outputs": [],
   "source": [
    "with open('dftouse.csv', 'r') as fd:\n",
    "    dftouse = pd.read_csv(fd)\n"
   ]
  },
  {
   "cell_type": "code",
   "execution_count": 298,
   "metadata": {
    "collapsed": false
   },
   "outputs": [
    {
     "data": {
      "text/html": [
       "<div>\n",
       "<table border=\"1\" class=\"dataframe\">\n",
       "  <thead>\n",
       "    <tr style=\"text-align: right;\">\n",
       "      <th></th>\n",
       "      <th>Unnamed: 0</th>\n",
       "      <th>country</th>\n",
       "      <th>itemId</th>\n",
       "      <th>paymentMethod</th>\n",
       "      <th>postalCode</th>\n",
       "      <th>sellingStatus</th>\n",
       "      <th>topRatedListing</th>\n",
       "      <th>AutoPay</th>\n",
       "      <th>AvailableForPickupDropOff</th>\n",
       "      <th>BestOfferEnabled</th>\n",
       "      <th>BidCount</th>\n",
       "      <th>BuyItNowPrice</th>\n",
       "      <th>FinalPrice</th>\n",
       "      <th>GlobalShipping</th>\n",
       "      <th>HandlingTime</th>\n",
       "      <th>HitCount</th>\n",
       "      <th>ListingStatus</th>\n",
       "      <th>ListingType</th>\n",
       "      <th>Location</th>\n",
       "      <th>MinimumToBid</th>\n",
       "      <th>ProductID</th>\n",
       "      <th>Quantity</th>\n",
       "      <th>QuantityThreshold</th>\n",
       "      <th>ReserveMet</th>\n",
       "      <th>ShipToLocations</th>\n",
       "      <th>Title</th>\n",
       "      <th>UserID</th>\n",
       "      <th>FeedbackScore</th>\n",
       "      <th>PositiveFeedbackPercent</th>\n",
       "      <th>SellerBusinessType</th>\n",
       "      <th>NewUser</th>\n",
       "      <th>nPhotos</th>\n",
       "      <th>nPaymentMethods</th>\n",
       "      <th>nShippingCountries</th>\n",
       "      <th>conditionId</th>\n",
       "      <th>bestOfferEnabled</th>\n",
       "      <th>buyItNowAvailable</th>\n",
       "      <th>expeditedShipping</th>\n",
       "      <th>shippingType</th>\n",
       "      <th>oneDayShippingAvailable</th>\n",
       "      <th>RatingsPresent</th>\n",
       "      <th>AverageRating</th>\n",
       "      <th>NegFeedback30Day</th>\n",
       "      <th>NegFeedback365Day</th>\n",
       "      <th>PosFeedback30Day</th>\n",
       "      <th>PosFeedback365Day</th>\n",
       "      <th>auctionLength</th>\n",
       "    </tr>\n",
       "  </thead>\n",
       "  <tbody>\n",
       "    <tr>\n",
       "      <th>0</th>\n",
       "      <td>0</td>\n",
       "      <td>1</td>\n",
       "      <td>131642735687</td>\n",
       "      <td>1</td>\n",
       "      <td>10590</td>\n",
       "      <td>1</td>\n",
       "      <td>False</td>\n",
       "      <td>False</td>\n",
       "      <td>0</td>\n",
       "      <td>False</td>\n",
       "      <td>41</td>\n",
       "      <td>NaN</td>\n",
       "      <td>202.09</td>\n",
       "      <td>False</td>\n",
       "      <td>2</td>\n",
       "      <td>190</td>\n",
       "      <td>Completed</td>\n",
       "      <td>1</td>\n",
       "      <td>South Salem, New York</td>\n",
       "      <td>204.59</td>\n",
       "      <td>NaN</td>\n",
       "      <td>1</td>\n",
       "      <td>0</td>\n",
       "      <td>NaN</td>\n",
       "      <td>US</td>\n",
       "      <td>iPhone 5s-32gb-Space Gray-unlocked</td>\n",
       "      <td>jdwein1980</td>\n",
       "      <td>19</td>\n",
       "      <td>100.0</td>\n",
       "      <td>2</td>\n",
       "      <td>False</td>\n",
       "      <td>3</td>\n",
       "      <td>1</td>\n",
       "      <td>1</td>\n",
       "      <td>4</td>\n",
       "      <td>False</td>\n",
       "      <td>False</td>\n",
       "      <td>True</td>\n",
       "      <td>2</td>\n",
       "      <td>False</td>\n",
       "      <td>False</td>\n",
       "      <td>NaN</td>\n",
       "      <td>0</td>\n",
       "      <td>0</td>\n",
       "      <td>5</td>\n",
       "      <td>5</td>\n",
       "      <td>168</td>\n",
       "    </tr>\n",
       "    <tr>\n",
       "      <th>1</th>\n",
       "      <td>1</td>\n",
       "      <td>1</td>\n",
       "      <td>262126933108</td>\n",
       "      <td>1</td>\n",
       "      <td>35004</td>\n",
       "      <td>1</td>\n",
       "      <td>False</td>\n",
       "      <td>False</td>\n",
       "      <td>0</td>\n",
       "      <td>False</td>\n",
       "      <td>4</td>\n",
       "      <td>NaN</td>\n",
       "      <td>260.00</td>\n",
       "      <td>False</td>\n",
       "      <td>3</td>\n",
       "      <td>32</td>\n",
       "      <td>Completed</td>\n",
       "      <td>1</td>\n",
       "      <td>Moody, Alabama</td>\n",
       "      <td>265.00</td>\n",
       "      <td>NaN</td>\n",
       "      <td>1</td>\n",
       "      <td>0</td>\n",
       "      <td>NaN</td>\n",
       "      <td>US</td>\n",
       "      <td>apple iphone 5s 32gb</td>\n",
       "      <td>forwhlrcr1965</td>\n",
       "      <td>565</td>\n",
       "      <td>100.0</td>\n",
       "      <td>1</td>\n",
       "      <td>False</td>\n",
       "      <td>2</td>\n",
       "      <td>1</td>\n",
       "      <td>1</td>\n",
       "      <td>4</td>\n",
       "      <td>False</td>\n",
       "      <td>False</td>\n",
       "      <td>True</td>\n",
       "      <td>0</td>\n",
       "      <td>False</td>\n",
       "      <td>False</td>\n",
       "      <td>NaN</td>\n",
       "      <td>0</td>\n",
       "      <td>0</td>\n",
       "      <td>3</td>\n",
       "      <td>32</td>\n",
       "      <td>120</td>\n",
       "    </tr>\n",
       "    <tr>\n",
       "      <th>2</th>\n",
       "      <td>2</td>\n",
       "      <td>1</td>\n",
       "      <td>252155964081</td>\n",
       "      <td>1</td>\n",
       "      <td>98104</td>\n",
       "      <td>1</td>\n",
       "      <td>False</td>\n",
       "      <td>False</td>\n",
       "      <td>0</td>\n",
       "      <td>False</td>\n",
       "      <td>3</td>\n",
       "      <td>NaN</td>\n",
       "      <td>152.50</td>\n",
       "      <td>False</td>\n",
       "      <td>2</td>\n",
       "      <td>168</td>\n",
       "      <td>Completed</td>\n",
       "      <td>1</td>\n",
       "      <td>Seattle, Washington</td>\n",
       "      <td>155.00</td>\n",
       "      <td>168534287</td>\n",
       "      <td>1</td>\n",
       "      <td>0</td>\n",
       "      <td>NaN</td>\n",
       "      <td>Worldwide</td>\n",
       "      <td>Apple iPhone 5s - 32GB SPACE GRAY AT&amp;T</td>\n",
       "      <td>15-alice</td>\n",
       "      <td>15</td>\n",
       "      <td>94.1</td>\n",
       "      <td>1</td>\n",
       "      <td>False</td>\n",
       "      <td>2</td>\n",
       "      <td>1</td>\n",
       "      <td>1</td>\n",
       "      <td>4</td>\n",
       "      <td>False</td>\n",
       "      <td>False</td>\n",
       "      <td>False</td>\n",
       "      <td>1</td>\n",
       "      <td>False</td>\n",
       "      <td>False</td>\n",
       "      <td>NaN</td>\n",
       "      <td>0</td>\n",
       "      <td>1</td>\n",
       "      <td>2</td>\n",
       "      <td>17</td>\n",
       "      <td>120</td>\n",
       "    </tr>\n",
       "    <tr>\n",
       "      <th>3</th>\n",
       "      <td>3</td>\n",
       "      <td>1</td>\n",
       "      <td>252163774777</td>\n",
       "      <td>1</td>\n",
       "      <td>98104</td>\n",
       "      <td>1</td>\n",
       "      <td>False</td>\n",
       "      <td>False</td>\n",
       "      <td>0</td>\n",
       "      <td>False</td>\n",
       "      <td>1</td>\n",
       "      <td>NaN</td>\n",
       "      <td>99.00</td>\n",
       "      <td>False</td>\n",
       "      <td>2</td>\n",
       "      <td>143</td>\n",
       "      <td>Completed</td>\n",
       "      <td>1</td>\n",
       "      <td>Seattle, Washington</td>\n",
       "      <td>100.00</td>\n",
       "      <td>168553370</td>\n",
       "      <td>1</td>\n",
       "      <td>0</td>\n",
       "      <td>NaN</td>\n",
       "      <td>US</td>\n",
       "      <td>Apple iPhone 5s - 32GB - Silver (Verizon) Smar...</td>\n",
       "      <td>15-alice</td>\n",
       "      <td>15</td>\n",
       "      <td>94.1</td>\n",
       "      <td>1</td>\n",
       "      <td>False</td>\n",
       "      <td>7</td>\n",
       "      <td>1</td>\n",
       "      <td>1</td>\n",
       "      <td>0</td>\n",
       "      <td>False</td>\n",
       "      <td>False</td>\n",
       "      <td>True</td>\n",
       "      <td>0</td>\n",
       "      <td>False</td>\n",
       "      <td>False</td>\n",
       "      <td>NaN</td>\n",
       "      <td>0</td>\n",
       "      <td>1</td>\n",
       "      <td>2</td>\n",
       "      <td>17</td>\n",
       "      <td>120</td>\n",
       "    </tr>\n",
       "    <tr>\n",
       "      <th>4</th>\n",
       "      <td>4</td>\n",
       "      <td>1</td>\n",
       "      <td>252171170160</td>\n",
       "      <td>1</td>\n",
       "      <td>98104</td>\n",
       "      <td>1</td>\n",
       "      <td>False</td>\n",
       "      <td>True</td>\n",
       "      <td>0</td>\n",
       "      <td>False</td>\n",
       "      <td>5</td>\n",
       "      <td>NaN</td>\n",
       "      <td>96.00</td>\n",
       "      <td>False</td>\n",
       "      <td>2</td>\n",
       "      <td>357</td>\n",
       "      <td>Completed</td>\n",
       "      <td>1</td>\n",
       "      <td>Seattle, Washington</td>\n",
       "      <td>97.00</td>\n",
       "      <td>168534287</td>\n",
       "      <td>1</td>\n",
       "      <td>0</td>\n",
       "      <td>NaN</td>\n",
       "      <td>US</td>\n",
       "      <td>Apple iPhone 5s - 32GB SPACE GRAY AT&amp;T</td>\n",
       "      <td>15-alice</td>\n",
       "      <td>15</td>\n",
       "      <td>94.1</td>\n",
       "      <td>1</td>\n",
       "      <td>False</td>\n",
       "      <td>2</td>\n",
       "      <td>1</td>\n",
       "      <td>1</td>\n",
       "      <td>4</td>\n",
       "      <td>False</td>\n",
       "      <td>False</td>\n",
       "      <td>False</td>\n",
       "      <td>1</td>\n",
       "      <td>False</td>\n",
       "      <td>False</td>\n",
       "      <td>NaN</td>\n",
       "      <td>0</td>\n",
       "      <td>1</td>\n",
       "      <td>2</td>\n",
       "      <td>17</td>\n",
       "      <td>120</td>\n",
       "    </tr>\n",
       "  </tbody>\n",
       "</table>\n",
       "</div>"
      ],
      "text/plain": [
       "   Unnamed: 0  country        itemId  paymentMethod postalCode  sellingStatus topRatedListing AutoPay  AvailableForPickupDropOff BestOfferEnabled  BidCount  BuyItNowPrice  FinalPrice GlobalShipping  HandlingTime  HitCount ListingStatus  ListingType               Location  MinimumToBid  ProductID  Quantity  QuantityThreshold  ReserveMet ShipToLocations                                              Title         UserID  FeedbackScore  PositiveFeedbackPercent  SellerBusinessType NewUser  nPhotos  \\\n",
       "0           0        1  131642735687              1      10590              1           False   False                          0            False        41            NaN      202.09          False             2       190     Completed            1  South Salem, New York        204.59        NaN         1                  0         NaN              US                 iPhone 5s-32gb-Space Gray-unlocked     jdwein1980             19                    100.0                   2   False        3   \n",
       "1           1        1  262126933108              1      35004              1           False   False                          0            False         4            NaN      260.00          False             3        32     Completed            1         Moody, Alabama        265.00        NaN         1                  0         NaN              US                               apple iphone 5s 32gb  forwhlrcr1965            565                    100.0                   1   False        2   \n",
       "2           2        1  252155964081              1      98104              1           False   False                          0            False         3            NaN      152.50          False             2       168     Completed            1    Seattle, Washington        155.00  168534287         1                  0         NaN       Worldwide             Apple iPhone 5s - 32GB SPACE GRAY AT&T       15-alice             15                     94.1                   1   False        2   \n",
       "3           3        1  252163774777              1      98104              1           False   False                          0            False         1            NaN       99.00          False             2       143     Completed            1    Seattle, Washington        100.00  168553370         1                  0         NaN              US  Apple iPhone 5s - 32GB - Silver (Verizon) Smar...       15-alice             15                     94.1                   1   False        7   \n",
       "4           4        1  252171170160              1      98104              1           False    True                          0            False         5            NaN       96.00          False             2       357     Completed            1    Seattle, Washington         97.00  168534287         1                  0         NaN              US             Apple iPhone 5s - 32GB SPACE GRAY AT&T       15-alice             15                     94.1                   1   False        2   \n",
       "\n",
       "   nPaymentMethods  nShippingCountries  conditionId bestOfferEnabled buyItNowAvailable expeditedShipping  shippingType oneDayShippingAvailable RatingsPresent  AverageRating  NegFeedback30Day  NegFeedback365Day  PosFeedback30Day  PosFeedback365Day  auctionLength  \n",
       "0                1                   1            4            False             False              True             2                   False          False            NaN                 0                  0                 5                  5            168  \n",
       "1                1                   1            4            False             False              True             0                   False          False            NaN                 0                  0                 3                 32            120  \n",
       "2                1                   1            4            False             False             False             1                   False          False            NaN                 0                  1                 2                 17            120  \n",
       "3                1                   1            0            False             False              True             0                   False          False            NaN                 0                  1                 2                 17            120  \n",
       "4                1                   1            4            False             False             False             1                   False          False            NaN                 0                  1                 2                 17            120  "
      ]
     },
     "execution_count": 298,
     "metadata": {},
     "output_type": "execute_result"
    }
   ],
   "source": [
    "dftouse.head()"
   ]
  },
  {
   "cell_type": "markdown",
   "metadata": {},
   "source": [
    "####Time to parse the titles. This is done almost exactly like in HW5, except we want to broaden our parsing. We don't care if there are no descriptors or if we are working with pronouns. Right now, we just want to see what people have been using as ebay titles."
   ]
  },
  {
   "cell_type": "code",
   "execution_count": 299,
   "metadata": {
    "collapsed": true
   },
   "outputs": [],
   "source": [
    "punctuation = list('.,;:!?()[]{}`''\\\"@#$^&*+-|=~_')\n",
    "from sklearn.feature_extraction import text \n",
    "stopwords=text.ENGLISH_STOP_WORDS\n",
    "import re\n",
    "regex1=re.compile(r\"\\.{1,}\")\n",
    "regex2=re.compile(r\"\\-{1,}\")"
   ]
  },
  {
   "cell_type": "code",
   "execution_count": 300,
   "metadata": {
    "collapsed": true
   },
   "outputs": [],
   "source": [
    "def get_parts(thetext):\n",
    "    thetext=re.sub(regex1, ' ', thetext)\n",
    "    thetext=re.sub(regex2, ' ', thetext)\n",
    "    nouns=[]\n",
    "    descriptives=[]\n",
    "    for i,sentence in enumerate(parse(thetext, tokenize=True, lemmata=True).split()):\n",
    "        nouns.append([])\n",
    "        descriptives.append([])\n",
    "        for token in sentence:\n",
    "            if len(token[4]) >0:\n",
    "                # this checks if token is an adjective\n",
    "                if token[1] in ['JJ', 'JJR', 'JJS']:\n",
    "                    # this checks if token is in stopwords, or is a punctuation, or is a single letter\n",
    "                    if token[4] in stopwords or token[4][0] in punctuation or token[4][-1] in punctuation or len(token[4])==1:\n",
    "                        continue\n",
    "                    descriptives[i].append(token[4])\n",
    "                # anything else is considered a noun for now\n",
    "                else:\n",
    "                    if token[4] in stopwords or token[4][0] in punctuation or token[4][-1] in punctuation or len(token[4])==1:\n",
    "                        continue\n",
    "                    nouns[i].append(token[4])\n",
    "    return nouns, descriptives"
   ]
  },
  {
   "cell_type": "markdown",
   "metadata": {},
   "source": [
    "####Now we run get_parts on all of the titles of the auctions in our data. Let's see what we get"
   ]
  },
  {
   "cell_type": "code",
   "execution_count": 301,
   "metadata": {
    "collapsed": false,
    "scrolled": true
   },
   "outputs": [],
   "source": [
    "test = dftouse['Title'][0:5].map(lambda x: get_parts(x))"
   ]
  },
  {
   "cell_type": "code",
   "execution_count": 302,
   "metadata": {
    "collapsed": false
   },
   "outputs": [
    {
     "data": {
      "text/plain": [
       "0    ([[iphone, 5s, 32gb, space, gray, unlock]], [[]])\n",
       "1                  ([[apple, iphone, 5s, 32gb]], [[]])\n",
       "2    ([[apple, iphone, 5s, 32gb, space, gray, at&t]...\n",
       "3    ([[apple, iphone, 5s, 32gb, silver, verizon, s...\n",
       "4    ([[apple, iphone, 5s, 32gb, space, gray, at&t]...\n",
       "Name: Title, dtype: object"
      ]
     },
     "execution_count": 302,
     "metadata": {},
     "output_type": "execute_result"
    }
   ],
   "source": [
    "test"
   ]
  },
  {
   "cell_type": "markdown",
   "metadata": {},
   "source": [
    "####At this point, we realized that what is happening in HW5 is more than what we need to work with for this project. HW5 deals with adjectives and nouns, whereas we want to see if there is any correlation with anywords given in the title. The following parses the titles for punctuation and creates a set of unique words that we will check occurances of."
   ]
  },
  {
   "cell_type": "code",
   "execution_count": 303,
   "metadata": {
    "collapsed": false
   },
   "outputs": [],
   "source": [
    "titles = dftouse['Title'].map(lambda x: [y.lower() for y in re.split('[.,;:!?(){}`\\/\"@#$*|=~_ +-]',x)])"
   ]
  },
  {
   "cell_type": "code",
   "execution_count": 304,
   "metadata": {
    "collapsed": false
   },
   "outputs": [],
   "source": [
    "uniqueWords = set()\n",
    "for line in titles:\n",
    "    for word in line:\n",
    "        # assumption here that punctuation does not affect ebay auctions\n",
    "        if word not in uniqueWords:\n",
    "            uniqueWords.add(word)\n"
   ]
  },
  {
   "cell_type": "code",
   "execution_count": 305,
   "metadata": {
    "collapsed": false
   },
   "outputs": [
    {
     "data": {
      "text/plain": [
       "1326"
      ]
     },
     "execution_count": 305,
     "metadata": {},
     "output_type": "execute_result"
    }
   ],
   "source": [
    "len(uniqueWords)"
   ]
  },
  {
   "cell_type": "markdown",
   "metadata": {},
   "source": [
    "####Next, we define a counter for occurances of the words in positive and negative responses."
   ]
  },
  {
   "cell_type": "code",
   "execution_count": 306,
   "metadata": {
    "collapsed": false
   },
   "outputs": [],
   "source": [
    "pos_resp_count = {}\n",
    "neg_resp_count = {}\n",
    "dfnew = dftouse.copy()\n",
    "dfnew['Title'] = titles\n",
    "# create a dict with keys of unique words\n",
    "for word in uniqueWords:\n",
    "    pos_resp_count[word] = 0\n",
    "    neg_resp_count[word] = 0\n",
    "\n",
    "    \n",
    "def pos_counter(sentence):\n",
    "    for word in sentence:\n",
    "        pos_resp_count[word] += 1\n",
    "def neg_counter(sentence):\n",
    "    for word in sentence:\n",
    "        neg_resp_count[word] += 1\n"
   ]
  },
  {
   "cell_type": "code",
   "execution_count": 307,
   "metadata": {
    "collapsed": false
   },
   "outputs": [
    {
     "data": {
      "text/plain": [
       "0    1\n",
       "1    1\n",
       "2    1\n",
       "3    1\n",
       "4    1\n",
       "Name: sellingStatus, dtype: int64"
      ]
     },
     "execution_count": 307,
     "metadata": {},
     "output_type": "execute_result"
    }
   ],
   "source": [
    "responses = dfnew['sellingStatus']\n",
    "responses[:5]"
   ]
  },
  {
   "cell_type": "markdown",
   "metadata": {},
   "source": [
    "####Finally, we start counting occurances of keywords in the title."
   ]
  },
  {
   "cell_type": "code",
   "execution_count": 308,
   "metadata": {
    "collapsed": false
   },
   "outputs": [],
   "source": [
    "for i in range(len(responses)):\n",
    "    if responses[i] == 1:\n",
    "        pos_counter(titles[i])\n",
    "    else:\n",
    "        neg_counter(titles[i])\n",
    "del pos_resp_count['']\n",
    "del neg_resp_count['']"
   ]
  },
  {
   "cell_type": "markdown",
   "metadata": {},
   "source": [
    "####We aren't concerned about keywords that occur a few times, because they won't make a statistical difference. Instead, we define a threshold, to get a list of words that occur a significant amount of times. The threshold for negative responses is lower, since there are about half as many negative responses as positive responses."
   ]
  },
  {
   "cell_type": "code",
   "execution_count": null,
   "metadata": {
    "collapsed": true
   },
   "outputs": [],
   "source": []
  },
  {
   "cell_type": "code",
   "execution_count": 309,
   "metadata": {
    "collapsed": false
   },
   "outputs": [
    {
     "data": {
      "text/plain": [
       "[('factory', 1117.0),\n",
       " ('silver', 1421.0),\n",
       " ('gold', 1700.0),\n",
       " ('verizon', 1756.0),\n",
       " ('unlocked', 2132.0),\n",
       " ('at&t', 2467.0),\n",
       " ('gray', 2622.0),\n",
       " ('space', 2639.0),\n",
       " ('smartphone', 4519.0),\n",
       " ('apple', 5935.0),\n",
       " ('32gb', 6081.0),\n",
       " ('5s', 6315.0),\n",
       " ('iphone', 6344.0)]"
      ]
     },
     "execution_count": 309,
     "metadata": {},
     "output_type": "execute_result"
    }
   ],
   "source": [
    "new_pos = []\n",
    "new_neg = []\n",
    "for key in pos_resp_count.keys():\n",
    "    if pos_resp_count[key] > 1000:\n",
    "        new_pos.append((key,float(pos_resp_count[key])))\n",
    "    if neg_resp_count[key] > 500:\n",
    "        new_neg.append((key,float(neg_resp_count[key])))\n",
    "new_pos.sort(key=lambda tup: tup[1])\n",
    "new_neg.sort(key=lambda tup: tup[1])\n",
    "\n",
    "keywords_pos = [x[0] for x in new_pos]\n",
    "\n",
    "new_pos"
   ]
  },
  {
   "cell_type": "code",
   "execution_count": 310,
   "metadata": {
    "collapsed": false,
    "scrolled": true
   },
   "outputs": [
    {
     "data": {
      "text/plain": [
       "['factory',\n",
       " 'silver',\n",
       " 'gold',\n",
       " 'verizon',\n",
       " 'unlocked',\n",
       " 'at&t',\n",
       " 'gray',\n",
       " 'space',\n",
       " 'smartphone',\n",
       " 'apple',\n",
       " '32gb',\n",
       " '5s',\n",
       " 'iphone']"
      ]
     },
     "execution_count": 310,
     "metadata": {},
     "output_type": "execute_result"
    }
   ],
   "source": [
    "keywords_pos"
   ]
  },
  {
   "cell_type": "markdown",
   "metadata": {},
   "source": [
    "####The last step is to create a new column for this dataframe, and export it as a csv file"
   ]
  },
  {
   "cell_type": "code",
   "execution_count": 311,
   "metadata": {
    "collapsed": false
   },
   "outputs": [
    {
     "data": {
      "text/plain": [
       "0    False\n",
       "1    False\n",
       "2     True\n",
       "3     True\n",
       "4     True\n",
       "Name: enoughKeyWords, dtype: bool"
      ]
     },
     "execution_count": 311,
     "metadata": {},
     "output_type": "execute_result"
    }
   ],
   "source": [
    "def countKeyWords(line):\n",
    "    count = 0\n",
    "    for word in line:\n",
    "        if word in keywords_pos:\n",
    "            count+=1\n",
    "    return count\n",
    "\n",
    "\n",
    "outdf = dftouse.copy()\n",
    "outdf['enoughKeyWords'] = dfnew['Title'].apply(lambda x: countKeyWords(x) > 6)\n",
    "outdf['enoughKeyWords'][:5]"
   ]
  },
  {
   "cell_type": "code",
   "execution_count": 312,
   "metadata": {
    "collapsed": true
   },
   "outputs": [],
   "source": [
    "outdf.to_csv('dftouse_textanalysis.csv')"
   ]
  },
  {
   "cell_type": "code",
   "execution_count": 319,
   "metadata": {
    "collapsed": false
   },
   "outputs": [
    {
     "name": "stdout",
     "output_type": "stream",
     "text": [
      "['factory', 'silver', 'gold', 'verizon', 'unlocked', 'at&t', 'gray', 'space', 'smartphone', 'apple', '32gb', '5s', 'iphone'] [1117.0, 1421.0, 1700.0, 1756.0, 2132.0, 2467.0, 2622.0, 2639.0, 4519.0, 5935.0, 6081.0, 6315.0, 6344.0]\n"
     ]
    },
    {
     "data": {
      "text/plain": [
       "([<matplotlib.axis.YTick at 0x11be73650>,\n",
       "  <matplotlib.axis.YTick at 0x11be73050>],\n",
       " <a list of 2 Text yticklabel objects>)"
      ]
     },
     "execution_count": 319,
     "metadata": {},
     "output_type": "execute_result"
    },
    {
     "data": {
      "image/png": "[encoded data removed]",
      "text/plain": [
       "<matplotlib.figure.Figure at 0x11bdfead0>"
      ]
     },
     "metadata": {},
     "output_type": "display_data"
    }
   ],
   "source": [
    "xvals = [x[0] for x in new_pos]\n",
    "yvals = [x[1] for x in new_pos]\n",
    "print xvals, yvals\n",
    "plt.hist(range(len(xvals)), yvals)\n",
    "plt.xticks(range(len(xvals)), xvals)\n",
    "plt.yticks([0,1])"
   ]
  },
  {
   "cell_type": "code",
   "execution_count": null,
   "metadata": {
    "collapsed": true
   },
   "outputs": [],
   "source": []
  },
  {
   "cell_type": "code",
   "execution_count": null,
   "metadata": {
    "collapsed": true
   },
   "outputs": [],
   "source": []
  }
 ],
 "metadata": {
  "kernelspec": {
   "display_name": "Python 2",
   "language": "python",
   "name": "python2"
  },
  "language_info": {
   "codemirror_mode": {
    "name": "ipython",
    "version": 2
   },
   "file_extension": ".py",
   "mimetype": "text/x-python",
   "name": "python",
   "nbconvert_exporter": "python",
   "pygments_lexer": "ipython2",
   "version": "2.7.10"
  }
 },
 "nbformat": 4,
 "nbformat_minor": 0
}

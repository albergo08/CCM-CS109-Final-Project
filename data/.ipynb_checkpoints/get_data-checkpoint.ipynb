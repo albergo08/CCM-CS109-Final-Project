{
 "cells": [
  {
   "cell_type": "code",
   "execution_count": 11,
   "metadata": {
    "collapsed": true
   },
   "outputs": [],
   "source": [
    "import urllib, time, json, csv\n",
    "import numpy as np\n",
    "import pandas as pd"
   ]
  },
  {
   "cell_type": "code",
   "execution_count": 79,
   "metadata": {
    "collapsed": false
   },
   "outputs": [],
   "source": [
    "write_path = 'auctions.json'\n",
    "# for finding api\n",
    "def finding_data(page):\n",
    "    api_key = 'CharlesZ-11ce-4517-8df3-becc92494006'\n",
    "\n",
    "    paramKeys = ['OPERATION-NAME', 'SERVICE-VERSION','SECURITY-APPNAME','RESPONSE-DATA-FORMAT','categoryId']\n",
    "    paramVals = ['findCompletedItems','1.7.0',api_key,'JSON&REST-PAYLOAD','9355']\n",
    "\n",
    "\n",
    "    url_finding = 'http://svcs.ebay.com/services/search/FindingService/v1?'\n",
    "    url = url_finding\n",
    "    for i in range(len(paramKeys)):\n",
    "        url += paramKeys[i] + '=' + paramVals[i] + '&'\n",
    "\n",
    "    response = urllib.urlopen(url + 'page=' + str(page))\n",
    "    data = json.loads(response.read())\n",
    "    \n",
    "    # parse data for selected auctions\n",
    "    return data['findCompletedItemsResponse'][0]['searchResult'][0]['item']\n",
    "\n"
   ]
  },
  {
   "cell_type": "code",
   "execution_count": 81,
   "metadata": {
    "collapsed": false
   },
   "outputs": [
    {
     "ename": "SyntaxError",
     "evalue": "invalid syntax (<ipython-input-81-2e1bb1c97510>, line 3)",
     "output_type": "error",
     "traceback": [
      "\u001b[0;36m  File \u001b[0;32m\"<ipython-input-81-2e1bb1c97510>\"\u001b[0;36m, line \u001b[0;32m3\u001b[0m\n\u001b[0;31m    for\u001b[0m\n\u001b[0m        ^\u001b[0m\n\u001b[0;31mSyntaxError\u001b[0m\u001b[0;31m:\u001b[0m invalid syntax\n"
     ]
    }
   ],
   "source": [
    "# finding api\n",
    "# loop backwards to avoid conflicts\n",
    "with open(write_path,\"w\") as outfile:\n",
    "    for i in range(0,200)\n",
    "        data = finding_data(200-i)\n",
    "        sleep(1) \n",
    "        json.dump(data,outfile)\n",
    "    "
   ]
  },
  {
   "cell_type": "code",
   "execution_count": 59,
   "metadata": {
    "collapsed": false
   },
   "outputs": [],
   "source": []
  },
  {
   "cell_type": "code",
   "execution_count": null,
   "metadata": {
    "collapsed": true
   },
   "outputs": [],
   "source": []
  }
 ],
 "metadata": {
  "kernelspec": {
   "display_name": "Python 2",
   "language": "python",
   "name": "python2"
  },
  "language_info": {
   "codemirror_mode": {
    "name": "ipython",
    "version": 2
   },
   "file_extension": ".py",
   "mimetype": "text/x-python",
   "name": "python",
   "nbconvert_exporter": "python",
   "pygments_lexer": "ipython2",
   "version": "2.7.10"
  }
 },
 "nbformat": 4,
 "nbformat_minor": 0
}

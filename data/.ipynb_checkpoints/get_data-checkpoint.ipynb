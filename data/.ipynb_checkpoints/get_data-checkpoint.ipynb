{
 "cells": [
  {
   "cell_type": "code",
   "execution_count": 82,
   "metadata": {
    "collapsed": true
   },
   "outputs": [],
   "source": [
    "import urllib, time, json, csv\n",
    "import numpy as np\n",
    "import pandas as pd"
   ]
  },
  {
   "cell_type": "code",
   "execution_count": 156,
   "metadata": {
    "collapsed": true
   },
   "outputs": [],
   "source": [
    "write_path = 'auctions.json'\n",
    "#api_key = 'CharlesZ-11ce-4517-8df3-becc92494006'\n",
    "api_key = 'MichaelA-757e-4b18-8eeb-2a0a915831f3'"
   ]
  },
  {
   "cell_type": "code",
   "execution_count": 204,
   "metadata": {
    "collapsed": false
   },
   "outputs": [],
   "source": [
    "# for finding api, findCompletedItems calls\n",
    "def finding_data(page):\n",
    "    # parameter and values for call\n",
    "    paramKeys = ['OPERATION-NAME', 'SERVICE-VERSION','SECURITY-APPNAME','RESPONSE-DATA-FORMAT','categoryId', 'paginationInput.pageNumber']\n",
    "    paramVals = ['findCompletedItems','1.7.0',api_key,'JSON&REST-PAYLOAD','9355', str(page)]\n",
    "\n",
    "    # call url\n",
    "    url_finding = 'http://svcs.ebay.com/services/search/FindingService/v1?'\n",
    "    \n",
    "    # constructing the url\n",
    "    url = url_finding\n",
    "    for i in range(len(paramKeys)):\n",
    "        url += paramKeys[i] + '=' + paramVals[i] + '&'\n",
    "    \n",
    "    # loading the return response\n",
    "    response = urllib.urlopen(url)\n",
    "    data = json.loads(response.read())\n",
    "    \n",
    "    # parse data for selected auctions\n",
    "    return data['findCompletedItemsResponse'][0]['searchResult'][0]['item']\n",
    "\n"
   ]
  },
  {
   "cell_type": "code",
   "execution_count": 213,
   "metadata": {
    "collapsed": true
   },
   "outputs": [],
   "source": [
    "# for shopping api, getSingleItem calls\n",
    "def item_data(item_id):\n",
    "    # parameter and values for call\n",
    "    paramKeys = ['callname', 'responseencoding', 'appid', 'siteid', 'version', 'ItemID', 'IncludeSelector']\n",
    "    paramVals = ['GetSingleItem', 'JSON', api_key, '0', '515', item_id, 'Details']\n",
    "    \n",
    "    # call url\n",
    "    url_item = 'http://open.api.ebay.com/shopping?'\n",
    "    \n",
    "    # constructing the url\n",
    "    url = url_item\n",
    "    for i in range(len(paramKeys)):\n",
    "        url += paramKeys[i] + '=' + paramVals[i] + '&'\n",
    "        \n",
    "    # loading the return response, keep trying until success\n",
    "    while True:\n",
    "        try:\n",
    "            response = urllib.urlopen(url)\n",
    "            data = json.loads(response.read())\n",
    "            break\n",
    "        except ValueError:\n",
    "            #time.sleep(1)\n",
    "            pass\n",
    "        \n",
    "    \n",
    "    #parse data for selected auction\n",
    "    return data['Item']\n"
   ]
  },
  {
   "cell_type": "code",
   "execution_count": 143,
   "metadata": {
    "collapsed": true
   },
   "outputs": [],
   "source": [
    "# for shopping api, getUserProfile calls\n",
    "def user_data(user_id):\n",
    "    # parameter and values for call\n",
    "    paramKeys = ['callname', 'responseseencoding', 'appid', 'sideid', 'version', 'UserID', 'IncludeSelector']\n",
    "    paramVals = ['GetUserProfile', 'JSON', api_key, '0', '525', user_id, 'FeedbackHistory']\n",
    "    \n",
    "    # call url\n",
    "    url_user = 'http://open.api.ebay.com/shopping?'\n",
    "    \n",
    "    # constructing the url\n",
    "    for i in range(len(paramKeys)):\n",
    "        url += paramKeys[i] + '=' + paramVals[i] + '&'\n",
    "    \n",
    "    # loading the return response \n",
    "    response = urllib.urlopen(url)\n",
    "    data = json.loads(response.read())\n",
    "    \n",
    "    #parse data for selected auction\n",
    "    return data"
   ]
  },
  {
   "cell_type": "code",
   "execution_count": 216,
   "metadata": {
    "collapsed": false
   },
   "outputs": [
    {
     "name": "stdout",
     "output_type": "stream",
     "text": [
      "page 100 complete\n",
      "page 99 complete\n",
      "page 98 complete\n",
      "page 97 complete\n",
      "page 96 complete\n",
      "page 95 complete\n",
      "page 94 complete\n",
      "page 93 complete\n",
      "page 92 complete\n",
      "page 91 complete\n",
      "page 90 complete\n",
      "page 89 complete\n",
      "page 88 complete\n",
      "page 87 complete\n",
      "page 86 complete\n",
      "page 85 complete\n",
      "page 84 complete\n",
      "page 83 complete\n",
      "page 82 complete\n",
      "page 81 complete\n",
      "page 80 complete\n",
      "page 79 complete\n",
      "page 78 complete\n",
      "page 77 complete\n",
      "page 76 complete\n",
      "page 75 complete\n",
      "page 74 complete\n",
      "page 73 complete\n",
      "page 72 complete\n",
      "page 71 complete\n",
      "page 70 complete\n",
      "page 69 complete\n",
      "page 68 complete\n",
      "page 67 complete\n",
      "page 66 complete\n",
      "page 65 complete\n",
      "page 64 complete\n",
      "page 63 complete\n",
      "page 62 complete\n",
      "page 61 complete\n",
      "page 60 complete\n",
      "page 59 complete\n",
      "page 58 complete\n",
      "page 57 complete\n",
      "page 56 complete\n",
      "page 55 complete\n",
      "page 54 complete\n",
      "page 53 complete\n",
      "page 52 complete\n",
      "page 51 complete\n",
      "page 50 complete\n",
      "page 49 complete\n",
      "page 48 complete\n",
      "page 47 complete\n",
      "page 46 complete\n",
      "page 45 complete\n",
      "page 44 complete\n",
      "page 43 complete\n",
      "page 42 complete\n",
      "page 41 complete\n",
      "page 40 complete\n",
      "page 39 complete\n",
      "page 38 complete\n",
      "page 37 complete\n",
      "page 36 complete\n",
      "page 35 complete\n",
      "page 34 complete\n",
      "page 33 complete\n",
      "page 32 complete\n",
      "page 31 complete\n",
      "page 30 complete\n",
      "page 29 complete\n",
      "page 28 complete\n",
      "page 27 complete\n",
      "page 26 complete\n",
      "page 25 complete\n",
      "page 24 complete\n",
      "page 23 complete\n",
      "page 22 complete\n",
      "page 21 complete\n",
      "page 20 complete\n",
      "page 19 complete\n",
      "page 18 complete\n",
      "page 17 complete\n",
      "page 16 complete\n",
      "page 15 complete\n",
      "page 14 complete\n",
      "page 13 complete\n",
      "page 12 complete\n",
      "page 11 complete\n",
      "page 10 complete\n",
      "page 9 complete\n",
      "page 8 complete\n",
      "page 7 complete\n",
      "page 6 complete\n",
      "page 5 complete\n",
      "page 4 complete\n",
      "page 3 complete\n",
      "page 2 complete\n",
      "page 1 complete\n"
     ]
    }
   ],
   "source": [
    "# finding api\n",
    "# loop backwards to avoid conflicts\n",
    "total_data = []\n",
    "with open('test.json',\"w\") as outfile:\n",
    "    for i in range(0,100):\n",
    "        data = finding_data(100-i)\n",
    "        time.sleep(1) \n",
    "        total_data += data\n",
    "        print \"page\", 100-i, \"complete\"\n",
    "    \n",
    "    json.dump(total_data,outfile)"
   ]
  },
  {
   "cell_type": "code",
   "execution_count": 226,
   "metadata": {
    "collapsed": false
   },
   "outputs": [],
   "source": [
    "\n",
    "# get all auctions that we are working with\n",
    "auctions = set()\n",
    "with open('test.json') as fd:\n",
    "    reader = json.load(fd)\n",
    "    for auction in reader:\n",
    "        auctions.add(auction['itemId'][0])\n",
    "        \n",
    "\n",
    "\n"
   ]
  },
  {
   "cell_type": "code",
   "execution_count": 227,
   "metadata": {
    "collapsed": false
   },
   "outputs": [
    {
     "data": {
      "text/plain": [
       "9914"
      ]
     },
     "execution_count": 227,
     "metadata": {},
     "output_type": "execute_result"
    }
   ],
   "source": [
    "len(auctions)"
   ]
  },
  {
   "cell_type": "code",
   "execution_count": 153,
   "metadata": {
    "collapsed": false
   },
   "outputs": [
    {
     "name": "stdout",
     "output_type": "stream",
     "text": [
      "http://open.api.ebay.com/shopping?callname=GetSingleItem&responseencoding=JSON&appid=CharlesZ-11ce-4517-8df3-becc92494006&siteid=0&version=515&ItemID=381476042249&IncludeSelector=Details&\n"
     ]
    },
    {
     "data": {
      "text/plain": [
       "dict"
      ]
     },
     "execution_count": 153,
     "metadata": {},
     "output_type": "execute_result"
    }
   ],
   "source": [
    "test = item_data('381476042249')\n",
    "type(test)"
   ]
  },
  {
   "cell_type": "code",
   "execution_count": 228,
   "metadata": {
    "collapsed": false
   },
   "outputs": [],
   "source": [
    "# shopping api\n",
    "\n",
    "\n",
    "outfile =  open('auctions_detailed.json', 'w')\n"
   ]
  },
  {
   "cell_type": "code",
   "execution_count": 234,
   "metadata": {
    "collapsed": false
   },
   "outputs": [
    {
     "data": {
      "text/plain": [
       "u'262172152634'"
      ]
     },
     "execution_count": 234,
     "metadata": {},
     "output_type": "execute_result"
    }
   ],
   "source": [
    "list(auctions)[66]"
   ]
  },
  {
   "cell_type": "code",
   "execution_count": 231,
   "metadata": {
    "collapsed": false
   },
   "outputs": [
    {
     "name": "stdout",
     "output_type": "stream",
     "text": [
      "1\n",
      "2\n",
      "3\n",
      "4\n",
      "5\n",
      "6\n",
      "7\n",
      "8\n",
      "9\n",
      "10\n",
      "11\n",
      "12\n",
      "13\n",
      "14\n",
      "15\n",
      "16\n",
      "17\n",
      "18\n",
      "19\n",
      "20\n",
      "21\n",
      "22\n",
      "23\n",
      "24\n",
      "25\n",
      "26\n",
      "27\n",
      "28\n",
      "29\n",
      "30\n",
      "31\n",
      "32\n",
      "33\n",
      "34\n",
      "35\n",
      "36\n",
      "37\n",
      "38\n",
      "39\n",
      "40\n",
      "41\n",
      "42\n",
      "43\n",
      "44\n",
      "45\n",
      "46\n",
      "47\n",
      "48\n",
      "49\n",
      "50\n",
      "51\n",
      "52\n",
      "53\n",
      "54\n",
      "55\n",
      "56\n",
      "57\n",
      "58\n",
      "59\n",
      "60\n",
      "61\n",
      "62\n",
      "63\n",
      "64\n",
      "65\n",
      "66\n"
     ]
    },
    {
     "ename": "KeyError",
     "evalue": "'Item'",
     "output_type": "error",
     "traceback": [
      "\u001b[0;31m---------------------------------------------------------------------------\u001b[0m",
      "\u001b[0;31mKeyError\u001b[0m                                  Traceback (most recent call last)",
      "\u001b[0;32m<ipython-input-231-c61ca9cfbc57>\u001b[0m in \u001b[0;36m<module>\u001b[0;34m()\u001b[0m\n\u001b[1;32m      2\u001b[0m \u001b[0mtotal_auc_data\u001b[0m \u001b[0;34m=\u001b[0m \u001b[0;34m[\u001b[0m\u001b[0;34m]\u001b[0m\u001b[0;34m\u001b[0m\u001b[0m\n\u001b[1;32m      3\u001b[0m \u001b[0;32mfor\u001b[0m \u001b[0mauc\u001b[0m \u001b[0;32min\u001b[0m \u001b[0mlist\u001b[0m\u001b[0;34m(\u001b[0m\u001b[0mauctions\u001b[0m\u001b[0;34m)\u001b[0m\u001b[0;34m:\u001b[0m\u001b[0;34m\u001b[0m\u001b[0m\n\u001b[0;32m----> 4\u001b[0;31m     \u001b[0mdata\u001b[0m \u001b[0;34m=\u001b[0m \u001b[0mitem_data\u001b[0m\u001b[0;34m(\u001b[0m\u001b[0mauc\u001b[0m\u001b[0;34m)\u001b[0m\u001b[0;34m\u001b[0m\u001b[0m\n\u001b[0m\u001b[1;32m      5\u001b[0m     \u001b[0mtotal_auc_data\u001b[0m\u001b[0;34m.\u001b[0m\u001b[0mappend\u001b[0m\u001b[0;34m(\u001b[0m\u001b[0mdata\u001b[0m\u001b[0;34m)\u001b[0m\u001b[0;34m\u001b[0m\u001b[0m\n\u001b[1;32m      6\u001b[0m     \u001b[0mcounter\u001b[0m \u001b[0;34m+=\u001b[0m \u001b[0;36m1\u001b[0m\u001b[0;34m\u001b[0m\u001b[0m\n",
      "\u001b[0;32m<ipython-input-213-f48e11377950>\u001b[0m in \u001b[0;36mitem_data\u001b[0;34m(item_id)\u001b[0m\n\u001b[1;32m     25\u001b[0m \u001b[0;34m\u001b[0m\u001b[0m\n\u001b[1;32m     26\u001b[0m     \u001b[0;31m#parse data for selected auction\u001b[0m\u001b[0;34m\u001b[0m\u001b[0;34m\u001b[0m\u001b[0m\n\u001b[0;32m---> 27\u001b[0;31m     \u001b[0;32mreturn\u001b[0m \u001b[0mdata\u001b[0m\u001b[0;34m[\u001b[0m\u001b[0;34m'Item'\u001b[0m\u001b[0;34m]\u001b[0m\u001b[0;34m\u001b[0m\u001b[0m\n\u001b[0m",
      "\u001b[0;31mKeyError\u001b[0m: 'Item'"
     ]
    }
   ],
   "source": [
    "counter = 0\n",
    "total_auc_data = []\n",
    "for auc in list(auctions):\n",
    "    try:\n",
    "        data = item_data(auc)\n",
    "    except KeyError:\n",
    "        # auction id doesn't exist? remove auction from set\n",
    "        auctions.remove(auc)\n",
    "        #continue\n",
    "        continue\n",
    "    \n",
    "    total_auc_data.append(data)\n",
    "    counter += 1\n",
    "    print counter"
   ]
  },
  {
   "cell_type": "code",
   "execution_count": 171,
   "metadata": {
    "collapsed": true
   },
   "outputs": [],
   "source": [
    "json.dump(total_auc_data,outfile)\n",
    "outfile.close()"
   ]
  },
  {
   "cell_type": "code",
   "execution_count": 179,
   "metadata": {
    "collapsed": false
   },
   "outputs": [],
   "source": [
    "user_ids = set()\n",
    "for x in total_auc_data:\n",
    "    user_ids.add(x['Seller']['UserID'])\n",
    "    \n"
   ]
  },
  {
   "cell_type": "code",
   "execution_count": 185,
   "metadata": {
    "collapsed": false
   },
   "outputs": [],
   "source": [
    "aucs_ids = set()\n",
    "\n",
    "for x in total_auc_data:\n",
    "    aucs_ids.add(x['ItemID'])"
   ]
  },
  {
   "cell_type": "code",
   "execution_count": 183,
   "metadata": {
    "collapsed": false
   },
   "outputs": [
    {
     "data": {
      "text/plain": [
       "{u'2jspawn',\n",
       " u'811shell',\n",
       " u'918_recell',\n",
       " u'92_ranks',\n",
       " u'accessorie.ssupplies',\n",
       " u'adesai',\n",
       " u'allmetals71',\n",
       " u'alvealedu',\n",
       " u'amad_ceda',\n",
       " u'amran_0',\n",
       " u'barnaclebrain',\n",
       " u'bchangsf1',\n",
       " u'beddy2',\n",
       " u'bgim_enterprises_inc',\n",
       " u'blondest1',\n",
       " u'brandon82cars',\n",
       " u'bronsomurph_0',\n",
       " u'bruno2bk',\n",
       " u'buzprohiba',\n",
       " u'cabinetgallery',\n",
       " u'cashinelectronicsandgaming0',\n",
       " u'chest_marlo',\n",
       " u'christy4lyfe',\n",
       " u'cleek-peter',\n",
       " u'coachm1k3',\n",
       " u'cool_rep',\n",
       " u'crawf_shaw',\n",
       " u'cybermike24',\n",
       " u'danbear777',\n",
       " u'dd7714',\n",
       " u'destiny_solutions',\n",
       " u'dgaudie03',\n",
       " u'directbuywireless',\n",
       " u'dkthekidd40',\n",
       " u'dmm_den',\n",
       " u'dshportko',\n",
       " u'edmundlatoya',\n",
       " u'emassey678',\n",
       " u'eu52',\n",
       " u'everthingcool',\n",
       " u'fairheartcolls',\n",
       " u'gabe6390',\n",
       " u'galacticom',\n",
       " u'galvanism',\n",
       " u'ghantechmobile10',\n",
       " u'ghvlp',\n",
       " u'gizmotrader_contact_us_before_leaving_feedback',\n",
       " u'goodbuystuff2',\n",
       " u'guatemala58',\n",
       " u'happy2290',\n",
       " u'heath832',\n",
       " u'horsesfarmers',\n",
       " u'icb-cellphonesbeyond',\n",
       " u'igadgetselectronicsinc',\n",
       " u'iiamcorinne',\n",
       " u'indigi',\n",
       " u'ingra-ada',\n",
       " u'itprosystems',\n",
       " u'its15237',\n",
       " u'jamonique69',\n",
       " u'jasonmarand',\n",
       " u'javaughvic0',\n",
       " u'jdtheman232365co',\n",
       " u'jerryvonn',\n",
       " u'jessicjohnso_0',\n",
       " u'jfjon2',\n",
       " u'jini08',\n",
       " u'jj03504',\n",
       " u'jo-kealoha',\n",
       " u'kasavar1972',\n",
       " u'kegsrn',\n",
       " u'kethoma2',\n",
       " u'kyucho20734',\n",
       " u'l.a.rida',\n",
       " u'ladlarada',\n",
       " u'lazarus4480',\n",
       " u'lesliestacyy',\n",
       " u'little_star_electronics',\n",
       " u'lizard2878',\n",
       " u'lsorice00',\n",
       " u'm.l.levine',\n",
       " u'magnificentfind',\n",
       " u'mario-is-your-friend',\n",
       " u'martian_llc',\n",
       " u'maxxipriest',\n",
       " u'megaautocare2012',\n",
       " u'megumi2712',\n",
       " u'miket674',\n",
       " u'milan11430',\n",
       " u'milleniumman34',\n",
       " u'mmac3490',\n",
       " u'mpach1976',\n",
       " u'mrjjosmor',\n",
       " u'mucaluck04',\n",
       " u'mv6138',\n",
       " u'n977ll',\n",
       " u'nextworth',\n",
       " u'nicheahea',\n",
       " u'nicholas.f.emery2013',\n",
       " u'nickus98',\n",
       " u'oside79',\n",
       " u'ourbase12',\n",
       " u'pao8007',\n",
       " u'phatmonkey23',\n",
       " u'phonegorillas',\n",
       " u'plannerduck',\n",
       " u'prettycell1-store',\n",
       " u'princkendr_0',\n",
       " u'projectns',\n",
       " u'promacsales',\n",
       " u'pvin3311',\n",
       " u'r700assassin',\n",
       " u'rayonray9',\n",
       " u'reviveitagain2013',\n",
       " u'ripleyii',\n",
       " u'rkhiz',\n",
       " u'robmca.8t68l',\n",
       " u'rook321',\n",
       " u'ruiting8892012',\n",
       " u'satte-denve',\n",
       " u'sellers_touch',\n",
       " u'sellitfast2008',\n",
       " u'serbinio',\n",
       " u'sky8sp',\n",
       " u'slapmj',\n",
       " u'soonersoft',\n",
       " u'soupcooler169',\n",
       " u'sri201212',\n",
       " u'stclca5',\n",
       " u'steve_karp',\n",
       " u'taylorwireless',\n",
       " u'the_lady_kylin',\n",
       " u'thegizmotrader',\n",
       " u'thehotbuyguy',\n",
       " u'thewhizcellsllc',\n",
       " u'threal1',\n",
       " u'tno42324',\n",
       " u'ton.camac',\n",
       " u'touchdownravens52',\n",
       " u'toyzntrains2012',\n",
       " u'tplus99',\n",
       " u'ultimatehotchick',\n",
       " u'wallachee',\n",
       " u'warehouse-wireless',\n",
       " u'wesweigart87',\n",
       " u'wildcatwireless',\n",
       " u'will234',\n",
       " u'wlachapelle',\n",
       " u'yavery33',\n",
       " u'yeeesitsold',\n",
       " u'yfeng8',\n",
       " u'yoonseller',\n",
       " u'yuu_30-6',\n",
       " u'zoidzillasmom'}"
      ]
     },
     "execution_count": 183,
     "metadata": {},
     "output_type": "execute_result"
    }
   ],
   "source": [
    "user_ids"
   ]
  },
  {
   "cell_type": "code",
   "execution_count": 186,
   "metadata": {
    "collapsed": false
   },
   "outputs": [
    {
     "data": {
      "text/plain": [
       "166"
      ]
     },
     "execution_count": 186,
     "metadata": {},
     "output_type": "execute_result"
    }
   ],
   "source": [
    "len(aucs_ids)"
   ]
  },
  {
   "cell_type": "code",
   "execution_count": 189,
   "metadata": {
    "collapsed": false
   },
   "outputs": [
    {
     "data": {
      "text/plain": [
       "166"
      ]
     },
     "execution_count": 189,
     "metadata": {},
     "output_type": "execute_result"
    }
   ],
   "source": [
    "aucs_ids1 = set()\n",
    "for x in auctions:\n",
    "    aucs_ids1.add(x)\n",
    "len(aucs_ids1)"
   ]
  },
  {
   "cell_type": "code",
   "execution_count": 217,
   "metadata": {
    "collapsed": false
   },
   "outputs": [
    {
     "data": {
      "text/plain": [
       "9914"
      ]
     },
     "execution_count": 217,
     "metadata": {},
     "output_type": "execute_result"
    }
   ],
   "source": [
    "test1 = set()\n",
    "for x in total_data:\n",
    "    test1.add(x['itemId'][0])\n",
    "len(test1)\n"
   ]
  },
  {
   "cell_type": "code",
   "execution_count": 222,
   "metadata": {
    "collapsed": false
   },
   "outputs": [
    {
     "data": {
      "text/plain": [
       "9914"
      ]
     },
     "execution_count": 222,
     "metadata": {},
     "output_type": "execute_result"
    }
   ],
   "source": []
  },
  {
   "cell_type": "code",
   "execution_count": null,
   "metadata": {
    "collapsed": true
   },
   "outputs": [],
   "source": []
  }
 ],
 "metadata": {
  "kernelspec": {
   "display_name": "Python 2",
   "language": "python",
   "name": "python2"
  },
  "language_info": {
   "codemirror_mode": {
    "name": "ipython",
    "version": 2
   },
   "file_extension": ".py",
   "mimetype": "text/x-python",
   "name": "python",
   "nbconvert_exporter": "python",
   "pygments_lexer": "ipython2",
   "version": "2.7.10"
  }
 },
 "nbformat": 4,
 "nbformat_minor": 0
}

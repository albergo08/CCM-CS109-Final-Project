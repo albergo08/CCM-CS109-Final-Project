{
 "cells": [
  {
   "cell_type": "code",
<<<<<<< HEAD
<<<<<<< HEAD
   "execution_count": 1,
=======
   "execution_count": 75,
>>>>>>> 4f265ea0c10d9a4de241cbb5a392494d6237ea86
=======
   "execution_count": 242,
>>>>>>> 57f21cc47b83d6bf965d25d03060b6a0c2ec58e0
   "metadata": {
    "collapsed": false
   },
   "outputs": [],
   "source": [
    "%matplotlib inline\n",
    "import numpy as np\n",
    "import scipy as sp\n",
    "from itertools import product\n",
    "import json \n",
    "import csv\n",
    "import matplotlib as mpl\n",
    "import matplotlib.cm as cm\n",
    "import matplotlib.pyplot as plt\n",
    "import pandas as pd\n",
    "pd.set_option('display.width', 500)\n",
    "pd.set_option('display.max_columns', 100)\n",
    "pd.set_option('display.notebook_repr_html', True)\n",
    "import seaborn as sns\n",
    "sns.set_style(\"whitegrid\")\n",
    "sns.set_context(\"poster\")"
   ]
  },
  {
   "cell_type": "markdown",
   "metadata": {},
   "source": [
    "## Cleaning up the Data a bit more\n",
    "\n",
    "Now that we have successfully wrangled our data in a way that allowed us to develop indicators and standardizable quantities, we have to do a few more things to make it operable with the sklearn packages like used in HW3. We removed a transfer index 'Unnamed' and pull out two more columns. ListingStatus is the same for all (we only took completed listings) and only 2 entries of our dataset had ReserveMet as True. The NaNs otherwise would cause problems with standardization."
   ]
  },
  {
   "cell_type": "code",
<<<<<<< HEAD
<<<<<<< HEAD
   "execution_count": 2,
   "metadata": {
    "collapsed": true
   },
   "outputs": [],
   "source": [
    "dftouse=pd.read_csv(\"dftouse.csv\")"
   ]
  },
  {
   "cell_type": "code",
   "execution_count": 3,
=======
   "execution_count": 76,
>>>>>>> 4f265ea0c10d9a4de241cbb5a392494d6237ea86
   "metadata": {
    "collapsed": false
   },
   "outputs": [],
   "source": [
    "del dftouse['Unnamed: 0']\n",
    "del dftouse['ReserveMet']"
   ]
  },
  {
   "cell_type": "code",
   "execution_count": null,
=======
   "execution_count": 243,
>>>>>>> 57f21cc47b83d6bf965d25d03060b6a0c2ec58e0
   "metadata": {
    "collapsed": true
   },
   "outputs": [],
   "source": [
<<<<<<< HEAD
    "dftouse.head()"
=======
    "df=pd.read_csv(\"dftouse_textanalysis.csv\")"
>>>>>>> 57f21cc47b83d6bf965d25d03060b6a0c2ec58e0
   ]
  },
  {
   "cell_type": "code",
<<<<<<< HEAD
<<<<<<< HEAD
   "execution_count": 4,
=======
   "execution_count": 77,
>>>>>>> 4f265ea0c10d9a4de241cbb5a392494d6237ea86
   "metadata": {
    "collapsed": false
   },
   "outputs": [],
   "source": [
<<<<<<< HEAD
    "ZERO_IMPORTANT_VARIABLES = ['BidCount', 'HitCount', 'nPhotos', 'FeedbackScore', 'PositiveFeedbackPercent_x',\n",
    "                            'conditionId']\n",
    "STANDARDIZABLE = ['CurrentPrice','auctionLength', 'HandlingTime', 'MinimumToBid', 'FeedbackScore_x', \n",
    "                  'PositiveFeedbackPercent_x', 'Quantity']"
   ]
  },
  {
   "cell_type": "code",
   "execution_count": 5,
=======
   "execution_count": 244,
>>>>>>> 57f21cc47b83d6bf965d25d03060b6a0c2ec58e0
   "metadata": {
    "collapsed": false
   },
   "outputs": [
    {
     "name": "stdout",
     "output_type": "stream",
     "text": [
      "country [0 1]\n",
      "paymentMethod [0 1]\n",
      "sellingStatus [0 1]\n",
      "topRatedListing [False True]\n",
      "AutoPay [False True]\n",
      "AvailableForPickupDropOff [0 1]\n",
      "BestOfferEnabled [False True]\n",
      "BuyItNowPrice [0 1]\n",
      "GlobalShipping [False True]\n",
      "HandlingTime [  2.   3.   1.   0.  nan   4.]\n",
      "ListingStatus ['Completed' 'Active']\n",
      "ListingType [0 1]\n",
      "QuantityThreshold [0 1]\n",
      "ReserveMet [ nan   0.   1.]\n",
      "ShipToLocations [0 1]\n",
      "SellerBusinessType [1 0]\n",
      "NewUser [False True]\n",
      "FeedbackPrivate [False True]\n",
      "conditionId [5 9 0 1 3 4]\n",
      "bestOfferEnabled [False True]\n",
      "buyItNowAvailable [False True]\n",
      "expeditedShipping [True False]\n",
      "shippingType [1 0]\n",
      "oneDayShippingAvailable [False True]\n"
     ]
    }
   ],
   "source": [
    "for v in dftouse.columns:\n",
    "    l=dftouse[v].unique()\n",
    "    if len(l) <= 10:\n",
    "        print v, l"
   ]
  },
  {
   "cell_type": "code",
   "execution_count": 6,
   "metadata": {
    "collapsed": true
   },
   "outputs": [],
   "source": [
    "from sklearn.cross_validation import train_test_split\n",
    "itrain, itest = train_test_split(xrange(dftouse.shape[0]), train_size=0.7)"
=======
    "del df['Unnamed: 0']\n",
    "del df['Unnamed: 0.1']\n",
    "del df['ReserveMet']\n",
    "del df['ListingStatus']\n",
    "df = df[pd.isnull(df.HitCount) == False]\n"
>>>>>>> 4f265ea0c10d9a4de241cbb5a392494d6237ea86
   ]
  },
  {
   "cell_type": "code",
<<<<<<< HEAD
<<<<<<< HEAD
   "execution_count": 7,
=======
   "execution_count": 78,
>>>>>>> 4f265ea0c10d9a4de241cbb5a392494d6237ea86
=======
   "execution_count": 245,
>>>>>>> 57f21cc47b83d6bf965d25d03060b6a0c2ec58e0
   "metadata": {
    "collapsed": false
   },
   "outputs": [
    {
     "data": {
      "text/html": [
       "<div>\n",
       "<table border=\"1\" class=\"dataframe\">\n",
       "  <thead>\n",
       "    <tr style=\"text-align: right;\">\n",
       "      <th></th>\n",
       "      <th>country</th>\n",
       "      <th>itemId</th>\n",
       "      <th>paymentMethod</th>\n",
       "      <th>postalCode</th>\n",
       "      <th>sellingStatus</th>\n",
       "      <th>topRatedListing</th>\n",
       "      <th>AutoPay</th>\n",
       "      <th>AvailableForPickupDropOff</th>\n",
       "      <th>BestOfferEnabled</th>\n",
       "      <th>BidCount</th>\n",
       "      <th>BuyItNowPrice</th>\n",
       "      <th>FinalPrice</th>\n",
       "      <th>GlobalShipping</th>\n",
       "      <th>HandlingTime</th>\n",
       "      <th>HitCount</th>\n",
       "      <th>ListingType</th>\n",
       "      <th>Location</th>\n",
       "      <th>MinimumToBid</th>\n",
       "      <th>ProductID</th>\n",
       "      <th>Quantity</th>\n",
       "      <th>QuantityThreshold</th>\n",
       "      <th>ShipToLocations</th>\n",
       "      <th>Title</th>\n",
       "      <th>UserID</th>\n",
       "      <th>FeedbackScore</th>\n",
       "      <th>PositiveFeedbackPercent</th>\n",
       "      <th>SellerBusinessType</th>\n",
       "      <th>NewUser</th>\n",
       "      <th>nPhotos</th>\n",
       "      <th>nPaymentMethods</th>\n",
       "      <th>nShippingCountries</th>\n",
       "      <th>conditionId</th>\n",
       "      <th>bestOfferEnabled</th>\n",
       "      <th>buyItNowAvailable</th>\n",
       "      <th>expeditedShipping</th>\n",
       "      <th>shippingType</th>\n",
       "      <th>oneDayShippingAvailable</th>\n",
       "      <th>RatingsPresent</th>\n",
       "      <th>AverageRating</th>\n",
       "      <th>NegFeedback30Day</th>\n",
       "      <th>NegFeedback365Day</th>\n",
       "      <th>PosFeedback30Day</th>\n",
       "      <th>PosFeedback365Day</th>\n",
       "      <th>auctionLength</th>\n",
       "      <th>enoughKeyWords</th>\n",
       "    </tr>\n",
       "  </thead>\n",
       "  <tbody>\n",
       "    <tr>\n",
       "      <th>0</th>\n",
       "      <td>1</td>\n",
       "      <td>131642735687</td>\n",
       "      <td>1</td>\n",
       "      <td>10590</td>\n",
       "      <td>1</td>\n",
       "      <td>False</td>\n",
       "      <td>False</td>\n",
       "      <td>0</td>\n",
       "      <td>False</td>\n",
       "      <td>41</td>\n",
       "      <td>NaN</td>\n",
       "      <td>202.09</td>\n",
       "      <td>False</td>\n",
       "      <td>2</td>\n",
       "      <td>190</td>\n",
       "      <td>1</td>\n",
       "      <td>South Salem, New York</td>\n",
       "      <td>204.59</td>\n",
       "      <td>NaN</td>\n",
       "      <td>1</td>\n",
       "      <td>0</td>\n",
       "      <td>US</td>\n",
       "      <td>iPhone 5s-32gb-Space Gray-unlocked</td>\n",
       "      <td>jdwein1980</td>\n",
       "      <td>19</td>\n",
       "      <td>100.0</td>\n",
       "      <td>2</td>\n",
       "      <td>False</td>\n",
       "      <td>3</td>\n",
       "      <td>1</td>\n",
       "      <td>1</td>\n",
       "      <td>4</td>\n",
       "      <td>False</td>\n",
       "      <td>False</td>\n",
       "      <td>True</td>\n",
       "      <td>2</td>\n",
       "      <td>False</td>\n",
       "      <td>False</td>\n",
       "      <td>NaN</td>\n",
       "      <td>0</td>\n",
       "      <td>0</td>\n",
       "      <td>5</td>\n",
       "      <td>5</td>\n",
       "      <td>168</td>\n",
       "      <td>False</td>\n",
       "    </tr>\n",
       "    <tr>\n",
       "      <th>1</th>\n",
       "      <td>1</td>\n",
       "      <td>262126933108</td>\n",
       "      <td>1</td>\n",
       "      <td>35004</td>\n",
       "      <td>1</td>\n",
       "      <td>False</td>\n",
       "      <td>False</td>\n",
       "      <td>0</td>\n",
       "      <td>False</td>\n",
       "      <td>4</td>\n",
       "      <td>NaN</td>\n",
       "      <td>260.00</td>\n",
       "      <td>False</td>\n",
       "      <td>3</td>\n",
       "      <td>32</td>\n",
       "      <td>1</td>\n",
       "      <td>Moody, Alabama</td>\n",
       "      <td>265.00</td>\n",
       "      <td>NaN</td>\n",
       "      <td>1</td>\n",
       "      <td>0</td>\n",
       "      <td>US</td>\n",
       "      <td>apple iphone 5s 32gb</td>\n",
       "      <td>forwhlrcr1965</td>\n",
       "      <td>565</td>\n",
       "      <td>100.0</td>\n",
       "      <td>1</td>\n",
       "      <td>False</td>\n",
       "      <td>2</td>\n",
       "      <td>1</td>\n",
       "      <td>1</td>\n",
       "      <td>4</td>\n",
       "      <td>False</td>\n",
       "      <td>False</td>\n",
       "      <td>True</td>\n",
       "      <td>0</td>\n",
       "      <td>False</td>\n",
       "      <td>False</td>\n",
       "      <td>NaN</td>\n",
       "      <td>0</td>\n",
       "      <td>0</td>\n",
       "      <td>3</td>\n",
       "      <td>32</td>\n",
       "      <td>120</td>\n",
       "      <td>False</td>\n",
       "    </tr>\n",
       "    <tr>\n",
       "      <th>2</th>\n",
       "      <td>1</td>\n",
       "      <td>252155964081</td>\n",
       "      <td>1</td>\n",
       "      <td>98104</td>\n",
       "      <td>1</td>\n",
       "      <td>False</td>\n",
       "      <td>False</td>\n",
       "      <td>0</td>\n",
       "      <td>False</td>\n",
       "      <td>3</td>\n",
       "      <td>NaN</td>\n",
       "      <td>152.50</td>\n",
       "      <td>False</td>\n",
       "      <td>2</td>\n",
       "      <td>168</td>\n",
       "      <td>1</td>\n",
       "      <td>Seattle, Washington</td>\n",
       "      <td>155.00</td>\n",
       "      <td>168534287</td>\n",
       "      <td>1</td>\n",
       "      <td>0</td>\n",
       "      <td>Worldwide</td>\n",
       "      <td>Apple iPhone 5s - 32GB SPACE GRAY AT&amp;T</td>\n",
       "      <td>15-alice</td>\n",
       "      <td>15</td>\n",
       "      <td>94.1</td>\n",
       "      <td>1</td>\n",
       "      <td>False</td>\n",
       "      <td>2</td>\n",
       "      <td>1</td>\n",
       "      <td>1</td>\n",
       "      <td>4</td>\n",
       "      <td>False</td>\n",
       "      <td>False</td>\n",
       "      <td>False</td>\n",
       "      <td>1</td>\n",
       "      <td>False</td>\n",
       "      <td>False</td>\n",
       "      <td>NaN</td>\n",
       "      <td>0</td>\n",
       "      <td>1</td>\n",
       "      <td>2</td>\n",
       "      <td>17</td>\n",
       "      <td>120</td>\n",
       "      <td>True</td>\n",
       "    </tr>\n",
       "    <tr>\n",
       "      <th>3</th>\n",
       "      <td>1</td>\n",
       "      <td>252163774777</td>\n",
       "      <td>1</td>\n",
       "      <td>98104</td>\n",
       "      <td>1</td>\n",
       "      <td>False</td>\n",
       "      <td>False</td>\n",
       "      <td>0</td>\n",
       "      <td>False</td>\n",
       "      <td>1</td>\n",
       "      <td>NaN</td>\n",
       "      <td>99.00</td>\n",
       "      <td>False</td>\n",
       "      <td>2</td>\n",
       "      <td>143</td>\n",
       "      <td>1</td>\n",
       "      <td>Seattle, Washington</td>\n",
       "      <td>100.00</td>\n",
       "      <td>168553370</td>\n",
       "      <td>1</td>\n",
       "      <td>0</td>\n",
       "      <td>US</td>\n",
       "      <td>Apple iPhone 5s - 32GB - Silver (Verizon) Smar...</td>\n",
       "      <td>15-alice</td>\n",
       "      <td>15</td>\n",
       "      <td>94.1</td>\n",
       "      <td>1</td>\n",
       "      <td>False</td>\n",
       "      <td>7</td>\n",
       "      <td>1</td>\n",
       "      <td>1</td>\n",
       "      <td>0</td>\n",
       "      <td>False</td>\n",
       "      <td>False</td>\n",
       "      <td>True</td>\n",
       "      <td>0</td>\n",
       "      <td>False</td>\n",
       "      <td>False</td>\n",
       "      <td>NaN</td>\n",
       "      <td>0</td>\n",
       "      <td>1</td>\n",
       "      <td>2</td>\n",
       "      <td>17</td>\n",
       "      <td>120</td>\n",
       "      <td>False</td>\n",
       "    </tr>\n",
       "    <tr>\n",
       "      <th>4</th>\n",
       "      <td>1</td>\n",
       "      <td>252171170160</td>\n",
       "      <td>1</td>\n",
       "      <td>98104</td>\n",
       "      <td>1</td>\n",
       "      <td>False</td>\n",
       "      <td>True</td>\n",
       "      <td>0</td>\n",
       "      <td>False</td>\n",
       "      <td>5</td>\n",
       "      <td>NaN</td>\n",
       "      <td>96.00</td>\n",
       "      <td>False</td>\n",
       "      <td>2</td>\n",
       "      <td>357</td>\n",
       "      <td>1</td>\n",
       "      <td>Seattle, Washington</td>\n",
       "      <td>97.00</td>\n",
       "      <td>168534287</td>\n",
       "      <td>1</td>\n",
       "      <td>0</td>\n",
       "      <td>US</td>\n",
       "      <td>Apple iPhone 5s - 32GB SPACE GRAY AT&amp;T</td>\n",
       "      <td>15-alice</td>\n",
       "      <td>15</td>\n",
       "      <td>94.1</td>\n",
       "      <td>1</td>\n",
       "      <td>False</td>\n",
       "      <td>2</td>\n",
       "      <td>1</td>\n",
       "      <td>1</td>\n",
       "      <td>4</td>\n",
       "      <td>False</td>\n",
       "      <td>False</td>\n",
       "      <td>False</td>\n",
       "      <td>1</td>\n",
       "      <td>False</td>\n",
       "      <td>False</td>\n",
       "      <td>NaN</td>\n",
       "      <td>0</td>\n",
       "      <td>1</td>\n",
       "      <td>2</td>\n",
       "      <td>17</td>\n",
       "      <td>120</td>\n",
       "      <td>True</td>\n",
       "    </tr>\n",
       "  </tbody>\n",
       "</table>\n",
       "</div>"
      ],
      "text/plain": [
       "   country        itemId  paymentMethod postalCode  sellingStatus topRatedListing AutoPay  AvailableForPickupDropOff BestOfferEnabled  BidCount  BuyItNowPrice  FinalPrice GlobalShipping  HandlingTime  HitCount  ListingType               Location  MinimumToBid  ProductID  Quantity  QuantityThreshold ShipToLocations                                              Title         UserID  FeedbackScore  PositiveFeedbackPercent  SellerBusinessType NewUser  nPhotos  nPaymentMethods  nShippingCountries  \\\n",
       "0        1  131642735687              1      10590              1           False   False                          0            False        41            NaN      202.09          False             2       190            1  South Salem, New York        204.59        NaN         1                  0              US                 iPhone 5s-32gb-Space Gray-unlocked     jdwein1980             19                    100.0                   2   False        3                1                   1   \n",
       "1        1  262126933108              1      35004              1           False   False                          0            False         4            NaN      260.00          False             3        32            1         Moody, Alabama        265.00        NaN         1                  0              US                               apple iphone 5s 32gb  forwhlrcr1965            565                    100.0                   1   False        2                1                   1   \n",
       "2        1  252155964081              1      98104              1           False   False                          0            False         3            NaN      152.50          False             2       168            1    Seattle, Washington        155.00  168534287         1                  0       Worldwide             Apple iPhone 5s - 32GB SPACE GRAY AT&T       15-alice             15                     94.1                   1   False        2                1                   1   \n",
       "3        1  252163774777              1      98104              1           False   False                          0            False         1            NaN       99.00          False             2       143            1    Seattle, Washington        100.00  168553370         1                  0              US  Apple iPhone 5s - 32GB - Silver (Verizon) Smar...       15-alice             15                     94.1                   1   False        7                1                   1   \n",
       "4        1  252171170160              1      98104              1           False    True                          0            False         5            NaN       96.00          False             2       357            1    Seattle, Washington         97.00  168534287         1                  0              US             Apple iPhone 5s - 32GB SPACE GRAY AT&T       15-alice             15                     94.1                   1   False        2                1                   1   \n",
       "\n",
       "   conditionId bestOfferEnabled buyItNowAvailable expeditedShipping  shippingType oneDayShippingAvailable RatingsPresent  AverageRating  NegFeedback30Day  NegFeedback365Day  PosFeedback30Day  PosFeedback365Day  auctionLength enoughKeyWords  \n",
       "0            4            False             False              True             2                   False          False            NaN                 0                  0                 5                  5            168          False  \n",
       "1            4            False             False              True             0                   False          False            NaN                 0                  0                 3                 32            120          False  \n",
       "2            4            False             False             False             1                   False          False            NaN                 0                  1                 2                 17            120           True  \n",
       "3            0            False             False              True             0                   False          False            NaN                 0                  1                 2                 17            120          False  \n",
       "4            4            False             False             False             1                   False          False            NaN                 0                  1                 2                 17            120           True  "
      ]
     },
     "execution_count": 245,
     "metadata": {},
     "output_type": "execute_result"
    }
   ],
   "source": [
    "dftouse = df.copy()\n",
    "dftouse.head()"
   ]
  },
  {
   "cell_type": "markdown",
   "metadata": {},
   "source": [
    "## A quick look\n",
    "\n",
    "Let's take a first glance at the comparison of some of our important variables. Two important important variables that tell us about a successful auction are the FinalPrice and what the sellingStatus of the item is, which is 0 for a sold item and 1 for an item that did not sell. We also look at:\n",
    "\n",
    "        - RatingsPresent: whether or not they made their ratings visible\n",
    "        - PositiveFeedbackPercent: if this is 100, people never complain about this seller\n",
    "        - conditionId: if the item new or used, and to what extent is it used. New is 9, 0-2 is not fully functional"
   ]
  },
  {
   "cell_type": "code",
   "execution_count": 247,
   "metadata": {
    "collapsed": false
   },
   "outputs": [
    {
     "data": {
      "text/plain": [
       "<seaborn.axisgrid.PairGrid at 0x120d1b250>"
      ]
     },
     "execution_count": 247,
     "metadata": {},
     "output_type": "execute_result"
    },
    {
     "data": {
      "image/png": "iVBORw0KGgoAAAANSUhEUgAAA6cAAANZCAYAAADzhEgZAAAABHNCSVQICAgIfAhkiAAAAAlwSFlz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\nRK5CYII=\n",
      "text/plain": [
       "<matplotlib.figure.Figure at 0x13d21f810>"
      ]
     },
     "metadata": {},
     "output_type": "display_data"
    }
   ],
   "source": [
    "import seaborn as sns\n",
    "sns.set()\n",
    "\n",
    "sns.pairplot(df, hue='sellingStatus', vars=['FinalPrice','RatingsPresent','PositiveFeedbackPercent','conditionId'], size=3)"
   ]
  },
  {
   "cell_type": "markdown",
   "metadata": {},
   "source": [
    "We see that very few people have a positive feedback percent in the range between 0 and 100, and that most of the ratings are either near 0% or near 100%. This tells us that very few ebay sellers are polarizing - either they are consistently bad or good, or some of those near 0% and 100% haven't sold many items so their small sample size naturally condones something near 0% or 100%. The most common condition of an item is conditionId 4, which, according to our dataframe_manipulation ipython notebook, indicates a conditionId of \"Used\". Everyone with a 0% positive feedback rating, irregardless of item condition, did not successfully sell their item. The vast majority of people also have positive feedback, which is good for worldly morality! Interestingly, while overall our dataframe is split ~65% sold 35% didn't sell, when people made their ratings present, a larger portion of them failed to sell. "
   ]
  },
  {
   "cell_type": "markdown",
   "metadata": {},
   "source": [
    "                "
   ]
  },
  {
   "cell_type": "markdown",
   "metadata": {},
   "source": [
    "## Now we will do some Feature engineering\n",
    "\n",
    "This is to figure out which variables actually make a distinction on item sellability. We separate our variables in similar manner to Homework 3. Certain parameters that are zero can be significant indicators of specific characteristics of an auction. For example, if the HitCount is zero, that means nobody really bothered to interact with the auction at all."
   ]
  },
  {
   "cell_type": "code",
   "execution_count": 248,
   "metadata": {
    "collapsed": false
   },
   "outputs": [],
   "source": [
    "ZERO_IMPORTANT_VARIABLES = ['BidCount', 'HitCount', 'nPhotos', 'FeedbackScore', 'PositiveFeedbackPercent',\n",
    "                           'NegFeedback30Day', 'NegFeedback365Day', 'PosFeedback30Day', 'PosFeedback365Day']\n",
    "STANDARDIZABLE = ZERO_IMPORTANT_VARIABLES + ['FinalPrice','auctionLength', 'HandlingTime', 'FeedbackScore', \n",
    "                  'PositiveFeedbackPercent', 'Quantity', 'nPaymentMethods', 'nShippingCountries', 'auctionLength']\n",
    "INDICATORS = []"
   ]
  },
  {
   "cell_type": "markdown",
   "metadata": {},
   "source": [
    "**We go ahead and make our list of indicators, making sure to not duplicate indicator names based on the list they are in.**"
   ]
  },
  {
   "cell_type": "code",
   "execution_count": 249,
   "metadata": {
    "collapsed": false
   },
   "outputs": [
    {
     "name": "stdout",
     "output_type": "stream",
     "text": [
      "country [1 0]\n",
      "paymentMethod [1 0]\n",
      "topRatedListing [False True]\n",
      "AutoPay [False True]\n",
      "AvailableForPickupDropOff [0 1]\n",
      "BestOfferEnabled [False True]\n",
      "GlobalShipping [False True]\n",
      "HandlingTime [ 2.  3.  1.  0.]\n",
      "ListingType [1 0]\n",
      "QuantityThreshold [  0.  10.]\n",
      "SellerBusinessType [2 1 0]\n",
      "NewUser [False True]\n",
      "nPaymentMethods [1 2 4 3]\n",
      "conditionId [4 0 9 8 6 5]\n",
      "bestOfferEnabled [False True]\n",
      "buyItNowAvailable [False True]\n",
      "expeditedShipping [True False]\n",
      "shippingType [ 2.  0.  1.  3.  4.  8.]\n",
      "oneDayShippingAvailable [False True]\n",
      "RatingsPresent [False True]\n",
      "enoughKeyWords [False True]\n",
      "BidCount\n",
      "HitCount\n",
      "nPhotos\n",
      "FeedbackScore\n",
      "PositiveFeedbackPercent\n",
      "NegFeedback30Day\n",
      "NegFeedback365Day\n",
      "PosFeedback30Day\n",
      "PosFeedback365Day\n",
      "['i_country', 'i_paymentMethod', 'i_topRatedListing', 'i_AutoPay', 'i_AvailableForPickupDropOff', 'i_BestOfferEnabled', 'i_GlobalShipping', 'i_HandlingTime', 'i_ListingType', 'i_QuantityThreshold', 'i_SellerBusinessType', 'i_NewUser', 'i_nPaymentMethods', 'i_conditionId', 'i_bestOfferEnabled', 'i_buyItNowAvailable', 'i_expeditedShipping', 'i_shippingType', 'i_oneDayShippingAvailable', 'i_RatingsPresent', 'i_enoughKeyWords', 'i_BidCount', 'i_HitCount', 'i_nPhotos', 'i_FeedbackScore', 'i_PositiveFeedbackPercent', 'i_NegFeedback30Day', 'i_NegFeedback365Day', 'i_PosFeedback30Day', 'i_PosFeedback365Day']\n"
     ]
    }
   ],
   "source": [
    "for v in df.columns:\n",
    "    if v != 'sellingStatus':\n",
    "        l=df[v].unique()\n",
    "        if len(l) <= 10:\n",
    "            if v not in STANDARDIZABLE:\n",
    "                dftouse.rename(columns={v:'i_'+v}, inplace=True)\n",
    "                INDICATORS.append('i_'+v)\n",
    "            else:\n",
    "                dftouse['i_'+v]=(dftouse[v] > 0.0)*1\n",
    "                INDICATORS.append('i_'+v)\n",
    "            print v, l\n",
    "\n",
    "for v in ZERO_IMPORTANT_VARIABLES:\n",
    "    dftouse['i_'+v]=(dftouse[v] > 0.0)*1\n",
    "    INDICATORS.append('i_'+v)\n",
    "    print v\n",
    "    \n",
    "#INDICATORS.remove('i_sellingStatus')\n",
    "print INDICATORS\n"
   ]
  },
  {
   "cell_type": "markdown",
   "metadata": {},
   "source": [
    "We divide our dataframe up into a training and a test set in order to run our regressions and SVMs on the data. Our goal here is to figure out what probability of selling maximizes our profit, so we look to get the best estimate of sellingStatus so that we can use it later on."
   ]
  },
  {
   "cell_type": "code",
   "execution_count": 250,
   "metadata": {
    "collapsed": true
   },
   "outputs": [],
   "source": [
    "from sklearn.cross_validation import train_test_split\n",
    "itrain, itest = train_test_split(xrange(dftouse.shape[0]), train_size=0.7)"
   ]
  },
  {
   "cell_type": "code",
   "execution_count": 251,
   "metadata": {
    "collapsed": true
   },
   "outputs": [],
   "source": [
    "mask=np.ones(dftouse.shape[0], dtype='int')\n",
    "mask[itrain]=1\n",
    "mask[itest]=0\n",
    "mask = (mask==1)"
   ]
  },
  {
   "cell_type": "code",
   "execution_count": 252,
   "metadata": {
    "collapsed": false
   },
   "outputs": [
    {
     "data": {
      "text/plain": [
       "((9267,), 6486)"
      ]
     },
     "execution_count": 252,
     "metadata": {},
     "output_type": "execute_result"
    }
   ],
   "source": [
    "mask.shape, mask.sum()"
   ]
  },
  {
<<<<<<< HEAD
   "cell_type": "code",
   "execution_count": 85,
   "metadata": {
    "collapsed": false
   },
   "outputs": [
    {
     "data": {
      "text/plain": [
       "((9267,), 6486)"
      ]
     },
<<<<<<< HEAD
     "execution_count": 7,
=======
     "execution_count": 85,
>>>>>>> 4f265ea0c10d9a4de241cbb5a392494d6237ea86
     "metadata": {},
     "output_type": "execute_result"
    }
   ],
   "source": [
<<<<<<< HEAD
    "mask=np.ones(dftouse.shape[0], dtype='int')\n",
    "mask[itrain]=1\n",
    "mask[itest]=0\n",
    "mask = (mask==1)"
=======
    "mask.shape, mask.sum()"
=======
   "cell_type": "markdown",
   "metadata": {},
   "source": [
    "Here we standardize our two masks (train and test) separately to make them distinct so that we have an essentially independent dataset to test our predictor on. Doing so allows us to better understand if we are doing a good job with predicting *any* set of iPhone 5s 32gb auction data and not just predicting the data we already had really well."
>>>>>>> 57f21cc47b83d6bf965d25d03060b6a0c2ec58e0
   ]
  },
  {
   "cell_type": "code",
   "execution_count": 253,
   "metadata": {
    "collapsed": false
   },
   "outputs": [
    {
     "data": {
      "text/html": [
       "<div>\n",
       "<table border=\"1\" class=\"dataframe\">\n",
       "  <thead>\n",
       "    <tr style=\"text-align: right;\">\n",
       "      <th></th>\n",
       "      <th>i_country</th>\n",
       "      <th>itemId</th>\n",
       "      <th>i_paymentMethod</th>\n",
       "      <th>postalCode</th>\n",
       "      <th>sellingStatus</th>\n",
       "      <th>i_topRatedListing</th>\n",
       "      <th>i_AutoPay</th>\n",
       "      <th>i_AvailableForPickupDropOff</th>\n",
       "      <th>i_BestOfferEnabled</th>\n",
       "      <th>BidCount</th>\n",
       "      <th>BuyItNowPrice</th>\n",
       "      <th>FinalPrice</th>\n",
       "      <th>i_GlobalShipping</th>\n",
       "      <th>HandlingTime</th>\n",
       "      <th>HitCount</th>\n",
       "      <th>i_ListingType</th>\n",
       "      <th>Location</th>\n",
       "      <th>MinimumToBid</th>\n",
       "      <th>ProductID</th>\n",
       "      <th>Quantity</th>\n",
       "      <th>i_QuantityThreshold</th>\n",
       "      <th>ShipToLocations</th>\n",
       "      <th>Title</th>\n",
       "      <th>UserID</th>\n",
       "      <th>FeedbackScore</th>\n",
       "      <th>PositiveFeedbackPercent</th>\n",
       "      <th>i_SellerBusinessType</th>\n",
       "      <th>i_NewUser</th>\n",
       "      <th>nPhotos</th>\n",
       "      <th>nPaymentMethods</th>\n",
       "      <th>nShippingCountries</th>\n",
       "      <th>i_conditionId</th>\n",
       "      <th>i_bestOfferEnabled</th>\n",
       "      <th>i_buyItNowAvailable</th>\n",
       "      <th>i_expeditedShipping</th>\n",
       "      <th>i_shippingType</th>\n",
       "      <th>i_oneDayShippingAvailable</th>\n",
       "      <th>i_RatingsPresent</th>\n",
       "      <th>AverageRating</th>\n",
       "      <th>NegFeedback30Day</th>\n",
       "      <th>NegFeedback365Day</th>\n",
       "      <th>PosFeedback30Day</th>\n",
       "      <th>PosFeedback365Day</th>\n",
       "      <th>auctionLength</th>\n",
       "      <th>i_enoughKeyWords</th>\n",
       "      <th>i_HandlingTime</th>\n",
       "      <th>i_nPaymentMethods</th>\n",
       "      <th>i_BidCount</th>\n",
       "      <th>i_HitCount</th>\n",
       "      <th>i_nPhotos</th>\n",
       "      <th>i_FeedbackScore</th>\n",
       "      <th>i_PositiveFeedbackPercent</th>\n",
       "      <th>i_NegFeedback30Day</th>\n",
       "      <th>i_NegFeedback365Day</th>\n",
       "      <th>i_PosFeedback30Day</th>\n",
       "      <th>i_PosFeedback365Day</th>\n",
       "    </tr>\n",
       "  </thead>\n",
       "  <tbody>\n",
       "    <tr>\n",
       "      <th>0</th>\n",
       "      <td>1</td>\n",
       "      <td>131642735687</td>\n",
       "      <td>1</td>\n",
       "      <td>10590</td>\n",
       "      <td>1</td>\n",
       "      <td>False</td>\n",
       "      <td>False</td>\n",
       "      <td>0</td>\n",
       "      <td>False</td>\n",
       "      <td>2.768689</td>\n",
       "      <td>NaN</td>\n",
       "      <td>-0.338857</td>\n",
       "      <td>False</td>\n",
       "      <td>0.422011</td>\n",
       "      <td>-0.033851</td>\n",
       "      <td>1</td>\n",
       "      <td>South Salem, New York</td>\n",
       "      <td>204.59</td>\n",
       "      <td>NaN</td>\n",
       "      <td>-0.044165</td>\n",
       "      <td>0</td>\n",
       "      <td>US</td>\n",
       "      <td>iPhone 5s-32gb-Space Gray-unlocked</td>\n",
       "      <td>jdwein1980</td>\n",
       "      <td>-0.234730</td>\n",
       "      <td>0.302825</td>\n",
       "      <td>2</td>\n",
       "      <td>False</td>\n",
       "      <td>-0.815745</td>\n",
       "      <td>-0.070461</td>\n",
       "      <td>-0.828182</td>\n",
       "      <td>4</td>\n",
       "      <td>False</td>\n",
       "      <td>False</td>\n",
       "      <td>True</td>\n",
       "      <td>2</td>\n",
       "      <td>False</td>\n",
       "      <td>False</td>\n",
       "      <td>NaN</td>\n",
       "      <td>-0.159335</td>\n",
       "      <td>-0.248184</td>\n",
       "      <td>-0.275525</td>\n",
       "      <td>-0.316027</td>\n",
       "      <td>0.046357</td>\n",
       "      <td>False</td>\n",
       "      <td>1</td>\n",
       "      <td>1</td>\n",
       "      <td>1</td>\n",
       "      <td>1</td>\n",
       "      <td>1</td>\n",
       "      <td>1</td>\n",
       "      <td>1</td>\n",
       "      <td>0</td>\n",
       "      <td>0</td>\n",
       "      <td>1</td>\n",
       "      <td>1</td>\n",
       "    </tr>\n",
       "    <tr>\n",
       "      <th>3</th>\n",
       "      <td>1</td>\n",
       "      <td>252163774777</td>\n",
       "      <td>1</td>\n",
       "      <td>98104</td>\n",
       "      <td>1</td>\n",
       "      <td>False</td>\n",
       "      <td>False</td>\n",
       "      <td>0</td>\n",
       "      <td>False</td>\n",
       "      <td>-0.457026</td>\n",
       "      <td>NaN</td>\n",
       "      <td>-0.992598</td>\n",
       "      <td>False</td>\n",
       "      <td>0.422011</td>\n",
       "      <td>-0.039111</td>\n",
       "      <td>1</td>\n",
       "      <td>Seattle, Washington</td>\n",
       "      <td>100.00</td>\n",
       "      <td>168553370</td>\n",
       "      <td>-0.044165</td>\n",
       "      <td>0</td>\n",
       "      <td>US</td>\n",
       "      <td>Apple iPhone 5s - 32GB - Silver (Verizon) Smar...</td>\n",
       "      <td>15-alice</td>\n",
       "      <td>-0.234882</td>\n",
       "      <td>0.074983</td>\n",
       "      <td>1</td>\n",
       "      <td>False</td>\n",
       "      <td>0.495593</td>\n",
       "      <td>-0.070461</td>\n",
       "      <td>-0.828182</td>\n",
       "      <td>0</td>\n",
       "      <td>False</td>\n",
       "      <td>False</td>\n",
       "      <td>True</td>\n",
       "      <td>0</td>\n",
       "      <td>False</td>\n",
       "      <td>False</td>\n",
       "      <td>NaN</td>\n",
       "      <td>-0.159335</td>\n",
       "      <td>-0.210775</td>\n",
       "      <td>-0.288340</td>\n",
       "      <td>-0.311903</td>\n",
       "      <td>-0.059303</td>\n",
       "      <td>False</td>\n",
       "      <td>1</td>\n",
       "      <td>1</td>\n",
       "      <td>1</td>\n",
       "      <td>1</td>\n",
       "      <td>1</td>\n",
       "      <td>1</td>\n",
       "      <td>1</td>\n",
       "      <td>0</td>\n",
       "      <td>1</td>\n",
       "      <td>1</td>\n",
       "      <td>1</td>\n",
       "    </tr>\n",
       "    <tr>\n",
       "      <th>4</th>\n",
       "      <td>1</td>\n",
       "      <td>252171170160</td>\n",
       "      <td>1</td>\n",
       "      <td>98104</td>\n",
       "      <td>1</td>\n",
       "      <td>False</td>\n",
       "      <td>True</td>\n",
       "      <td>0</td>\n",
       "      <td>False</td>\n",
       "      <td>-0.134455</td>\n",
       "      <td>NaN</td>\n",
       "      <td>-1.011622</td>\n",
       "      <td>False</td>\n",
       "      <td>0.422011</td>\n",
       "      <td>-0.015161</td>\n",
       "      <td>1</td>\n",
       "      <td>Seattle, Washington</td>\n",
       "      <td>97.00</td>\n",
       "      <td>168534287</td>\n",
       "      <td>-0.044165</td>\n",
       "      <td>0</td>\n",
       "      <td>US</td>\n",
       "      <td>Apple iPhone 5s - 32GB SPACE GRAY AT&amp;T</td>\n",
       "      <td>15-alice</td>\n",
       "      <td>-0.234882</td>\n",
       "      <td>0.074983</td>\n",
       "      <td>1</td>\n",
       "      <td>False</td>\n",
       "      <td>-1.143580</td>\n",
       "      <td>-0.070461</td>\n",
       "      <td>-0.828182</td>\n",
       "      <td>4</td>\n",
       "      <td>False</td>\n",
       "      <td>False</td>\n",
       "      <td>False</td>\n",
       "      <td>1</td>\n",
       "      <td>False</td>\n",
       "      <td>False</td>\n",
       "      <td>NaN</td>\n",
       "      <td>-0.159335</td>\n",
       "      <td>-0.210775</td>\n",
       "      <td>-0.288340</td>\n",
       "      <td>-0.311903</td>\n",
       "      <td>-0.059303</td>\n",
       "      <td>True</td>\n",
       "      <td>1</td>\n",
       "      <td>1</td>\n",
       "      <td>1</td>\n",
       "      <td>1</td>\n",
       "      <td>1</td>\n",
       "      <td>1</td>\n",
       "      <td>1</td>\n",
       "      <td>0</td>\n",
       "      <td>1</td>\n",
       "      <td>1</td>\n",
       "      <td>1</td>\n",
       "    </tr>\n",
       "    <tr>\n",
       "      <th>5</th>\n",
       "      <td>1</td>\n",
       "      <td>252171162991</td>\n",
       "      <td>1</td>\n",
       "      <td>98104</td>\n",
       "      <td>1</td>\n",
       "      <td>False</td>\n",
       "      <td>False</td>\n",
       "      <td>0</td>\n",
       "      <td>False</td>\n",
       "      <td>-0.295740</td>\n",
       "      <td>NaN</td>\n",
       "      <td>-1.100403</td>\n",
       "      <td>False</td>\n",
       "      <td>0.422011</td>\n",
       "      <td>-0.020981</td>\n",
       "      <td>1</td>\n",
       "      <td>Seattle, Washington</td>\n",
       "      <td>83.00</td>\n",
       "      <td>168553370</td>\n",
       "      <td>-0.044165</td>\n",
       "      <td>0</td>\n",
       "      <td>US</td>\n",
       "      <td>Apple iPhone 5s - 32GB - Silver (Verizon) Smar...</td>\n",
       "      <td>15-alice</td>\n",
       "      <td>-0.234882</td>\n",
       "      <td>0.074983</td>\n",
       "      <td>1</td>\n",
       "      <td>False</td>\n",
       "      <td>0.495593</td>\n",
       "      <td>-0.070461</td>\n",
       "      <td>-0.828182</td>\n",
       "      <td>0</td>\n",
       "      <td>False</td>\n",
       "      <td>False</td>\n",
       "      <td>True</td>\n",
       "      <td>0</td>\n",
       "      <td>False</td>\n",
       "      <td>False</td>\n",
       "      <td>NaN</td>\n",
       "      <td>-0.159335</td>\n",
       "      <td>-0.210775</td>\n",
       "      <td>-0.288340</td>\n",
       "      <td>-0.311903</td>\n",
       "      <td>-0.059303</td>\n",
       "      <td>False</td>\n",
       "      <td>1</td>\n",
       "      <td>1</td>\n",
       "      <td>1</td>\n",
       "      <td>1</td>\n",
       "      <td>1</td>\n",
       "      <td>1</td>\n",
       "      <td>1</td>\n",
       "      <td>0</td>\n",
       "      <td>1</td>\n",
       "      <td>1</td>\n",
       "      <td>1</td>\n",
       "    </tr>\n",
       "    <tr>\n",
       "      <th>8</th>\n",
       "      <td>1</td>\n",
       "      <td>172006197886</td>\n",
       "      <td>1</td>\n",
       "      <td>27045</td>\n",
       "      <td>1</td>\n",
       "      <td>False</td>\n",
       "      <td>True</td>\n",
       "      <td>0</td>\n",
       "      <td>False</td>\n",
       "      <td>0.349403</td>\n",
       "      <td>NaN</td>\n",
       "      <td>-0.367964</td>\n",
       "      <td>True</td>\n",
       "      <td>0.422011</td>\n",
       "      <td>-0.002515</td>\n",
       "      <td>1</td>\n",
       "      <td>Rural Hall, North Carolina</td>\n",
       "      <td>200.00</td>\n",
       "      <td>168553370</td>\n",
       "      <td>-0.044165</td>\n",
       "      <td>0</td>\n",
       "      <td>[US, CA, GB, DK, RO, SK, BG, CZ, FI, HU, LV, L...</td>\n",
       "      <td>Apple iPhone 5 32GB CUSTOM BlacK/Silver Verizo...</td>\n",
       "      <td>clint22468</td>\n",
       "      <td>-0.205068</td>\n",
       "      <td>0.283516</td>\n",
       "      <td>1</td>\n",
       "      <td>False</td>\n",
       "      <td>2.134767</td>\n",
       "      <td>-0.070461</td>\n",
       "      <td>1.237966</td>\n",
       "      <td>4</td>\n",
       "      <td>False</td>\n",
       "      <td>False</td>\n",
       "      <td>False</td>\n",
       "      <td>3</td>\n",
       "      <td>False</td>\n",
       "      <td>True</td>\n",
       "      <td>4.9275</td>\n",
       "      <td>-0.159335</td>\n",
       "      <td>-0.210775</td>\n",
       "      <td>-0.121745</td>\n",
       "      <td>-0.245575</td>\n",
       "      <td>0.046357</td>\n",
       "      <td>False</td>\n",
       "      <td>1</td>\n",
       "      <td>1</td>\n",
       "      <td>1</td>\n",
       "      <td>1</td>\n",
       "      <td>1</td>\n",
       "      <td>1</td>\n",
       "      <td>1</td>\n",
       "      <td>0</td>\n",
       "      <td>1</td>\n",
       "      <td>1</td>\n",
       "      <td>1</td>\n",
       "    </tr>\n",
       "  </tbody>\n",
       "</table>\n",
       "</div>"
      ],
      "text/plain": [
       "   i_country        itemId  i_paymentMethod postalCode  sellingStatus i_topRatedListing i_AutoPay  i_AvailableForPickupDropOff i_BestOfferEnabled  BidCount  BuyItNowPrice  FinalPrice i_GlobalShipping  HandlingTime  HitCount  i_ListingType                    Location  MinimumToBid  ProductID  Quantity  i_QuantityThreshold                                    ShipToLocations                                              Title      UserID  FeedbackScore  PositiveFeedbackPercent  \\\n",
       "0          1  131642735687                1      10590              1             False     False                            0              False  2.768689            NaN   -0.338857            False      0.422011 -0.033851              1       South Salem, New York        204.59        NaN -0.044165                    0                                                 US                 iPhone 5s-32gb-Space Gray-unlocked  jdwein1980      -0.234730                 0.302825   \n",
       "3          1  252163774777                1      98104              1             False     False                            0              False -0.457026            NaN   -0.992598            False      0.422011 -0.039111              1         Seattle, Washington        100.00  168553370 -0.044165                    0                                                 US  Apple iPhone 5s - 32GB - Silver (Verizon) Smar...    15-alice      -0.234882                 0.074983   \n",
       "4          1  252171170160                1      98104              1             False      True                            0              False -0.134455            NaN   -1.011622            False      0.422011 -0.015161              1         Seattle, Washington         97.00  168534287 -0.044165                    0                                                 US             Apple iPhone 5s - 32GB SPACE GRAY AT&T    15-alice      -0.234882                 0.074983   \n",
       "5          1  252171162991                1      98104              1             False     False                            0              False -0.295740            NaN   -1.100403            False      0.422011 -0.020981              1         Seattle, Washington         83.00  168553370 -0.044165                    0                                                 US  Apple iPhone 5s - 32GB - Silver (Verizon) Smar...    15-alice      -0.234882                 0.074983   \n",
       "8          1  172006197886                1      27045              1             False      True                            0              False  0.349403            NaN   -0.367964             True      0.422011 -0.002515              1  Rural Hall, North Carolina        200.00  168553370 -0.044165                    0  [US, CA, GB, DK, RO, SK, BG, CZ, FI, HU, LV, L...  Apple iPhone 5 32GB CUSTOM BlacK/Silver Verizo...  clint22468      -0.205068                 0.283516   \n",
       "\n",
       "   i_SellerBusinessType i_NewUser   nPhotos  nPaymentMethods  nShippingCountries  i_conditionId i_bestOfferEnabled i_buyItNowAvailable i_expeditedShipping  i_shippingType i_oneDayShippingAvailable i_RatingsPresent  AverageRating  NegFeedback30Day  NegFeedback365Day  PosFeedback30Day  PosFeedback365Day  auctionLength i_enoughKeyWords  i_HandlingTime  i_nPaymentMethods  i_BidCount  i_HitCount  i_nPhotos  i_FeedbackScore  i_PositiveFeedbackPercent  i_NegFeedback30Day  i_NegFeedback365Day  \\\n",
       "0                     2     False -0.815745        -0.070461           -0.828182              4              False               False                True               2                     False            False            NaN         -0.159335          -0.248184         -0.275525          -0.316027       0.046357            False               1                  1           1           1          1                1                          1                   0                    0   \n",
       "3                     1     False  0.495593        -0.070461           -0.828182              0              False               False                True               0                     False            False            NaN         -0.159335          -0.210775         -0.288340          -0.311903      -0.059303            False               1                  1           1           1          1                1                          1                   0                    1   \n",
       "4                     1     False -1.143580        -0.070461           -0.828182              4              False               False               False               1                     False            False            NaN         -0.159335          -0.210775         -0.288340          -0.311903      -0.059303             True               1                  1           1           1          1                1                          1                   0                    1   \n",
       "5                     1     False  0.495593        -0.070461           -0.828182              0              False               False                True               0                     False            False            NaN         -0.159335          -0.210775         -0.288340          -0.311903      -0.059303            False               1                  1           1           1          1                1                          1                   0                    1   \n",
       "8                     1     False  2.134767        -0.070461            1.237966              4              False               False               False               3                     False             True         4.9275         -0.159335          -0.210775         -0.121745          -0.245575       0.046357            False               1                  1           1           1          1                1                          1                   0                    1   \n",
       "\n",
       "   i_PosFeedback30Day  i_PosFeedback365Day  \n",
       "0                   1                    1  \n",
       "3                   1                    1  \n",
       "4                   1                    1  \n",
       "5                   1                    1  \n",
       "8                   1                    1  "
      ]
     },
     "execution_count": 253,
     "metadata": {},
     "output_type": "execute_result"
    }
   ],
   "source": [
    "from sklearn import preprocessing\n",
    "\n",
    "#we make our training and testing sets w/ standarized\n",
    "scaler = preprocessing.StandardScaler().fit(dftouse[mask][STANDARDIZABLE])\n",
    "dftouse.loc[mask, STANDARDIZABLE] = scaler.transform(dftouse[mask][STANDARDIZABLE]) \n",
    "dftouse.loc[~mask,STANDARDIZABLE] = scaler.transform(dftouse[~mask][STANDARDIZABLE])\n",
    "\n",
    "\n",
    "dftouse[mask].head()"
   ]
  },
  {
   "cell_type": "code",
   "execution_count": 254,
   "metadata": {
    "collapsed": false
   },
   "outputs": [
    {
     "name": "stdout",
     "output_type": "stream",
     "text": [
      "['i_country', 'itemId', 'i_paymentMethod', 'postalCode', 'sellingStatus', 'i_topRatedListing', 'i_AutoPay', 'i_AvailableForPickupDropOff', 'i_BestOfferEnabled', 'BidCount', 'BuyItNowPrice', 'FinalPrice', 'i_GlobalShipping', 'HandlingTime', 'HitCount', 'i_ListingType', 'Location', 'MinimumToBid', 'ProductID', 'Quantity', 'i_QuantityThreshold', 'ShipToLocations', 'Title', 'UserID', 'FeedbackScore', 'PositiveFeedbackPercent', 'i_SellerBusinessType', 'i_NewUser', 'nPhotos', 'nPaymentMethods', 'nShippingCountries', 'i_conditionId', 'i_bestOfferEnabled', 'i_buyItNowAvailable', 'i_expeditedShipping', 'i_shippingType', 'i_oneDayShippingAvailable', 'i_RatingsPresent', 'AverageRating', 'NegFeedback30Day', 'NegFeedback365Day', 'PosFeedback30Day', 'PosFeedback365Day', 'auctionLength', 'i_enoughKeyWords', 'i_HandlingTime', 'i_nPaymentMethods', 'i_BidCount', 'i_HitCount', 'i_nPhotos', 'i_FeedbackScore', 'i_PositiveFeedbackPercent', 'i_NegFeedback30Day', 'i_NegFeedback365Day', 'i_PosFeedback30Day', 'i_PosFeedback365Day']\n",
      "55\n"
     ]
    }
   ],
   "source": [
    "lcols=list(dftouse.columns)\n",
    "print lcols\n",
    "lcols.remove(u'sellingStatus')\n",
    "print len(lcols)"
   ]
  },
  {
   "cell_type": "code",
   "execution_count": 255,
   "metadata": {
    "collapsed": false
   },
   "outputs": [
    {
     "name": "stdout",
     "output_type": "stream",
     "text": [
      "18 30\n"
     ]
    }
   ],
   "source": [
    "ccols=[]\n",
    "for c in lcols:\n",
    "    if c not in INDICATORS:\n",
    "        ccols.append(c)\n",
    "\n",
    "\n",
    "ccols.remove('itemId')\n",
    "ccols.remove('postalCode')\n",
    "#ccols.remove('sellingStatus')\n",
    "ccols.remove('Location')\n",
    "ccols.remove('ProductID')\n",
    "ccols.remove('ShipToLocations')\n",
    "ccols.remove('Title')\n",
    "ccols.remove('UserID')\n",
    "print len(ccols), len(INDICATORS)"
   ]
  },
  {
   "cell_type": "code",
   "execution_count": 256,
   "metadata": {
    "collapsed": false
   },
   "outputs": [
    {
     "data": {
      "text/html": [
       "<div>\n",
       "<table border=\"1\" class=\"dataframe\">\n",
       "  <thead>\n",
       "    <tr style=\"text-align: right;\">\n",
       "      <th></th>\n",
       "      <th>i_country</th>\n",
       "      <th>itemId</th>\n",
       "      <th>i_paymentMethod</th>\n",
       "      <th>postalCode</th>\n",
       "      <th>sellingStatus</th>\n",
       "      <th>i_topRatedListing</th>\n",
       "      <th>i_AutoPay</th>\n",
       "      <th>i_AvailableForPickupDropOff</th>\n",
       "      <th>i_BestOfferEnabled</th>\n",
       "      <th>BidCount</th>\n",
       "      <th>BuyItNowPrice</th>\n",
       "      <th>FinalPrice</th>\n",
       "      <th>i_GlobalShipping</th>\n",
       "      <th>HandlingTime</th>\n",
       "      <th>HitCount</th>\n",
       "      <th>i_ListingType</th>\n",
       "      <th>Location</th>\n",
       "      <th>MinimumToBid</th>\n",
       "      <th>ProductID</th>\n",
       "      <th>Quantity</th>\n",
       "      <th>i_QuantityThreshold</th>\n",
       "      <th>ShipToLocations</th>\n",
       "      <th>Title</th>\n",
       "      <th>UserID</th>\n",
       "      <th>FeedbackScore</th>\n",
       "      <th>PositiveFeedbackPercent</th>\n",
       "      <th>i_SellerBusinessType</th>\n",
       "      <th>i_NewUser</th>\n",
       "      <th>nPhotos</th>\n",
       "      <th>nPaymentMethods</th>\n",
       "      <th>nShippingCountries</th>\n",
       "      <th>i_conditionId</th>\n",
       "      <th>i_bestOfferEnabled</th>\n",
       "      <th>i_buyItNowAvailable</th>\n",
       "      <th>i_expeditedShipping</th>\n",
       "      <th>i_shippingType</th>\n",
       "      <th>i_oneDayShippingAvailable</th>\n",
       "      <th>i_RatingsPresent</th>\n",
       "      <th>AverageRating</th>\n",
       "      <th>NegFeedback30Day</th>\n",
       "      <th>NegFeedback365Day</th>\n",
       "      <th>PosFeedback30Day</th>\n",
       "      <th>PosFeedback365Day</th>\n",
       "      <th>auctionLength</th>\n",
       "      <th>i_enoughKeyWords</th>\n",
       "      <th>i_HandlingTime</th>\n",
       "      <th>i_nPaymentMethods</th>\n",
       "      <th>i_BidCount</th>\n",
       "      <th>i_HitCount</th>\n",
       "      <th>i_nPhotos</th>\n",
       "      <th>i_FeedbackScore</th>\n",
       "      <th>i_PositiveFeedbackPercent</th>\n",
       "      <th>i_NegFeedback30Day</th>\n",
       "      <th>i_NegFeedback365Day</th>\n",
       "      <th>i_PosFeedback30Day</th>\n",
       "      <th>i_PosFeedback365Day</th>\n",
       "    </tr>\n",
       "  </thead>\n",
       "  <tbody>\n",
       "    <tr>\n",
       "      <th>0</th>\n",
       "      <td>1</td>\n",
       "      <td>131642735687</td>\n",
       "      <td>1</td>\n",
       "      <td>10590</td>\n",
       "      <td>1</td>\n",
       "      <td>False</td>\n",
       "      <td>False</td>\n",
       "      <td>0</td>\n",
       "      <td>False</td>\n",
       "      <td>2.768689</td>\n",
       "      <td>NaN</td>\n",
       "      <td>-0.338857</td>\n",
       "      <td>False</td>\n",
       "      <td>0.422011</td>\n",
       "      <td>-0.033851</td>\n",
       "      <td>1</td>\n",
       "      <td>South Salem, New York</td>\n",
       "      <td>204.59</td>\n",
       "      <td>NaN</td>\n",
       "      <td>-0.044165</td>\n",
       "      <td>0</td>\n",
       "      <td>US</td>\n",
       "      <td>iPhone 5s-32gb-Space Gray-unlocked</td>\n",
       "      <td>jdwein1980</td>\n",
       "      <td>-0.234730</td>\n",
       "      <td>0.302825</td>\n",
       "      <td>2</td>\n",
       "      <td>False</td>\n",
       "      <td>-0.815745</td>\n",
       "      <td>-0.070461</td>\n",
       "      <td>-0.828182</td>\n",
       "      <td>4</td>\n",
       "      <td>False</td>\n",
       "      <td>False</td>\n",
       "      <td>True</td>\n",
       "      <td>2</td>\n",
       "      <td>False</td>\n",
       "      <td>False</td>\n",
       "      <td>NaN</td>\n",
       "      <td>-0.159335</td>\n",
       "      <td>-0.248184</td>\n",
       "      <td>-0.275525</td>\n",
       "      <td>-0.316027</td>\n",
       "      <td>0.046357</td>\n",
       "      <td>False</td>\n",
       "      <td>1</td>\n",
       "      <td>1</td>\n",
       "      <td>1</td>\n",
       "      <td>1</td>\n",
       "      <td>1</td>\n",
       "      <td>1</td>\n",
       "      <td>1</td>\n",
       "      <td>0</td>\n",
       "      <td>0</td>\n",
       "      <td>1</td>\n",
       "      <td>1</td>\n",
       "    </tr>\n",
       "    <tr>\n",
       "      <th>1</th>\n",
       "      <td>1</td>\n",
       "      <td>262126933108</td>\n",
       "      <td>1</td>\n",
       "      <td>35004</td>\n",
       "      <td>1</td>\n",
       "      <td>False</td>\n",
       "      <td>False</td>\n",
       "      <td>0</td>\n",
       "      <td>False</td>\n",
       "      <td>-0.215097</td>\n",
       "      <td>NaN</td>\n",
       "      <td>0.028377</td>\n",
       "      <td>False</td>\n",
       "      <td>1.780405</td>\n",
       "      <td>-0.051533</td>\n",
       "      <td>1</td>\n",
       "      <td>Moody, Alabama</td>\n",
       "      <td>265.00</td>\n",
       "      <td>NaN</td>\n",
       "      <td>-0.044165</td>\n",
       "      <td>0</td>\n",
       "      <td>US</td>\n",
       "      <td>apple iphone 5s 32gb</td>\n",
       "      <td>forwhlrcr1965</td>\n",
       "      <td>-0.214046</td>\n",
       "      <td>0.302825</td>\n",
       "      <td>1</td>\n",
       "      <td>False</td>\n",
       "      <td>-1.143580</td>\n",
       "      <td>-0.070461</td>\n",
       "      <td>-0.828182</td>\n",
       "      <td>4</td>\n",
       "      <td>False</td>\n",
       "      <td>False</td>\n",
       "      <td>True</td>\n",
       "      <td>0</td>\n",
       "      <td>False</td>\n",
       "      <td>False</td>\n",
       "      <td>NaN</td>\n",
       "      <td>-0.159335</td>\n",
       "      <td>-0.248184</td>\n",
       "      <td>-0.284068</td>\n",
       "      <td>-0.306748</td>\n",
       "      <td>-0.059303</td>\n",
       "      <td>False</td>\n",
       "      <td>1</td>\n",
       "      <td>1</td>\n",
       "      <td>1</td>\n",
       "      <td>1</td>\n",
       "      <td>1</td>\n",
       "      <td>1</td>\n",
       "      <td>1</td>\n",
       "      <td>0</td>\n",
       "      <td>0</td>\n",
       "      <td>1</td>\n",
       "      <td>1</td>\n",
       "    </tr>\n",
       "    <tr>\n",
       "      <th>2</th>\n",
       "      <td>1</td>\n",
       "      <td>252155964081</td>\n",
       "      <td>1</td>\n",
       "      <td>98104</td>\n",
       "      <td>1</td>\n",
       "      <td>False</td>\n",
       "      <td>False</td>\n",
       "      <td>0</td>\n",
       "      <td>False</td>\n",
       "      <td>-0.295740</td>\n",
       "      <td>NaN</td>\n",
       "      <td>-0.653330</td>\n",
       "      <td>False</td>\n",
       "      <td>0.422011</td>\n",
       "      <td>-0.036313</td>\n",
       "      <td>1</td>\n",
       "      <td>Seattle, Washington</td>\n",
       "      <td>155.00</td>\n",
       "      <td>168534287</td>\n",
       "      <td>-0.044165</td>\n",
       "      <td>0</td>\n",
       "      <td>Worldwide</td>\n",
       "      <td>Apple iPhone 5s - 32GB SPACE GRAY AT&amp;T</td>\n",
       "      <td>15-alice</td>\n",
       "      <td>-0.234882</td>\n",
       "      <td>0.074983</td>\n",
       "      <td>1</td>\n",
       "      <td>False</td>\n",
       "      <td>-1.143580</td>\n",
       "      <td>-0.070461</td>\n",
       "      <td>-0.828182</td>\n",
       "      <td>4</td>\n",
       "      <td>False</td>\n",
       "      <td>False</td>\n",
       "      <td>False</td>\n",
       "      <td>1</td>\n",
       "      <td>False</td>\n",
       "      <td>False</td>\n",
       "      <td>NaN</td>\n",
       "      <td>-0.159335</td>\n",
       "      <td>-0.210775</td>\n",
       "      <td>-0.288340</td>\n",
       "      <td>-0.311903</td>\n",
       "      <td>-0.059303</td>\n",
       "      <td>True</td>\n",
       "      <td>1</td>\n",
       "      <td>1</td>\n",
       "      <td>1</td>\n",
       "      <td>1</td>\n",
       "      <td>1</td>\n",
       "      <td>1</td>\n",
       "      <td>1</td>\n",
       "      <td>0</td>\n",
       "      <td>1</td>\n",
       "      <td>1</td>\n",
       "      <td>1</td>\n",
       "    </tr>\n",
       "    <tr>\n",
       "      <th>3</th>\n",
       "      <td>1</td>\n",
       "      <td>252163774777</td>\n",
       "      <td>1</td>\n",
       "      <td>98104</td>\n",
       "      <td>1</td>\n",
       "      <td>False</td>\n",
       "      <td>False</td>\n",
       "      <td>0</td>\n",
       "      <td>False</td>\n",
       "      <td>-0.457026</td>\n",
       "      <td>NaN</td>\n",
       "      <td>-0.992598</td>\n",
       "      <td>False</td>\n",
       "      <td>0.422011</td>\n",
       "      <td>-0.039111</td>\n",
       "      <td>1</td>\n",
       "      <td>Seattle, Washington</td>\n",
       "      <td>100.00</td>\n",
       "      <td>168553370</td>\n",
       "      <td>-0.044165</td>\n",
       "      <td>0</td>\n",
       "      <td>US</td>\n",
       "      <td>Apple iPhone 5s - 32GB - Silver (Verizon) Smar...</td>\n",
       "      <td>15-alice</td>\n",
       "      <td>-0.234882</td>\n",
       "      <td>0.074983</td>\n",
       "      <td>1</td>\n",
       "      <td>False</td>\n",
       "      <td>0.495593</td>\n",
       "      <td>-0.070461</td>\n",
       "      <td>-0.828182</td>\n",
       "      <td>0</td>\n",
       "      <td>False</td>\n",
       "      <td>False</td>\n",
       "      <td>True</td>\n",
       "      <td>0</td>\n",
       "      <td>False</td>\n",
       "      <td>False</td>\n",
       "      <td>NaN</td>\n",
       "      <td>-0.159335</td>\n",
       "      <td>-0.210775</td>\n",
       "      <td>-0.288340</td>\n",
       "      <td>-0.311903</td>\n",
       "      <td>-0.059303</td>\n",
       "      <td>False</td>\n",
       "      <td>1</td>\n",
       "      <td>1</td>\n",
       "      <td>1</td>\n",
       "      <td>1</td>\n",
       "      <td>1</td>\n",
       "      <td>1</td>\n",
       "      <td>1</td>\n",
       "      <td>0</td>\n",
       "      <td>1</td>\n",
       "      <td>1</td>\n",
       "      <td>1</td>\n",
       "    </tr>\n",
       "    <tr>\n",
       "      <th>4</th>\n",
       "      <td>1</td>\n",
       "      <td>252171170160</td>\n",
       "      <td>1</td>\n",
       "      <td>98104</td>\n",
       "      <td>1</td>\n",
       "      <td>False</td>\n",
       "      <td>True</td>\n",
       "      <td>0</td>\n",
       "      <td>False</td>\n",
       "      <td>-0.134455</td>\n",
       "      <td>NaN</td>\n",
       "      <td>-1.011622</td>\n",
       "      <td>False</td>\n",
       "      <td>0.422011</td>\n",
       "      <td>-0.015161</td>\n",
       "      <td>1</td>\n",
       "      <td>Seattle, Washington</td>\n",
       "      <td>97.00</td>\n",
       "      <td>168534287</td>\n",
       "      <td>-0.044165</td>\n",
       "      <td>0</td>\n",
       "      <td>US</td>\n",
       "      <td>Apple iPhone 5s - 32GB SPACE GRAY AT&amp;T</td>\n",
       "      <td>15-alice</td>\n",
       "      <td>-0.234882</td>\n",
       "      <td>0.074983</td>\n",
       "      <td>1</td>\n",
       "      <td>False</td>\n",
       "      <td>-1.143580</td>\n",
       "      <td>-0.070461</td>\n",
       "      <td>-0.828182</td>\n",
       "      <td>4</td>\n",
       "      <td>False</td>\n",
       "      <td>False</td>\n",
       "      <td>False</td>\n",
       "      <td>1</td>\n",
       "      <td>False</td>\n",
       "      <td>False</td>\n",
       "      <td>NaN</td>\n",
       "      <td>-0.159335</td>\n",
       "      <td>-0.210775</td>\n",
       "      <td>-0.288340</td>\n",
       "      <td>-0.311903</td>\n",
       "      <td>-0.059303</td>\n",
       "      <td>True</td>\n",
       "      <td>1</td>\n",
       "      <td>1</td>\n",
       "      <td>1</td>\n",
       "      <td>1</td>\n",
       "      <td>1</td>\n",
       "      <td>1</td>\n",
       "      <td>1</td>\n",
       "      <td>0</td>\n",
       "      <td>1</td>\n",
       "      <td>1</td>\n",
       "      <td>1</td>\n",
       "    </tr>\n",
       "  </tbody>\n",
       "</table>\n",
       "</div>"
      ],
      "text/plain": [
       "   i_country        itemId  i_paymentMethod postalCode  sellingStatus i_topRatedListing i_AutoPay  i_AvailableForPickupDropOff i_BestOfferEnabled  BidCount  BuyItNowPrice  FinalPrice i_GlobalShipping  HandlingTime  HitCount  i_ListingType               Location  MinimumToBid  ProductID  Quantity  i_QuantityThreshold ShipToLocations                                              Title         UserID  FeedbackScore  PositiveFeedbackPercent  i_SellerBusinessType i_NewUser   nPhotos  \\\n",
       "0          1  131642735687                1      10590              1             False     False                            0              False  2.768689            NaN   -0.338857            False      0.422011 -0.033851              1  South Salem, New York        204.59        NaN -0.044165                    0              US                 iPhone 5s-32gb-Space Gray-unlocked     jdwein1980      -0.234730                 0.302825                     2     False -0.815745   \n",
       "1          1  262126933108                1      35004              1             False     False                            0              False -0.215097            NaN    0.028377            False      1.780405 -0.051533              1         Moody, Alabama        265.00        NaN -0.044165                    0              US                               apple iphone 5s 32gb  forwhlrcr1965      -0.214046                 0.302825                     1     False -1.143580   \n",
       "2          1  252155964081                1      98104              1             False     False                            0              False -0.295740            NaN   -0.653330            False      0.422011 -0.036313              1    Seattle, Washington        155.00  168534287 -0.044165                    0       Worldwide             Apple iPhone 5s - 32GB SPACE GRAY AT&T       15-alice      -0.234882                 0.074983                     1     False -1.143580   \n",
       "3          1  252163774777                1      98104              1             False     False                            0              False -0.457026            NaN   -0.992598            False      0.422011 -0.039111              1    Seattle, Washington        100.00  168553370 -0.044165                    0              US  Apple iPhone 5s - 32GB - Silver (Verizon) Smar...       15-alice      -0.234882                 0.074983                     1     False  0.495593   \n",
       "4          1  252171170160                1      98104              1             False      True                            0              False -0.134455            NaN   -1.011622            False      0.422011 -0.015161              1    Seattle, Washington         97.00  168534287 -0.044165                    0              US             Apple iPhone 5s - 32GB SPACE GRAY AT&T       15-alice      -0.234882                 0.074983                     1     False -1.143580   \n",
       "\n",
       "   nPaymentMethods  nShippingCountries  i_conditionId i_bestOfferEnabled i_buyItNowAvailable i_expeditedShipping  i_shippingType i_oneDayShippingAvailable i_RatingsPresent  AverageRating  NegFeedback30Day  NegFeedback365Day  PosFeedback30Day  PosFeedback365Day  auctionLength i_enoughKeyWords  i_HandlingTime  i_nPaymentMethods  i_BidCount  i_HitCount  i_nPhotos  i_FeedbackScore  i_PositiveFeedbackPercent  i_NegFeedback30Day  i_NegFeedback365Day  i_PosFeedback30Day  i_PosFeedback365Day  \n",
       "0        -0.070461           -0.828182              4              False               False                True               2                     False            False            NaN         -0.159335          -0.248184         -0.275525          -0.316027       0.046357            False               1                  1           1           1          1                1                          1                   0                    0                   1                    1  \n",
       "1        -0.070461           -0.828182              4              False               False                True               0                     False            False            NaN         -0.159335          -0.248184         -0.284068          -0.306748      -0.059303            False               1                  1           1           1          1                1                          1                   0                    0                   1                    1  \n",
       "2        -0.070461           -0.828182              4              False               False               False               1                     False            False            NaN         -0.159335          -0.210775         -0.288340          -0.311903      -0.059303             True               1                  1           1           1          1                1                          1                   0                    1                   1                    1  \n",
       "3        -0.070461           -0.828182              0              False               False                True               0                     False            False            NaN         -0.159335          -0.210775         -0.288340          -0.311903      -0.059303            False               1                  1           1           1          1                1                          1                   0                    1                   1                    1  \n",
       "4        -0.070461           -0.828182              4              False               False               False               1                     False            False            NaN         -0.159335          -0.210775         -0.288340          -0.311903      -0.059303             True               1                  1           1           1          1                1                          1                   0                    1                   1                    1  "
      ]
     },
     "execution_count": 256,
     "metadata": {},
     "output_type": "execute_result"
    }
   ],
   "source": [
    "dftouse.head()"
   ]
  },
  {
   "cell_type": "markdown",
   "metadata": {},
   "source": [
    "Creating a set of **K**ernel **De**nsity Plots (KDE) allows us to look at the non-indicator data that has a wide range of values to see how they vary depending on sellability or not."
   ]
  },
  {
   "cell_type": "code",
   "execution_count": null,
   "metadata": {
    "collapsed": false
   },
   "outputs": [],
   "source": [
    "fig, axes = plt.subplots(nrows=9, ncols=2, sharex=False, sharey=False, figsize=(20, 50), \n",
    "                         tight_layout=True)\n",
    "for ax, ccol in zip(axes.ravel(), ccols):\n",
    "    \n",
    "    #plot mean values per year based on response to mailing\n",
    "    df_col = dftouse[ccol]\n",
    "    print ccol\n",
    "    sns.kdeplot(df_col[dftouse['sellingStatus'] == 1], color='r', alpha=.6, ax=ax, shade=True, legend=True)\n",
    "    sns.kdeplot(df_col[dftouse['sellingStatus'] == 0], color='b', alpha=.6, ax=ax, shade=True)\n",
    "    ax.set_title(\"KDE Plots with sold Items in Red\")"
   ]
  },
  {
   "cell_type": "markdown",
   "metadata": {},
   "source": [
    "Next we do a similar binary plot of sold vs. not sold for our indicators. How each of these are defined is explained in the dataframe_manipulation notebook in the mapping section."
   ]
  },
  {
   "cell_type": "code",
   "execution_count": null,
   "metadata": {
    "collapsed": false
   },
   "outputs": [],
   "source": [
    "#setup similar layout\n",
    "fig, axes = plt.subplots(nrows=10, ncols=3, figsize = (24,48),\n",
    "                         tight_layout=True)\n",
    "\n",
    "positives = dftouse[dftouse['sellingStatus'] == 1]\n",
    "negatives = dftouse[dftouse['sellingStatus'] == 0]\n",
    "\n",
    "for ax, data in zip(axes.ravel(), INDICATORS):\n",
    "    ax.hist(positives[data].values, bins=10, range=[0,10], color = 'r', alpha = 0.2, label = 'Sold', rwidth=10)\n",
    "    ax.hist(negatives[data].values, bins=10, range=[0,10], color = 'b', alpha = 0.2, label = 'Unsold', bottom=1)\n",
    "    ax.set_xticks([0,1,2,3,4,5,6,7,8,9,10])\n",
    "    ax.legend()\n",
    "    ax.set_title(data)"
   ]
  },
  {
   "cell_type": "markdown",
   "metadata": {},
   "source": [
    "We notice some obvious indications, like that with autoPay, where, while having autopay is most common (the majority of histogram values are in the 1 bin), the distribution of sold or not sold moves much more heavily toward not sold when autoPay isn't an option (bin 0). "
   ]
  },
  {
   "cell_type": "code",
   "execution_count": 259,
   "metadata": {
    "collapsed": true
   },
   "outputs": [],
   "source": [
    "from sklearn.svm import LinearSVC"
   ]
  },
  {
   "cell_type": "markdown",
   "metadata": {},
   "source": [
    "We remove the columns below from our current analysis because they contain NaN values or are not all workable indicating quantities. It would be interesting to do an analysis of how location affects sellability, but that isn't the crux of our analysis right now."
   ]
  },
  {
   "cell_type": "code",
   "execution_count": 260,
   "metadata": {
    "collapsed": false
   },
   "outputs": [],
   "source": [
    "\n",
    "lcols.remove('UserID')\n",
    "lcols.remove('itemId')\n",
    "lcols.remove('Title')\n",
    "lcols.remove('ShipToLocations')\n",
    "lcols.remove('Location')\n",
    "lcols.remove('postalCode')\n",
    "lcols.remove('ProductID')\n",
    "lcols.remove('AverageRating')\n",
    "lcols.remove('BuyItNowPrice')\n",
    "lcols.remove('MinimumToBid')\n"
   ]
  },
  {
   "cell_type": "code",
   "execution_count": 334,
   "metadata": {
    "collapsed": false
   },
   "outputs": [],
   "source": [
    "clfsvm=LinearSVC(loss=\"hinge\")\n",
    "Cs=[0.001, 0.01, 0.1, 1.0, 10.0, 100.0]\n",
    "Xmatrix=dftouse[lcols].values\n",
    "Yresp=dftouse['sellingStatus'].values"
   ]
  },
  {
   "cell_type": "code",
   "execution_count": 335,
   "metadata": {
    "collapsed": false
   },
   "outputs": [],
   "source": [
    "Xmatrix_train=Xmatrix[mask]\n",
    "Xmatrix_test=Xmatrix[~mask]\n",
    "Yresp_train=Yresp[mask]\n",
    "Yresp_test=Yresp[~mask]"
   ]
  },
  {
   "cell_type": "code",
   "execution_count": 336,
   "metadata": {
    "collapsed": false
   },
   "outputs": [
    {
     "name": "stdout",
     "output_type": "stream",
     "text": [
      "BEST {'C': 10.0} 0.800339192106 [mean: 0.71708, std: 0.04469, params: {'C': 0.001}, mean: 0.79309, std: 0.04291, params: {'C': 0.01}, mean: 0.78970, std: 0.04257, params: {'C': 0.1}, mean: 0.79926, std: 0.04366, params: {'C': 1.0}, mean: 0.80034, std: 0.04362, params: {'C': 10.0}, mean: 0.73636, std: 0.11365, params: {'C': 100.0}]\n"
     ]
    }
   ],
   "source": [
    "#Xmatrix_train\n",
    "from sklearn.grid_search import GridSearchCV\n",
    "gs=GridSearchCV(clfsvm, param_grid={'C':Cs}, cv=5)\n",
    "gs.fit(Xmatrix_train, Yresp_train)\n",
    "print \"BEST\", gs.best_params_, gs.best_score_, gs.grid_scores_"
   ]
  },
  {
   "cell_type": "code",
   "execution_count": 337,
   "metadata": {
    "collapsed": false
   },
   "outputs": [
    {
     "name": "stdout",
     "output_type": "stream",
     "text": [
      "BEST {'C': 10.0} 0.800339192106 [mean: 0.71708, std: 0.04469, params: {'C': 0.001}, mean: 0.79309, std: 0.04291, params: {'C': 0.01}, mean: 0.78970, std: 0.04257, params: {'C': 0.1}, mean: 0.79926, std: 0.04366, params: {'C': 1.0}, mean: 0.80034, std: 0.04362, params: {'C': 10.0}, mean: 0.73636, std: 0.11365, params: {'C': 100.0}]\n"
     ]
    },
    {
     "data": {
      "text/plain": [
       "0.84645810859403092"
      ]
     },
     "execution_count": 337,
     "metadata": {},
     "output_type": "execute_result"
    }
   ],
   "source": [
    "print \"BEST\", gs.best_params_, gs.best_score_, gs.grid_scores_\n",
    "best = gs.best_estimator_\n",
    "best.fit(Xmatrix_train, Yresp_train)\n",
    "best.score(Xmatrix_test, Yresp_test)"
   ]
  },
  {
   "cell_type": "code",
   "execution_count": 338,
   "metadata": {
    "collapsed": false
   },
   "outputs": [
    {
     "data": {
      "text/plain": [
       "LinearSVC(C=10.0, class_weight=None, dual=True, fit_intercept=True,\n",
       "     intercept_scaling=1, loss='hinge', max_iter=1000, multi_class='ovr',\n",
       "     penalty='l2', random_state=None, tol=0.0001, verbose=0)"
      ]
     },
     "execution_count": 338,
     "metadata": {},
     "output_type": "execute_result"
    }
   ],
   "source": [
    "best"
   ]
  },
  {
   "cell_type": "code",
   "execution_count": 339,
   "metadata": {
    "collapsed": true
   },
   "outputs": [],
   "source": [
    "from sklearn.grid_search import GridSearchCV\n",
    "def cv_optimize(clf, parameters, X, y, n_folds=5,score_func=None):\n",
    "    gs = GridSearchCV(clf, param_grid=parameters, cv=n_folds,scoring=score_func)\n",
    "    gs.fit(X, y)\n",
    "    best = gs.best_estimator_\n",
    "    print \"BEST\", gs.best_params_, gs.best_score_, gs.grid_scores_\n",
    "    return best"
   ]
  },
  {
   "cell_type": "code",
   "execution_count": 340,
   "metadata": {
    "collapsed": true
   },
   "outputs": [],
   "source": [
    "from sklearn.metrics import confusion_matrix\n",
    "def do_classify(clf, parameters, indf, featurenames, targetname, target1val, mask=None, reuse_split=None, score_func=None, n_folds=5):\n",
    "    subdf=indf[featurenames]\n",
    "    X=subdf.values\n",
    "    y=(indf[targetname].values==target1val)*1\n",
    "    if mask !=None:\n",
    "        print \"using mask\"\n",
    "        Xtrain, Xtest, ytrain, ytest = X[mask], X[~mask], y[mask], y[~mask]\n",
    "    if reuse_split !=None:\n",
    "        print \"using reuse split\"\n",
    "        Xtrain, Xtest, ytrain, ytest = reuse_split['Xtrain'], reuse_split['Xtest'], reuse_split['ytrain'], reuse_split['ytest']\n",
    "    if parameters:\n",
    "        clf = cv_optimize(clf, parameters, Xtrain, ytrain, n_folds=n_folds, score_func=score_func)\n",
    "    clf=clf.fit(Xtrain, ytrain)\n",
    "    training_accuracy = clf.score(Xtrain, ytrain)\n",
    "    test_accuracy = clf.score(Xtest, ytest)\n",
    "    print \"############# based on standard predict ################\"\n",
    "    print \"Accuracy on training data: %0.2f\" % (training_accuracy)\n",
    "    print \"Accuracy on test data:     %0.2f\" % (test_accuracy)\n",
    "    print confusion_matrix(ytest, clf.predict(Xtest))\n",
    "    print \"########################################################\"\n",
    "    return clf, Xtrain, ytrain, Xtest, ytest"
   ]
  },
  {
   "cell_type": "code",
   "execution_count": 341,
   "metadata": {
    "collapsed": false
   },
   "outputs": [
    {
     "name": "stdout",
     "output_type": "stream",
     "text": [
      "using mask\n",
      "BEST {'C': 10.0} 0.802189330866 [mean: 0.71708, std: 0.04469, params: {'C': 0.001}, mean: 0.79325, std: 0.04310, params: {'C': 0.01}, mean: 0.78939, std: 0.04237, params: {'C': 0.1}, mean: 0.79972, std: 0.04245, params: {'C': 1.0}, mean: 0.80219, std: 0.04293, params: {'C': 10.0}, mean: 0.78168, std: 0.05286, params: {'C': 100.0}]\n",
      "############# based on standard predict ################\n",
      "Accuracy on training data: 0.84\n",
      "Accuracy on test data:     0.84\n",
      "[[ 615  315]\n",
      " [ 119 1732]]\n",
      "########################################################\n",
      "CPU times: user 13.3 s, sys: 145 ms, total: 13.5 s\n",
      "Wall time: 14.2 s\n"
     ]
    },
    {
     "name": "stderr",
     "output_type": "stream",
     "text": [
      "/anaconda/lib/python2.7/site-packages/IPython/kernel/__main__.py:6: FutureWarning: comparison to `None` will result in an elementwise object comparison in the future.\n"
     ]
    }
   ],
   "source": [
    "%%time\n",
    "clfsvm, Xtrain, ytrain, Xtest, ytest = do_classify(LinearSVC(loss=\"hinge\"), {\"C\": [0.001, 0.01, 0.1, 1.0, 10.0, 100.0]}, dftouse,lcols, 'sellingStatus',1, mask=mask)"
   ]
  },
  {
   "cell_type": "code",
   "execution_count": 342,
   "metadata": {
    "collapsed": true
   },
   "outputs": [],
   "source": [
    "reuse_split=dict(Xtrain=Xtrain, Xtest=Xtest, ytrain=ytrain, ytest=ytest)"
   ]
  },
  {
   "cell_type": "code",
   "execution_count": 343,
   "metadata": {
    "collapsed": false
   },
   "outputs": [
    {
     "name": "stdout",
     "output_type": "stream",
     "text": [
      "whole data set 0.665155929643\n",
      "training set 0.664970706136 test set 0.665587918015\n"
     ]
    }
   ],
   "source": [
    "\n",
    "##this tells us that most of our values are closer to 0 than 1, which means most were successful sales\n",
    "print \"whole data set\", dftouse['sellingStatus'].mean()#Highly asymmetric\n",
    "print \"training set\", dftouse['sellingStatus'][mask].mean(), \"test set\", dftouse['sellingStatus'][~mask].mean()"
   ]
  },
  {
   "cell_type": "code",
   "execution_count": 344,
   "metadata": {
    "collapsed": false
   },
   "outputs": [
    {
     "data": {
      "text/plain": [
       "array([[ 615,  315],\n",
       "       [ 119, 1732]])"
      ]
     },
     "execution_count": 344,
     "metadata": {},
     "output_type": "execute_result"
    }
   ],
   "source": [
    "ypred=clfsvm.predict(Xtest)\n",
    "confusion_matrix(ytest, ypred)"
   ]
  },
  {
   "cell_type": "code",
   "execution_count": 345,
   "metadata": {
    "collapsed": false
   },
   "outputs": [
    {
     "name": "stdout",
     "output_type": "stream",
     "text": [
      "OP= 1851 , ON= 930\n"
     ]
    }
   ],
   "source": [
    "print \"OP=\", ytest.sum(), \", ON=\",ytest.shape[0] - ytest.sum()"
   ]
  },
  {
   "cell_type": "code",
   "execution_count": 346,
   "metadata": {
    "collapsed": false
   },
   "outputs": [
    {
     "name": "stdout",
     "output_type": "stream",
     "text": [
      "PP= 2047 , ON= 734\n"
     ]
    }
   ],
   "source": [
    "print \"PP=\", ypred.sum(), \", ON=\",ytest.shape[0] - ypred.sum()"
   ]
  },
  {
   "cell_type": "code",
   "execution_count": 347,
   "metadata": {
    "collapsed": false
   },
   "outputs": [],
   "source": [
    "# taking approx. average cost of listing based on whether using images, bold, short burst shor auctions, etc\n",
    "listing_fee = 4.2\n",
    "\n",
    "## we calcluate how many of our listings are top rated listings assuming our data is an simple random sample to get\n",
    "## a probability of a listing being a top rated listing\n",
    "size_df = float(len(dftouse.index))\n",
    "y = float(len(dftouse[dftouse['i_topRatedListing'] == True]))\n",
    "prob_toprated = y/size_df\n",
    "\n",
    "## we get 90% of the profit from the sale, and if you are a top rated listing, you get %20 percent off this 10% charge\n",
    "profit_margin=.9 +(.02 * prob_toprated)\n",
    "\n",
    "## We calculate the true positive cost using the listing fee and subtracting off the profit made. We have to \n",
    "## average over new or used to make the mean better weighted for the \"value\" of the iPhone. We take the used value to \n",
    "## be 70% of the new value based on the fact that Apple currently sells the new one for $500 and refurbished for $340\n",
    "## BestBuy: http://www.bestbuy.com/site/apple-refurbished-iphone-5s-32gb-cell-phone-unlocked-silver/1311862035.p?id=mp1311862035&skuId=1311862035\n",
    "## Apple New: http://www.apple.com/shop/buy-iphone/iphone5s/32gb-space-gray\n",
    "\n",
    "new = float(len(dftouse[dftouse['i_conditionId'] == 0]))\n",
    "prob_new = new/size_df\n",
    "prob_used = 1 - prob_new\n",
    "profit = ((df.FinalPrice.mean())*prob_new + (df.FinalPrice.mean())*(.7 * prob_used))*profit_margin\n",
    "\n",
    "# diff = 250 - ((df.FinalPrice.mean())*prob_new + 200 - (df.FinalPrice.mean())*(.7 * prob_used))*profit_margin\n",
    "\n",
    "\n",
    "# As of December 10, 2015, Apple offers up to $320 dollars for iphone take-ins:\n",
    "# http://www.apple.com/iphone/trade-in/?cid=&cp=em-P0016950-349230&sr=em\n",
    "# However, other places, such as verizon and AT&T, take iphones in anwhere from 135-300 on average\n",
    "# We scale the average of these for new and used eBay items, and make this part of our opportunity cost\n",
    "diff = prob_new * (280 - df.FinalPrice.mean()*profit_margin) + prob_used*(225-(.7*df.FinalPrice.mean()*profit_margin))\n",
    "\n",
    "#tpc\n",
    "tpc = diff + listing_fee - profit\n",
    "\n",
    "#tnc\n",
    "tnc= -diff\n",
    "\n",
    "# ## because we have no listing fee, our fnc is just (-tpc)\n",
    "fnc = diff\n",
    "\n",
    "# ## and our false positive cost is thus, what we would spend for listing when we shouldn't have\n",
    "fpc = listing_fee + diff\n"
   ]
  },
  {
   "cell_type": "code",
   "execution_count": 348,
   "metadata": {
    "collapsed": false
   },
   "outputs": [
    {
     "data": {
      "text/plain": [
       "array([[ -62.44344884,   66.64344884],\n",
       "       [  62.44344884, -100.64332785]])"
      ]
     },
     "execution_count": 348,
     "metadata": {},
     "output_type": "execute_result"
    }
   ],
   "source": [
    "risk_matrix=np.array([[tnc, fpc],[fnc, tpc]])\n",
    "risk_matrix"
   ]
  },
  {
   "cell_type": "code",
   "execution_count": 349,
   "metadata": {
    "collapsed": false
   },
   "outputs": [
    {
     "data": {
      "text/plain": [
       "array([[  62.44344884,  -66.64344884],\n",
       "       [ -62.44344884,  100.64332785]])"
      ]
     },
     "execution_count": 349,
     "metadata": {},
     "output_type": "execute_result"
    }
   ],
   "source": [
    "u = - risk_matrix\n",
    "\n",
    "## to avoice writing -0\n",
    "#u[0][0] = 0.\n",
    "#u[0][1] = 0.\n",
    "u"
   ]
  },
  {
   "cell_type": "code",
   "execution_count": 350,
   "metadata": {
    "collapsed": true
   },
   "outputs": [],
   "source": [
    "def average_profit_pp(y, ypred, u):\n",
    "    c=confusion_matrix(y,ypred)\n",
    "    score=np.sum(c*u)/np.sum(c)\n",
    "    return score"
   ]
  },
  {
   "cell_type": "code",
   "execution_count": 351,
   "metadata": {
    "collapsed": false
   },
   "outputs": [
    {
     "name": "stdout",
     "output_type": "stream",
     "text": [
      "[[ 930    0]\n",
      " [1851    0]]\n"
     ]
    },
    {
     "data": {
      "text/plain": [
       "-20.679761375109898"
      ]
     },
     "execution_count": 351,
     "metadata": {},
     "output_type": "execute_result"
    }
   ],
   "source": [
    "#baseline classifier #1: don't sell anything\n",
    "testsize = dftouse[~mask].shape[0]\n",
    "ypred_dste = np.zeros(testsize, dtype=\"int\")\n",
    "print confusion_matrix(ytest, ypred_dste)\n",
    "dsteval=average_profit_pp(ytest, ypred_dste, u)\n",
    "dsteval"
   ]
  },
  {
   "cell_type": "code",
   "execution_count": 352,
   "metadata": {
    "collapsed": false
   },
   "outputs": [
    {
     "name": "stdout",
     "output_type": "stream",
     "text": [
      "[[   0  930]\n",
      " [   0 1851]]\n"
     ]
    },
    {
     "data": {
      "text/plain": [
       "44.700608564928764"
      ]
     },
     "execution_count": 352,
     "metadata": {},
     "output_type": "execute_result"
    }
   ],
   "source": [
    "#baseline classifier #2: sell everything\n",
    "testsize = dftouse[~mask].shape[0]\n",
    "ypred_ste = np.ones(testsize, dtype=\"int\")\n",
    "print confusion_matrix(ytest, ypred_ste)\n",
    "steval=average_profit_pp(ytest, ypred_ste, u)\n",
    "steval"
   ]
  },
  {
   "cell_type": "code",
   "execution_count": 353,
   "metadata": {
    "collapsed": false
   },
   "outputs": [
    {
     "name": "stdout",
     "output_type": "stream",
     "text": [
      "[[ 615  315]\n",
      " [ 119 1732]]\n"
     ]
    },
    {
     "data": {
      "text/plain": [
       "66.268791107409186"
      ]
     },
     "execution_count": 353,
     "metadata": {},
     "output_type": "execute_result"
    }
   ],
   "source": [
    "#calculating profit from SVM classifer using baselines\n",
    "testsize = dftouse[~mask].shape[0]\n",
    "ypred_svm=clfsvm.predict(Xtest)\n",
    "print confusion_matrix(ytest, ypred_svm)\n",
    "svmval=average_profit_pp(ytest, ypred_svm, u)\n",
    "svmval"
   ]
  },
  {
   "cell_type": "code",
   "execution_count": 354,
   "metadata": {
    "collapsed": false
   },
   "outputs": [
    {
     "name": "stdout",
     "output_type": "stream",
     "text": [
      "using mask\n",
      "using reuse split\n",
      "BEST {'C': 10.0} 0.806197964847 [mean: 0.64015, std: 0.01972, params: {'C': 0.001}, mean: 0.78662, std: 0.05119, params: {'C': 0.01}, mean: 0.80496, std: 0.03506, params: {'C': 0.1}, mean: 0.80604, std: 0.03853, params: {'C': 1.0}, mean: 0.80620, std: 0.04007, params: {'C': 10.0}, mean: 0.80543, std: 0.03960, params: {'C': 100.0}]\n",
      "############# based on standard predict ################\n",
      "Accuracy on training data: 0.86\n",
      "Accuracy on test data:     0.85\n",
      "[[ 689  241]\n",
      " [ 167 1684]]\n",
      "########################################################\n"
     ]
    },
    {
     "name": "stderr",
     "output_type": "stream",
     "text": [
      "/anaconda/lib/python2.7/site-packages/IPython/kernel/__main__.py:6: FutureWarning: comparison to `None` will result in an elementwise object comparison in the future.\n"
     ]
    }
   ],
   "source": [
    "#logistic regression with Lasso based feature selection\n",
    "from sklearn.linear_model import LogisticRegression\n",
    "clf = LogisticRegression(penalty=\"l1\")\n",
    "cvals = {\"C\": [0.001, 0.01, 0.1, 1.0, 10.0, 100.0]}\n",
    "clflog, Xtrain, ytrain, Xtest, ytest = do_classify(clf, cvals, dftouse,lcols, 'sellingStatus',1, mask=mask, reuse_split=reuse_split)"
   ]
  },
  {
   "cell_type": "code",
   "execution_count": 355,
   "metadata": {
    "collapsed": false
   },
   "outputs": [
    {
     "name": "stdout",
     "output_type": "stream",
     "text": [
      "[[ 689  241]\n",
      " [ 167 1684]]\n"
     ]
    },
    {
     "data": {
      "text/plain": [
       "66.888807341738854"
      ]
     },
     "execution_count": 355,
     "metadata": {},
     "output_type": "execute_result"
    }
   ],
   "source": [
    "#calculating profit\n",
    "testsize = dftouse[~mask].shape[0]\n",
    "ypred_lreg=clflog.predict(Xtest)\n",
    "print confusion_matrix(ytest, ypred_lreg)\n",
    "lregval=average_profit_pp(ytest, ypred_lreg, u)\n",
    "lregval"
   ]
  },
  {
   "cell_type": "code",
   "execution_count": 356,
   "metadata": {
    "collapsed": true
   },
   "outputs": [],
   "source": [
    "#Part 3\n",
    "#function to make roc curves\n",
    "from sklearn.metrics import roc_curve, auc\n",
    "def make_roc(name, clf, ytest, xtest, ax=None, labe=5, proba=True, skip=0):\n",
    "    initial=False\n",
    "    if not ax:\n",
    "        ax=plt.gca()\n",
    "        initial=True\n",
    "    if proba:#for stuff like logistic regression\n",
    "        fpr, tpr, thresholds=roc_curve(ytest, clf.predict_proba(xtest)[:,1])\n",
    "    else:#for stuff like SVM\n",
    "        fpr, tpr, thresholds=roc_curve(ytest, clf.decision_function(xtest))\n",
    "    roc_auc = auc(fpr, tpr)\n",
    "    if skip:\n",
    "        l=fpr.shape[0]\n",
    "        ax.plot(fpr[0:l:skip], tpr[0:l:skip], '.-', alpha=0.3, label='ROC curve for %s (area = %0.2f)' % (name, roc_auc))\n",
    "    else:\n",
    "        ax.plot(fpr, tpr, '.-', alpha=0.3, label='ROC curve for %s (area = %0.2f)' % (name, roc_auc))\n",
    "    label_kwargs = {}\n",
    "    label_kwargs['bbox'] = dict(\n",
    "        boxstyle='round,pad=0.3', alpha=0.2,\n",
    "    )\n",
    "    if labe!=None:\n",
    "        for k in xrange(0, fpr.shape[0],labe):\n",
    "            #from https://gist.github.com/podshumok/c1d1c9394335d86255b8\n",
    "            threshold = str(np.round(thresholds[k], 2))\n",
    "            ax.annotate(threshold, (fpr[k], tpr[k]), **label_kwargs)\n",
    "    if initial:\n",
    "        ax.plot([0, 1], [0, 1], 'k--')\n",
    "        ax.set_xlim([0.0, 1.0])\n",
    "        ax.set_ylim([0.0, 1.05])\n",
    "        ax.set_xlabel('False Positive Rate')\n",
    "        ax.set_ylabel('True Positive Rate')\n",
    "        ax.set_title('ROC')\n",
    "    ax.legend(loc=\"lower right\")\n",
    "    return ax"
   ]
  },
  {
   "cell_type": "code",
   "execution_count": 357,
   "metadata": {
    "collapsed": false
   },
   "outputs": [
    {
     "data": {
      "image/png": "iVBORw0KGgoAAAANSUhEUgAAAfYAAAFtCAYAAAD1Skg8AAAABHNCSVQICAgIfAhkiAAAAAlwSFlz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\nuxBCCFGESGEXQgghipD/Aw8P89d4mtyWAAAAAElFTkSuQmCC\n",
      "text/plain": [
       "<matplotlib.figure.Figure at 0x15073d990>"
      ]
     },
     "metadata": {},
     "output_type": "display_data"
    }
   ],
   "source": [
    "#logistic lasso ROC curve\n",
    "with sns.hls_palette(8, l=.3, s=.8):\n",
    "    ax=make_roc(\"logistic-with-lasso\",clflog, ytest, Xtest, labe=200, skip=50)"
   ]
  },
  {
   "cell_type": "code",
   "execution_count": 358,
   "metadata": {
    "collapsed": false
   },
   "outputs": [
    {
     "data": {
      "image/png": "iVBORw0KGgoAAAANSUhEUgAAAfYAAAFtCAYAAAD1Skg8AAAABHNCSVQICAgIfAhkiAAAAAlwSFlz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\nAABJRU5ErkJggg==\n",
      "text/plain": [
       "<matplotlib.figure.Figure at 0x1436edf10>"
      ]
     },
     "metadata": {},
     "output_type": "display_data"
    }
   ],
   "source": [
    "#logistic lasso vs. all features SVM\n",
    "with sns.hls_palette(8, l=.3, s=.8):\n",
    "    ax=make_roc(\"logistic-with-lasso\",clflog, ytest, Xtest, labe=200, skip=50)\n",
    "    make_roc(\"svm-all-features\",clfsvm, ytest, Xtest, labe=200, proba=False, skip=50)"
   ]
  },
  {
   "cell_type": "code",
   "execution_count": 359,
   "metadata": {
    "collapsed": false
   },
   "outputs": [
    {
     "data": {
      "text/plain": [
       "[<matplotlib.lines.Line2D at 0x13ed27a10>]"
      ]
     },
     "execution_count": 359,
     "metadata": {},
     "output_type": "execute_result"
    },
    {
     "data": {
      "image/png": "iVBORw0KGgoAAAANSUhEUgAAAfYAAAFtCAYAAAD1Skg8AAAABHNCSVQICAgIfAhkiAAAAAlwSFlz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\n",
      "text/plain": [
       "<matplotlib.figure.Figure at 0x143195b50>"
      ]
     },
     "metadata": {},
     "output_type": "display_data"
    }
   ],
   "source": [
    "def rat(cost):\n",
    "    return (cost[0,1] - cost[0,0])/(cost[1,0]-cost[1,1])\n",
    "slope = rat(risk_matrix)*(np.mean(ytest==0)/np.mean(ytest==1))\n",
    "\n",
    "z1=np.arange(0.,1., 0.02)\n",
    "def plot_line(ax, intercept):\n",
    "    plt.figure(figsize=(12,12))\n",
    "    ax=plt.gca()\n",
    "    ax.set_xlim([0.0,1.0])\n",
    "    ax.set_ylim([0.0,1.0])\n",
    "    make_roc(\"logistic-with-lasso\",clflog, ytest, Xtest, labe=200, skip=50)\n",
    "    make_roc(\"svm-all-features\",clfsvm, ytest, Xtest, labe=200, proba=False, skip=50)\n",
    "    ax.plot(z1 , slope*z1 + intercept, 'k-')\n",
    "\n",
    "#from IPython.html.widgets import interact, fixed\n",
    "#interact(plot_line, ax=fixed(ax), intercept=(0.0,1.0, 0.005))\n",
    "\n",
    "make_roc(\"logistic-with-lasso\",clflog, ytest, Xtest, labe=200, skip=50)\n",
    "make_roc(\"svm-all-features\",clfsvm, ytest, Xtest, labe=200, proba=False, skip=50)\n",
    "#.82 corresponds to the intercept predicted by calling the interact function\n",
    "plt.plot(z1, slope*z1+0.825,'r')\n",
    "plt.plot(z1, slope*z1+0.825,'b')"
   ]
  },
  {
   "cell_type": "code",
   "execution_count": 360,
   "metadata": {
    "collapsed": true
   },
   "outputs": [],
   "source": [
    "def percentage(tpr, fpr, priorp, priorn):\n",
    "    perc = tpr*priorp + fpr*priorn\n",
    "    return perc"
   ]
  },
  {
   "cell_type": "code",
   "execution_count": 361,
   "metadata": {
    "collapsed": true
   },
   "outputs": [],
   "source": [
    "def av_profit(tpr,fpr,util,priorp,priorn):\n",
    "    profit = priorp*(util[1][1]*tpr+util[1][0]*(1.-tpr))+priorn*(util[0][0]*(1.-fpr) +util[0][1]*fpr)\n",
    "    return profit\n",
    "# -tnc, -fpc, -fnc, -tpc"
   ]
  },
  {
   "cell_type": "code",
   "execution_count": 362,
   "metadata": {
    "collapsed": false
   },
   "outputs": [],
   "source": [
    "def make_profit(name, clf, ytest, xtest, util, ax=None, threshold=False, labe=200, proba=True):\n",
    "    initial=False\n",
    "    if not ax:\n",
    "        ax=plt.gca()\n",
    "        initial=True\n",
    "    if proba:\n",
    "        fpr, tpr, thresholds=roc_curve(ytest, clf.predict_proba(xtest)[:,1])\n",
    "    else:\n",
    "        fpr, tpr, thresholds=roc_curve(ytest, clf.decision_function(xtest))\n",
    "    priorp=np.mean(ytest)\n",
    "    priorn=1. - priorp\n",
    "    ben=[]\n",
    "    percs=[]\n",
    "    for i,t in enumerate(thresholds):\n",
    "        perc=percentage(tpr[i], fpr[i], priorp, priorn)\n",
    "        ev = av_profit(tpr[i], fpr[i], util, priorp, priorn)\n",
    "        ben.append(ev)\n",
    "        percs.append(perc*100)\n",
    "    ax.plot(percs, ben, '-', alpha=0.3, markersize=5, label='utlity curve for %s' % name)\n",
    "    if threshold:\n",
    "        label_kwargs = {}\n",
    "        label_kwargs['bbox'] = dict(\n",
    "        boxstyle='round,pad=0.3', alpha=0.2,\n",
    "        )\n",
    "        for k in xrange(0, fpr.shape[0],labe):\n",
    "            #from https://gist.github.com/podshumok/c1d1c9394335d86255b8\n",
    "            threshold = str(np.round(thresholds[k], 2))\n",
    "            ax.annotate(threshold, (percs[k], ben[k]), **label_kwargs)\n",
    "    ax.legend(loc=\"lower right\")\n",
    "    return ax"
   ]
  },
  {
   "cell_type": "code",
   "execution_count": 363,
   "metadata": {
    "collapsed": false
   },
   "outputs": [
    {
     "data": {
      "text/plain": [
       "<matplotlib.legend.Legend at 0x1436292d0>"
      ]
     },
     "execution_count": 363,
     "metadata": {},
     "output_type": "execute_result"
    },
    {
     "data": {
      "image/png": "iVBORw0KGgoAAAANSUhEUgAAAfYAAAFRCAYAAACG8o/qAAAABHNCSVQICAgIfAhkiAAAAAlwSFlz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\n",
      "text/plain": [
       "<matplotlib.figure.Figure at 0x1438d82d0>"
      ]
     },
     "metadata": {},
     "output_type": "display_data"
    }
   ],
   "source": [
    "ax=make_profit(\"logistic-with-lasso\", clflog, ytest, Xtest, u, ax=None, threshold=False, labe=200, proba=True)\n",
    "make_profit(\"svm-all-features\",clfsvm, ytest, Xtest, u, ax=None, threshold=False, labe=200, proba=False)\n",
    "ax.annotate(\"STE\",xy=(100,steval))\n",
    "ax.annotate(\"DSTE\",xy=(2,dsteval))\n",
    "plt.legend(loc=4)"
   ]
  },
  {
   "cell_type": "code",
   "execution_count": 364,
   "metadata": {
    "collapsed": true
   },
   "outputs": [],
   "source": [
    "#Part 4\n",
    "def nonzero_lasso(clf):\n",
    "    featuremask=(clf.coef_ !=0.0)[0]\n",
    "    return pd.DataFrame(dict(feature=lcols, coef=clf.coef_[0], abscoef=np.abs(clf.coef_[0])))[featuremask].sort('abscoef', ascending=False)"
   ]
  },
  {
   "cell_type": "code",
   "execution_count": 365,
   "metadata": {
    "collapsed": false
   },
   "outputs": [
    {
     "data": {
      "text/html": [
       "<div>\n",
       "<table border=\"1\" class=\"dataframe\">\n",
       "  <thead>\n",
       "    <tr style=\"text-align: right;\">\n",
       "      <th></th>\n",
       "      <th>abscoef</th>\n",
       "      <th>coef</th>\n",
       "    </tr>\n",
       "    <tr>\n",
       "      <th>feature</th>\n",
       "      <th></th>\n",
       "      <th></th>\n",
       "    </tr>\n",
       "  </thead>\n",
       "  <tbody>\n",
       "    <tr>\n",
       "      <th>i_BidCount</th>\n",
       "      <td>13.107335</td>\n",
       "      <td>13.107335</td>\n",
       "    </tr>\n",
       "    <tr>\n",
       "      <th>i_ListingType</th>\n",
       "      <td>8.059548</td>\n",
       "      <td>-8.059548</td>\n",
       "    </tr>\n",
       "    <tr>\n",
       "      <th>i_buyItNowAvailable</th>\n",
       "      <td>6.053066</td>\n",
       "      <td>-6.053066</td>\n",
       "    </tr>\n",
       "    <tr>\n",
       "      <th>i_PositiveFeedbackPercent</th>\n",
       "      <td>2.958664</td>\n",
       "      <td>-2.958664</td>\n",
       "    </tr>\n",
       "    <tr>\n",
       "      <th>i_PosFeedback365Day</th>\n",
       "      <td>1.696344</td>\n",
       "      <td>1.696344</td>\n",
       "    </tr>\n",
       "    <tr>\n",
       "      <th>Quantity</th>\n",
       "      <td>1.353559</td>\n",
       "      <td>-1.353559</td>\n",
       "    </tr>\n",
       "    <tr>\n",
       "      <th>i_paymentMethod</th>\n",
       "      <td>1.298029</td>\n",
       "      <td>1.298029</td>\n",
       "    </tr>\n",
       "    <tr>\n",
       "      <th>i_topRatedListing</th>\n",
       "      <td>1.146038</td>\n",
       "      <td>1.146038</td>\n",
       "    </tr>\n",
       "    <tr>\n",
       "      <th>i_oneDayShippingAvailable</th>\n",
       "      <td>0.903389</td>\n",
       "      <td>-0.903389</td>\n",
       "    </tr>\n",
       "    <tr>\n",
       "      <th>HitCount</th>\n",
       "      <td>0.873486</td>\n",
       "      <td>0.873486</td>\n",
       "    </tr>\n",
       "  </tbody>\n",
       "</table>\n",
       "</div>"
      ],
      "text/plain": [
       "                             abscoef       coef\n",
       "feature                                        \n",
       "i_BidCount                 13.107335  13.107335\n",
       "i_ListingType               8.059548  -8.059548\n",
       "i_buyItNowAvailable         6.053066  -6.053066\n",
       "i_PositiveFeedbackPercent   2.958664  -2.958664\n",
       "i_PosFeedback365Day         1.696344   1.696344\n",
       "Quantity                    1.353559  -1.353559\n",
       "i_paymentMethod             1.298029   1.298029\n",
       "i_topRatedListing           1.146038   1.146038\n",
       "i_oneDayShippingAvailable   0.903389  -0.903389\n",
       "HitCount                    0.873486   0.873486"
      ]
     },
     "execution_count": 365,
     "metadata": {},
     "output_type": "execute_result"
    }
   ],
   "source": [
    "lasso_importances=nonzero_lasso(clflog)\n",
    "lasso_importances.set_index(\"feature\", inplace=True)\n",
    "lasso_importances.head(10)"
   ]
  },
  {
   "cell_type": "code",
   "execution_count": 366,
   "metadata": {
    "collapsed": false
   },
   "outputs": [
    {
     "data": {
      "text/html": [
       "<div>\n",
       "<table border=\"1\" class=\"dataframe\">\n",
       "  <thead>\n",
       "    <tr style=\"text-align: right;\">\n",
       "      <th></th>\n",
       "      <th>abscorr</th>\n",
       "      <th>corr</th>\n",
       "    </tr>\n",
       "    <tr>\n",
       "      <th>feature</th>\n",
       "      <th></th>\n",
       "      <th></th>\n",
       "    </tr>\n",
       "  </thead>\n",
       "  <tbody>\n",
       "    <tr>\n",
       "      <th>i_BidCount</th>\n",
       "      <td>0.591496</td>\n",
       "      <td>0.591496</td>\n",
       "    </tr>\n",
       "    <tr>\n",
       "      <th>BidCount</th>\n",
       "      <td>0.348213</td>\n",
       "      <td>0.348213</td>\n",
       "    </tr>\n",
       "    <tr>\n",
       "      <th>i_ListingType</th>\n",
       "      <td>0.322323</td>\n",
       "      <td>0.322323</td>\n",
       "    </tr>\n",
       "    <tr>\n",
       "      <th>i_oneDayShippingAvailable</th>\n",
       "      <td>0.303653</td>\n",
       "      <td>-0.303653</td>\n",
       "    </tr>\n",
       "    <tr>\n",
       "      <th>i_buyItNowAvailable</th>\n",
       "      <td>0.298657</td>\n",
       "      <td>-0.298657</td>\n",
       "    </tr>\n",
       "    <tr>\n",
       "      <th>i_AutoPay</th>\n",
       "      <td>0.252824</td>\n",
       "      <td>-0.252824</td>\n",
       "    </tr>\n",
       "    <tr>\n",
       "      <th>i_SellerBusinessType</th>\n",
       "      <td>0.251093</td>\n",
       "      <td>0.251093</td>\n",
       "    </tr>\n",
       "    <tr>\n",
       "      <th>i_RatingsPresent</th>\n",
       "      <td>0.246642</td>\n",
       "      <td>-0.246642</td>\n",
       "    </tr>\n",
       "    <tr>\n",
       "      <th>i_NegFeedback365Day</th>\n",
       "      <td>0.235339</td>\n",
       "      <td>-0.235339</td>\n",
       "    </tr>\n",
       "    <tr>\n",
       "      <th>PosFeedback365Day</th>\n",
       "      <td>0.189710</td>\n",
       "      <td>-0.189710</td>\n",
       "    </tr>\n",
       "    <tr>\n",
       "      <th>HandlingTime</th>\n",
       "      <td>0.181443</td>\n",
       "      <td>0.181443</td>\n",
       "    </tr>\n",
       "    <tr>\n",
       "      <th>nShippingCountries</th>\n",
       "      <td>0.151386</td>\n",
       "      <td>-0.151386</td>\n",
       "    </tr>\n",
       "    <tr>\n",
       "      <th>FeedbackScore</th>\n",
       "      <td>0.150311</td>\n",
       "      <td>-0.150311</td>\n",
       "    </tr>\n",
       "    <tr>\n",
       "      <th>NegFeedback365Day</th>\n",
       "      <td>0.147480</td>\n",
       "      <td>-0.147480</td>\n",
       "    </tr>\n",
       "    <tr>\n",
       "      <th>i_GlobalShipping</th>\n",
       "      <td>0.143796</td>\n",
       "      <td>-0.143796</td>\n",
       "    </tr>\n",
       "    <tr>\n",
       "      <th>PosFeedback30Day</th>\n",
       "      <td>0.141595</td>\n",
       "      <td>-0.141595</td>\n",
       "    </tr>\n",
       "    <tr>\n",
       "      <th>i_shippingType</th>\n",
       "      <td>0.138791</td>\n",
       "      <td>-0.138791</td>\n",
       "    </tr>\n",
       "    <tr>\n",
       "      <th>auctionLength</th>\n",
       "      <td>0.101049</td>\n",
       "      <td>-0.101049</td>\n",
       "    </tr>\n",
       "    <tr>\n",
       "      <th>i_enoughKeyWords</th>\n",
       "      <td>0.093495</td>\n",
       "      <td>0.093495</td>\n",
       "    </tr>\n",
       "    <tr>\n",
       "      <th>i_PosFeedback30Day</th>\n",
       "      <td>0.093155</td>\n",
       "      <td>-0.093155</td>\n",
       "    </tr>\n",
       "    <tr>\n",
       "      <th>i_NegFeedback30Day</th>\n",
       "      <td>0.091450</td>\n",
       "      <td>-0.091450</td>\n",
       "    </tr>\n",
       "    <tr>\n",
       "      <th>i_QuantityThreshold</th>\n",
       "      <td>0.091033</td>\n",
       "      <td>-0.091033</td>\n",
       "    </tr>\n",
       "    <tr>\n",
       "      <th>nPaymentMethods</th>\n",
       "      <td>0.068692</td>\n",
       "      <td>-0.068692</td>\n",
       "    </tr>\n",
       "    <tr>\n",
       "      <th>i_paymentMethod</th>\n",
       "      <td>0.067031</td>\n",
       "      <td>0.067031</td>\n",
       "    </tr>\n",
       "    <tr>\n",
       "      <th>i_expeditedShipping</th>\n",
       "      <td>0.062472</td>\n",
       "      <td>-0.062472</td>\n",
       "    </tr>\n",
       "  </tbody>\n",
       "</table>\n",
       "</div>"
      ],
      "text/plain": [
       "                            abscorr      corr\n",
       "feature                                      \n",
       "i_BidCount                 0.591496  0.591496\n",
       "BidCount                   0.348213  0.348213\n",
       "i_ListingType              0.322323  0.322323\n",
       "i_oneDayShippingAvailable  0.303653 -0.303653\n",
       "i_buyItNowAvailable        0.298657 -0.298657\n",
       "i_AutoPay                  0.252824 -0.252824\n",
       "i_SellerBusinessType       0.251093  0.251093\n",
       "i_RatingsPresent           0.246642 -0.246642\n",
       "i_NegFeedback365Day        0.235339 -0.235339\n",
       "PosFeedback365Day          0.189710 -0.189710\n",
       "HandlingTime               0.181443  0.181443\n",
       "nShippingCountries         0.151386 -0.151386\n",
       "FeedbackScore              0.150311 -0.150311\n",
       "NegFeedback365Day          0.147480 -0.147480\n",
       "i_GlobalShipping           0.143796 -0.143796\n",
       "PosFeedback30Day           0.141595 -0.141595\n",
       "i_shippingType             0.138791 -0.138791\n",
       "auctionLength              0.101049 -0.101049\n",
       "i_enoughKeyWords           0.093495  0.093495\n",
       "i_PosFeedback30Day         0.093155 -0.093155\n",
       "i_NegFeedback30Day         0.091450 -0.091450\n",
       "i_QuantityThreshold        0.091033 -0.091033\n",
       "nPaymentMethods            0.068692 -0.068692\n",
       "i_paymentMethod            0.067031  0.067031\n",
       "i_expeditedShipping        0.062472 -0.062472"
      ]
     },
     "execution_count": 366,
     "metadata": {},
     "output_type": "execute_result"
    }
   ],
   "source": [
    "from scipy.stats.stats import pearsonr\n",
    "correlations=[]\n",
    "dftousetrain=dftouse[mask]\n",
    "for col in lcols:\n",
    "    r=pearsonr(dftousetrain[col], dftousetrain['sellingStatus'])[0]\n",
    "    correlations.append(dict(feature=col,corr=r, abscorr=np.abs(r)))\n",
    "\n",
    "bpdf=pd.DataFrame(correlations).sort('abscorr', ascending=False)\n",
    "bpdf.set_index(['feature'], inplace=True)\n",
    "bpdf.head(25)"
   ]
  },
  {
   "cell_type": "code",
   "execution_count": 367,
   "metadata": {
    "collapsed": true
   },
   "outputs": [],
   "source": [
    "from sklearn import feature_selection\n",
    "from sklearn.pipeline import Pipeline\n",
    "from sklearn.feature_selection import SelectKBest"
   ]
  },
  {
   "cell_type": "code",
   "execution_count": 368,
   "metadata": {
    "collapsed": true
   },
   "outputs": [],
   "source": [
    "def pearson_scorer(X,y):\n",
    "    rs=np.zeros(X.shape[1])\n",
    "    pvals=np.zeros(X.shape[1])\n",
    "    i=0\n",
    "    for v in X.T:\n",
    "        rs[i], pvals[i]=pearsonr(v, y)\n",
    "        i=i+1\n",
    "    return np.abs(rs), pvals"
   ]
  },
  {
   "cell_type": "code",
   "execution_count": 369,
   "metadata": {
    "collapsed": true
   },
   "outputs": [],
   "source": [
    "selectorlinearsvm = SelectKBest(k=25, score_func=pearson_scorer)\n",
    "pipelinearsvm = Pipeline([('select', selectorlinearsvm), ('svm', LinearSVC(loss=\"hinge\"))])"
   ]
  },
  {
   "cell_type": "code",
   "execution_count": 370,
   "metadata": {
    "collapsed": false
   },
   "outputs": [
    {
     "name": "stdout",
     "output_type": "stream",
     "text": [
      "using reuse split\n",
      "BEST {'svm__C': 100.0} 0.796638914585 [mean: 0.65973, std: 0.02298, params: {'svm__C': 1e-05}, mean: 0.71878, std: 0.04577, params: {'svm__C': 0.001}, mean: 0.78569, std: 0.03737, params: {'svm__C': 0.01}, mean: 0.79602, std: 0.03721, params: {'svm__C': 0.1}, mean: 0.79571, std: 0.03875, params: {'svm__C': 1.0}, mean: 0.79417, std: 0.03914, params: {'svm__C': 10.0}, mean: 0.79664, std: 0.04280, params: {'svm__C': 100.0}]\n",
      "############# based on standard predict ################\n",
      "Accuracy on training data: 0.84\n",
      "Accuracy on test data:     0.85\n",
      "[[ 692  238]\n",
      " [ 188 1663]]\n",
      "########################################################\n"
     ]
    }
   ],
   "source": [
    "pipelinearsvm, _,_,_,_  = do_classify(pipelinearsvm, {\"svm__C\": [0.00001, 0.001, 0.01, 0.1, 1.0, 10.0, 100.0]}, dftouse,lcols, 'sellingStatus',1, reuse_split=reuse_split)"
   ]
  },
  {
   "cell_type": "code",
   "execution_count": 371,
   "metadata": {
    "collapsed": false
   },
   "outputs": [
    {
     "data": {
      "text/plain": [
       "array(['i_paymentMethod', 'i_AutoPay', 'BidCount', 'i_GlobalShipping',\n",
       "       'HandlingTime', 'i_ListingType', 'i_QuantityThreshold',\n",
       "       'FeedbackScore', 'i_SellerBusinessType', 'nPaymentMethods',\n",
       "       'nShippingCountries', 'i_buyItNowAvailable', 'i_expeditedShipping',\n",
       "       'i_shippingType', 'i_oneDayShippingAvailable', 'i_RatingsPresent',\n",
       "       'NegFeedback365Day', 'PosFeedback30Day', 'PosFeedback365Day',\n",
       "       'auctionLength', 'i_enoughKeyWords', 'i_BidCount',\n",
       "       'i_NegFeedback30Day', 'i_NegFeedback365Day', 'i_PosFeedback30Day'], \n",
       "      dtype='|S27')"
      ]
     },
     "execution_count": 371,
     "metadata": {},
     "output_type": "execute_result"
    }
   ],
   "source": [
    "np.array(lcols)[pipelinearsvm.get_params()['select'].get_support()]"
   ]
  },
  {
   "cell_type": "code",
   "execution_count": 372,
   "metadata": {
    "collapsed": false
   },
   "outputs": [
    {
     "data": {
      "image/png": "iVBORw0KGgoAAAANSUhEUgAAAf0AAAFtCAYAAAANqrPLAAAABHNCSVQICAgIfAhkiAAAAAlwSFlz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\nrTaJAAAAAElFTkSuQmCC\n",
      "text/plain": [
       "<matplotlib.figure.Figure at 0x143861ed0>"
      ]
     },
     "metadata": {},
     "output_type": "display_data"
    }
   ],
   "source": [
    "with sns.color_palette(\"dark\"):\n",
    "    ax=make_roc(\"svm-all-features\",clfsvm, ytest, Xtest, None, labe=250, proba=False, skip=50)\n",
    "    make_roc(\"svm-feature-selected\",pipelinearsvm, ytest, Xtest, ax, labe=250, proba=False, skip=50);\n",
    "    make_roc(\"logistic-with-lasso\",clflog, ytest, Xtest, ax, labe=250, proba=True,  skip=50);"
   ]
  },
  {
   "cell_type": "code",
   "execution_count": 374,
   "metadata": {
    "collapsed": false
   },
   "outputs": [
    {
     "name": "stdout",
     "output_type": "stream",
     "text": [
      "4313 2173\n"
     ]
    }
   ],
   "source": [
    "jtrain=np.arange(0, ytrain.shape[0])\n",
    "n_pos=len(jtrain[ytrain==1])\n",
    "n_neg=len(jtrain[ytrain==0])\n",
    "print n_pos, n_neg\n"
   ]
  },
  {
   "cell_type": "code",
   "execution_count": 375,
   "metadata": {
    "collapsed": false
   },
   "outputs": [],
   "source": [
    "ineg = np.random.choice(jtrain[ytrain==1], n_neg, replace=False)\n"
   ]
  },
  {
   "cell_type": "code",
   "execution_count": 376,
   "metadata": {
    "collapsed": false
   },
   "outputs": [
    {
     "data": {
      "text/plain": [
       "(4346,)"
      ]
     },
     "execution_count": 376,
     "metadata": {},
     "output_type": "execute_result"
    }
   ],
   "source": [
    "alli=np.concatenate((jtrain[ytrain==0], ineg))\n",
    "alli.shape"
   ]
  },
  {
   "cell_type": "code",
   "execution_count": 377,
   "metadata": {
    "collapsed": false
   },
   "outputs": [
    {
     "data": {
      "text/plain": [
       "((4346, 45), (4346,))"
      ]
     },
     "execution_count": 377,
     "metadata": {},
     "output_type": "execute_result"
    }
   ],
   "source": [
    "Xtrain_new = Xtrain[alli]\n",
    "ytrain_new = ytrain[alli]\n",
    "Xtrain_new.shape, ytrain_new.shape"
   ]
  },
  {
   "cell_type": "code",
   "execution_count": 378,
   "metadata": {
    "collapsed": true
   },
   "outputs": [],
   "source": [
    "reuse_split_new=dict(Xtrain=Xtrain_new, Xtest=Xtest, ytrain=ytrain_new, ytest=ytest)"
   ]
  },
  {
   "cell_type": "code",
   "execution_count": 379,
   "metadata": {
    "collapsed": false
   },
   "outputs": [
    {
     "name": "stdout",
     "output_type": "stream",
     "text": [
      "using reuse split\n",
      "BEST {'C': 0.01} 0.811780947998 [mean: 0.76116, std: 0.06407, params: {'C': 0.001}, mean: 0.81178, std: 0.02174, params: {'C': 0.01}, mean: 0.78302, std: 0.08172, params: {'C': 0.1}, mean: 0.69880, std: 0.14212, params: {'C': 1.0}, mean: 0.70502, std: 0.13511, params: {'C': 10.0}, mean: 0.70249, std: 0.15226, params: {'C': 100.0}]\n",
      "############# based on standard predict ################\n",
      "Accuracy on training data: 0.82\n",
      "Accuracy on test data:     0.78\n",
      "[[ 886   44]\n",
      " [ 576 1275]]\n",
      "########################################################\n"
     ]
    }
   ],
   "source": [
    "clfsvm_b, Xtrain, ytrain, Xtest, ytest = do_classify(LinearSVC(loss=\"hinge\"), {\"C\": [0.001, 0.01, 0.1, 1.0, 10.0, 100.0]}, dftouse,lcols, 'sellingStatus',1,reuse_split = reuse_split_new)"
   ]
  },
  {
   "cell_type": "code",
   "execution_count": 380,
   "metadata": {
    "collapsed": false
   },
   "outputs": [
    {
     "data": {
      "image/png": "iVBORw0KGgoAAAANSUhEUgAAAf0AAAFtCAYAAAANqrPLAAAABHNCSVQICAgIfAhkiAAAAAlwSFlz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\nHgAAAABJRU5ErkJggg==\n",
      "text/plain": [
       "<matplotlib.figure.Figure at 0x13a36db90>"
      ]
     },
     "metadata": {},
     "output_type": "display_data"
    }
   ],
   "source": [
    "with sns.color_palette(\"dark\"):\n",
    "    ax=make_roc(\"svm-all-features\",clfsvm, ytest, Xtest, None, labe=250, proba=False, skip=50)\n",
    "    make_roc(\"svm-feature-selected\",pipelinearsvm, ytest, Xtest, ax, labe=250, proba=False, skip=50);\n",
    "    make_roc(\"logistic-with-lasso\",clflog, ytest, Xtest, ax, labe=250, proba=True,  skip=50);\n",
    "    make_roc(\"svm-all-features-balanced\",clfsvm_b, ytest, Xtest, ax, labe=250, proba=False,  skip=50);"
   ]
  },
  {
   "cell_type": "code",
   "execution_count": 381,
   "metadata": {
    "collapsed": false
   },
   "outputs": [
    {
     "data": {
      "text/plain": [
       "<matplotlib.legend.Legend at 0x117287590>"
      ]
     },
     "execution_count": 381,
     "metadata": {},
     "output_type": "execute_result"
    },
    {
     "data": {
      "image/png": "iVBORw0KGgoAAAANSUhEUgAAAfYAAAFRCAYAAACG8o/qAAAABHNCSVQICAgIfAhkiAAAAAlwSFlz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\nAElFTkSuQmCC\n",
      "text/plain": [
       "<matplotlib.figure.Figure at 0x13e949650>"
      ]
     },
     "metadata": {},
     "output_type": "display_data"
    }
   ],
   "source": [
    "ax = make_profit(\"svm-all-features\",clfsvm, ytest, Xtest, u, None, labe=250, threshold=True, proba=False)\n",
    "make_profit(\"svm-feature-selected\",pipelinearsvm, ytest, Xtest, u, ax, labe=250, proba=False);\n",
    "make_profit(\"svm-all-features-balanced\",clfsvm_b, ytest, Xtest, u, ax, labe=250, proba=False);\n",
    "make_profit(\"logistic-with-lasso\",clflog, ytest, Xtest, u, ax, labe=250, threshold=True);\n",
    "plt.legend(loc=4)"
   ]
  },
  {
   "cell_type": "code",
   "execution_count": 382,
   "metadata": {
    "collapsed": true
   },
   "outputs": [],
   "source": [
    "from sklearn.svm import SVC"
   ]
  },
  {
   "cell_type": "code",
   "execution_count": 383,
   "metadata": {
    "collapsed": true
   },
   "outputs": [],
   "source": [
    "selectorsvm2 = SelectKBest(k=25, score_func=pearson_scorer)\n",
    "pipesvm2 = Pipeline([('select2', selectorsvm2), ('svm2', SVC())])"
   ]
  },
  {
   "cell_type": "code",
   "execution_count": 384,
   "metadata": {
    "collapsed": true
   },
   "outputs": [],
   "source": [
    "jtrain_new=np.arange(0, ytrain_new.shape[0])\n",
    "ipos_new = np.random.choice(jtrain_new[ytrain_new==1], 300, replace=False)\n",
    "ineg_new = np.random.choice(jtrain_new[ytrain_new==0], 300, replace=False)\n",
    "subsampled_i=np.concatenate((ipos_new,ineg_new))\n",
    "Xtrain_new2=Xtrain_new[subsampled_i]\n",
    "ytrain_new2=ytrain_new[subsampled_i]"
   ]
  },
  {
   "cell_type": "code",
   "execution_count": 385,
   "metadata": {
    "collapsed": true
   },
   "outputs": [],
   "source": [
    "reuse_split_subsampled=dict(Xtrain=Xtrain_new2, Xtest=Xtest, ytrain=ytrain_new2, ytest=ytest)"
   ]
  },
  {
   "cell_type": "code",
   "execution_count": 386,
   "metadata": {
    "collapsed": false
   },
   "outputs": [
    {
     "name": "stdout",
     "output_type": "stream",
     "text": [
      "using reuse split\n",
      "BEST {'svm2__C': 100000000.0, 'svm2__gamma': 1e-07, 'svm2__kernel': 'rbf'} 0.835 [mean: 0.60500, std: 0.04491, params: {'svm2__C': 100000000.0, 'svm2__gamma': 1e-09, 'svm2__kernel': 'rbf'}, mean: 0.83500, std: 0.03958, params: {'svm2__C': 100000000.0, 'svm2__gamma': 1e-07, 'svm2__kernel': 'rbf'}, mean: 0.82333, std: 0.04983, params: {'svm2__C': 100000000.0, 'svm2__gamma': 1e-05, 'svm2__kernel': 'rbf'}]\n",
      "############# based on standard predict ################\n",
      "Accuracy on training data: 0.84\n",
      "Accuracy on test data:     0.80\n",
      "[[ 793  137]\n",
      " [ 413 1438]]\n",
      "########################################################\n",
      "CPU times: user 2.71 s, sys: 7.77 ms, total: 2.72 s\n",
      "Wall time: 2.73 s\n"
     ]
    }
   ],
   "source": [
    "%%time\n",
    "#your code here\n",
    "params = {\"svm2__C\": [1e8], \"svm2__gamma\":[1e-9,1e-7,1e-5],\"svm2__kernel\":[\"rbf\"]}\n",
    "clfsvm_subsampled, Xtrain, ytrain, Xtest, ytest = do_classify(pipesvm2, params, dftouse,lcols, 'sellingStatus',1,reuse_split = reuse_split_subsampled)"
   ]
  },
  {
   "cell_type": "code",
   "execution_count": 387,
   "metadata": {
    "collapsed": false
   },
   "outputs": [
    {
     "name": "stdout",
     "output_type": "stream",
     "text": [
      "using reuse split\n",
      "BEST {'svm2__C': 100000000.0, 'svm2__gamma': 1e-07, 'svm2__kernel': 'rbf'} 0.835 [mean: 0.60500, std: 0.04491, params: {'svm2__C': 100000000.0, 'svm2__gamma': 1e-09, 'svm2__kernel': 'rbf'}, mean: 0.83500, std: 0.03958, params: {'svm2__C': 100000000.0, 'svm2__gamma': 1e-07, 'svm2__kernel': 'rbf'}, mean: 0.82333, std: 0.04983, params: {'svm2__C': 100000000.0, 'svm2__gamma': 1e-05, 'svm2__kernel': 'rbf'}]\n",
      "############# based on standard predict ################\n",
      "Accuracy on training data: 0.84\n",
      "Accuracy on test data:     0.80\n",
      "[[ 793  137]\n",
      " [ 413 1438]]\n",
      "########################################################\n",
      "CPU times: user 2.81 s, sys: 16.9 ms, total: 2.83 s\n",
      "Wall time: 2.87 s\n"
     ]
    }
   ],
   "source": [
    "%%time\n",
    "#your code here\n",
    "selectorsvm3 = SelectKBest(k=25, score_func=pearson_scorer)\n",
    "pipesvm3 = Pipeline([('select3', selectorsvm3), ('svm2', SVC(C=1e8,gamma=1e-9,kernel=\"rbf\"))])\n",
    "clfsvm_k, Xtrain, ytrain, Xtest, ytest = do_classify(pipesvm3, params, dftouse,lcols, 'sellingStatus',1,reuse_split = reuse_split_subsampled)"
   ]
  },
  {
   "cell_type": "code",
   "execution_count": 388,
   "metadata": {
    "collapsed": false
   },
   "outputs": [
    {
     "data": {
      "image/png": "iVBORw0KGgoAAAANSUhEUgAAAfgAAAFtCAYAAADrg3iPAAAABHNCSVQICAgIfAhkiAAAAAlwSFlz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\n",
      "text/plain": [
       "<matplotlib.figure.Figure at 0x143419450>"
      ]
     },
     "metadata": {},
     "output_type": "display_data"
    }
   ],
   "source": [
    "#Part 5\n",
    "with sns.color_palette(\"dark\"):\n",
    "    ax=make_roc(\"rbf-svm-feature-selected-balanced\",clfsvm_k, ytest, Xtest, None, labe=250, proba=False, skip=50)\n",
    "    make_roc(\"logistic-with-lasso\",clflog, ytest, Xtest, ax, labe=250, proba=True,  skip=50);\n",
    "    make_roc(\"svm-all-features-balanced\",clfsvm_b, ytest, Xtest, ax, labe=250, proba=False,  skip=50);"
   ]
  },
  {
   "cell_type": "code",
   "execution_count": 389,
   "metadata": {
    "collapsed": false
   },
   "outputs": [
    {
     "data": {
      "text/plain": [
       "<matplotlib.legend.Legend at 0x148b1c310>"
      ]
     },
     "execution_count": 389,
     "metadata": {},
     "output_type": "execute_result"
    },
    {
     "data": {
      "image/png": "iVBORw0KGgoAAAANSUhEUgAAAf0AAAFtCAYAAAANqrPLAAAABHNCSVQICAgIfAhkiAAAAAlwSFlz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\n",
      "text/plain": [
       "<matplotlib.figure.Figure at 0x13a1522d0>"
      ]
     },
     "metadata": {},
     "output_type": "display_data"
    }
   ],
   "source": [
    "ax = make_profit(\"rbf-svm-feature-selected-balanced\",clfsvm_k, ytest, Xtest, u, None, labe=300, threshold=True, proba=False)\n",
    "\n",
    "make_profit(\"svm-all-features-balanced\",clfsvm_b, ytest, Xtest, u, ax, labe=300, proba=False);\n",
    "make_profit(\"logistic-with-lasso\",clflog, ytest, Xtest, u, ax, labe=300, threshold=True);\n",
    "plt.axhline(68, color='orange', alpha=.4, label='max profit')\n",
    "plt.xlabel(\"Probability You Sell on Ebay\")\n",
    "plt.ylabel(\"Estimated Profit made from your decision\")\n",
    "plt.title(\"Profit Curve for Selling on Ebay for Different Feature Selection and Lasso\")\n",
    "plt.legend(loc=4)"
   ]
  },
  {
   "cell_type": "markdown",
   "metadata": {},
   "source": [
    "## What this tells us\n",
    "\n",
    "The x-axis on this plot tells us a probability of whether or not you sell on eBay. Our"
   ]
  },
  {
   "cell_type": "code",
   "execution_count": null,
   "metadata": {
    "collapsed": true
   },
   "outputs": [],
<<<<<<< HEAD
   "source": [
    "df['Eins'] = np.ones(( len(df), ))\n",
    "Y = df.Alcohol[:-1]\n",
    "X = df[['Tobacco','Eins']][:-1]\n",
    "result = sm.OLS( Y, X ).fit()\n",
    "result.summary()"
>>>>>>> 4f265ea0c10d9a4de241cbb5a392494d6237ea86
   ]
=======
   "source": []
>>>>>>> 57f21cc47b83d6bf965d25d03060b6a0c2ec58e0
  },
  {
   "cell_type": "code",
   "execution_count": null,
   "metadata": {
    "collapsed": true
   },
   "outputs": [],
   "source": []
  }
 ],
 "metadata": {
  "kernelspec": {
   "display_name": "Python 2",
   "language": "python",
   "name": "python2"
  },
  "language_info": {
   "codemirror_mode": {
    "name": "ipython",
    "version": 2
   },
   "file_extension": ".py",
   "mimetype": "text/x-python",
   "name": "python",
   "nbconvert_exporter": "python",
   "pygments_lexer": "ipython2",
   "version": "2.7.10"
  }
 },
 "nbformat": 4,
 "nbformat_minor": 0
}

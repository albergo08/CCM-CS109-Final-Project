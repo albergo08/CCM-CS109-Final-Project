{
 "cells": [
  {
   "cell_type": "code",
   "execution_count": 26,
   "metadata": {
    "collapsed": false
   },
   "outputs": [],
   "source": [
    "%matplotlib inline\n",
    "import numpy as np\n",
    "import scipy as sp\n",
    "from itertools import product\n",
    "import json \n",
    "import csv\n",
    "import matplotlib as mpl\n",
    "import matplotlib.cm as cm\n",
    "import matplotlib.pyplot as plt\n",
    "import pandas as pd\n",
    "pd.set_option('display.width', 500)\n",
    "pd.set_option('display.max_columns', 100)\n",
    "pd.set_option('display.notebook_repr_html', True)\n",
    "import seaborn as sns\n",
    "sns.set_style(\"whitegrid\")\n",
    "sns.set_context(\"poster\")"
   ]
  },
  {
   "cell_type": "code",
   "execution_count": 27,
   "metadata": {
    "collapsed": true
   },
   "outputs": [],
   "source": [
    "dftouse=pd.read_csv(\"dftouse.csv\")"
   ]
  },
  {
   "cell_type": "code",
   "execution_count": 28,
   "metadata": {
    "collapsed": false
   },
   "outputs": [],
   "source": [
    "del dftouse['Unnamed: 0']\n",
    "del dftouse['ReserveMet']\n",
    "del dftouse['MinimumToBid']\n",
    "dftouse = dftouse[pd.isnull(dftouse.HitCount) == False]"
   ]
  },
  {
   "cell_type": "code",
   "execution_count": 29,
   "metadata": {
    "collapsed": false
   },
   "outputs": [
    {
     "data": {
      "text/html": [
       "<div>\n",
       "<table border=\"1\" class=\"dataframe\">\n",
       "  <thead>\n",
       "    <tr style=\"text-align: right;\">\n",
       "      <th></th>\n",
       "      <th>country</th>\n",
       "      <th>itemId</th>\n",
       "      <th>paymentMethod</th>\n",
       "      <th>postalCode</th>\n",
       "      <th>sellingStatus</th>\n",
       "      <th>topRatedListing</th>\n",
       "      <th>AutoPay</th>\n",
       "      <th>AvailableForPickupDropOff</th>\n",
       "      <th>BestOfferEnabled</th>\n",
       "      <th>BidCount</th>\n",
       "      <th>BuyItNowPrice</th>\n",
       "      <th>FinalPrice</th>\n",
       "      <th>GlobalShipping</th>\n",
       "      <th>HandlingTime</th>\n",
       "      <th>HitCount</th>\n",
       "      <th>ListingStatus</th>\n",
       "      <th>ListingType</th>\n",
       "      <th>Location</th>\n",
       "      <th>ProductID</th>\n",
       "      <th>Quantity</th>\n",
       "      <th>QuantityThreshold</th>\n",
       "      <th>ShipToLocations</th>\n",
       "      <th>Title</th>\n",
       "      <th>UserID</th>\n",
       "      <th>FeedbackScore</th>\n",
       "      <th>PositiveFeedbackPercent</th>\n",
       "      <th>SellerBusinessType</th>\n",
       "      <th>NewUser</th>\n",
       "      <th>FeedbackPrivate</th>\n",
       "      <th>nPhotos</th>\n",
       "      <th>conditionId</th>\n",
       "      <th>bestOfferEnabled</th>\n",
       "      <th>buyItNowAvailable</th>\n",
       "      <th>expeditedShipping</th>\n",
       "      <th>shippingType</th>\n",
       "      <th>oneDayShippingAvailable</th>\n",
       "      <th>NegFeedback30Day</th>\n",
       "      <th>NegFeedback365Day</th>\n",
       "      <th>PosFeedback30Day</th>\n",
       "      <th>PosFeedback365Day</th>\n",
       "      <th>auctionLength</th>\n",
       "    </tr>\n",
       "  </thead>\n",
       "  <tbody>\n",
       "    <tr>\n",
       "      <th>0</th>\n",
       "      <td>0</td>\n",
       "      <td>131642735687</td>\n",
       "      <td>0</td>\n",
       "      <td>10590</td>\n",
       "      <td>0</td>\n",
       "      <td>False</td>\n",
       "      <td>False</td>\n",
       "      <td>0</td>\n",
       "      <td>False</td>\n",
       "      <td>41</td>\n",
       "      <td>0</td>\n",
       "      <td>202.09</td>\n",
       "      <td>False</td>\n",
       "      <td>2</td>\n",
       "      <td>190</td>\n",
       "      <td>Completed</td>\n",
       "      <td>0</td>\n",
       "      <td>South Salem, New York</td>\n",
       "      <td>NaN</td>\n",
       "      <td>1</td>\n",
       "      <td>0</td>\n",
       "      <td>0</td>\n",
       "      <td>iPhone 5s-32gb-Space Gray-unlocked</td>\n",
       "      <td>jdwein1980</td>\n",
       "      <td>19</td>\n",
       "      <td>100.0</td>\n",
       "      <td>1</td>\n",
       "      <td>False</td>\n",
       "      <td>False</td>\n",
       "      <td>3</td>\n",
       "      <td>5</td>\n",
       "      <td>False</td>\n",
       "      <td>False</td>\n",
       "      <td>True</td>\n",
       "      <td>1</td>\n",
       "      <td>False</td>\n",
       "      <td>0</td>\n",
       "      <td>0</td>\n",
       "      <td>5</td>\n",
       "      <td>5</td>\n",
       "      <td>168</td>\n",
       "    </tr>\n",
       "    <tr>\n",
       "      <th>1</th>\n",
       "      <td>0</td>\n",
       "      <td>262126933108</td>\n",
       "      <td>0</td>\n",
       "      <td>35004</td>\n",
       "      <td>0</td>\n",
       "      <td>False</td>\n",
       "      <td>False</td>\n",
       "      <td>0</td>\n",
       "      <td>False</td>\n",
       "      <td>4</td>\n",
       "      <td>0</td>\n",
       "      <td>260.00</td>\n",
       "      <td>False</td>\n",
       "      <td>3</td>\n",
       "      <td>32</td>\n",
       "      <td>Completed</td>\n",
       "      <td>0</td>\n",
       "      <td>Moody, Alabama</td>\n",
       "      <td>NaN</td>\n",
       "      <td>1</td>\n",
       "      <td>0</td>\n",
       "      <td>0</td>\n",
       "      <td>apple iphone 5s 32gb</td>\n",
       "      <td>forwhlrcr1965</td>\n",
       "      <td>565</td>\n",
       "      <td>100.0</td>\n",
       "      <td>1</td>\n",
       "      <td>False</td>\n",
       "      <td>False</td>\n",
       "      <td>2</td>\n",
       "      <td>5</td>\n",
       "      <td>False</td>\n",
       "      <td>False</td>\n",
       "      <td>True</td>\n",
       "      <td>0</td>\n",
       "      <td>False</td>\n",
       "      <td>0</td>\n",
       "      <td>0</td>\n",
       "      <td>3</td>\n",
       "      <td>32</td>\n",
       "      <td>120</td>\n",
       "    </tr>\n",
       "    <tr>\n",
       "      <th>2</th>\n",
       "      <td>0</td>\n",
       "      <td>252155964081</td>\n",
       "      <td>0</td>\n",
       "      <td>98104</td>\n",
       "      <td>0</td>\n",
       "      <td>False</td>\n",
       "      <td>False</td>\n",
       "      <td>0</td>\n",
       "      <td>False</td>\n",
       "      <td>3</td>\n",
       "      <td>0</td>\n",
       "      <td>152.50</td>\n",
       "      <td>False</td>\n",
       "      <td>2</td>\n",
       "      <td>168</td>\n",
       "      <td>Completed</td>\n",
       "      <td>0</td>\n",
       "      <td>Seattle, Washington</td>\n",
       "      <td>168534287</td>\n",
       "      <td>1</td>\n",
       "      <td>0</td>\n",
       "      <td>1</td>\n",
       "      <td>Apple iPhone 5s - 32GB SPACE GRAY AT&amp;T</td>\n",
       "      <td>15-alice</td>\n",
       "      <td>15</td>\n",
       "      <td>94.1</td>\n",
       "      <td>1</td>\n",
       "      <td>False</td>\n",
       "      <td>False</td>\n",
       "      <td>2</td>\n",
       "      <td>5</td>\n",
       "      <td>False</td>\n",
       "      <td>False</td>\n",
       "      <td>False</td>\n",
       "      <td>1</td>\n",
       "      <td>False</td>\n",
       "      <td>0</td>\n",
       "      <td>1</td>\n",
       "      <td>2</td>\n",
       "      <td>17</td>\n",
       "      <td>120</td>\n",
       "    </tr>\n",
       "    <tr>\n",
       "      <th>3</th>\n",
       "      <td>0</td>\n",
       "      <td>252163774777</td>\n",
       "      <td>0</td>\n",
       "      <td>98104</td>\n",
       "      <td>0</td>\n",
       "      <td>False</td>\n",
       "      <td>False</td>\n",
       "      <td>0</td>\n",
       "      <td>False</td>\n",
       "      <td>1</td>\n",
       "      <td>0</td>\n",
       "      <td>99.00</td>\n",
       "      <td>False</td>\n",
       "      <td>2</td>\n",
       "      <td>143</td>\n",
       "      <td>Completed</td>\n",
       "      <td>0</td>\n",
       "      <td>Seattle, Washington</td>\n",
       "      <td>168553370</td>\n",
       "      <td>1</td>\n",
       "      <td>0</td>\n",
       "      <td>0</td>\n",
       "      <td>Apple iPhone 5s - 32GB - Silver (Verizon) Smar...</td>\n",
       "      <td>15-alice</td>\n",
       "      <td>15</td>\n",
       "      <td>94.1</td>\n",
       "      <td>1</td>\n",
       "      <td>False</td>\n",
       "      <td>False</td>\n",
       "      <td>7</td>\n",
       "      <td>9</td>\n",
       "      <td>False</td>\n",
       "      <td>False</td>\n",
       "      <td>True</td>\n",
       "      <td>0</td>\n",
       "      <td>False</td>\n",
       "      <td>0</td>\n",
       "      <td>1</td>\n",
       "      <td>2</td>\n",
       "      <td>17</td>\n",
       "      <td>120</td>\n",
       "    </tr>\n",
       "    <tr>\n",
       "      <th>4</th>\n",
       "      <td>0</td>\n",
       "      <td>252171170160</td>\n",
       "      <td>0</td>\n",
       "      <td>98104</td>\n",
       "      <td>0</td>\n",
       "      <td>False</td>\n",
       "      <td>True</td>\n",
       "      <td>0</td>\n",
       "      <td>False</td>\n",
       "      <td>5</td>\n",
       "      <td>0</td>\n",
       "      <td>96.00</td>\n",
       "      <td>False</td>\n",
       "      <td>2</td>\n",
       "      <td>357</td>\n",
       "      <td>Completed</td>\n",
       "      <td>0</td>\n",
       "      <td>Seattle, Washington</td>\n",
       "      <td>168534287</td>\n",
       "      <td>1</td>\n",
       "      <td>0</td>\n",
       "      <td>0</td>\n",
       "      <td>Apple iPhone 5s - 32GB SPACE GRAY AT&amp;T</td>\n",
       "      <td>15-alice</td>\n",
       "      <td>15</td>\n",
       "      <td>94.1</td>\n",
       "      <td>1</td>\n",
       "      <td>False</td>\n",
       "      <td>False</td>\n",
       "      <td>2</td>\n",
       "      <td>5</td>\n",
       "      <td>False</td>\n",
       "      <td>False</td>\n",
       "      <td>False</td>\n",
       "      <td>1</td>\n",
       "      <td>False</td>\n",
       "      <td>0</td>\n",
       "      <td>1</td>\n",
       "      <td>2</td>\n",
       "      <td>17</td>\n",
       "      <td>120</td>\n",
       "    </tr>\n",
       "  </tbody>\n",
       "</table>\n",
       "</div>"
      ],
      "text/plain": [
       "   country        itemId  paymentMethod postalCode  sellingStatus topRatedListing AutoPay  AvailableForPickupDropOff BestOfferEnabled  BidCount  BuyItNowPrice  FinalPrice GlobalShipping  HandlingTime  HitCount ListingStatus  ListingType               Location  ProductID  Quantity  QuantityThreshold  ShipToLocations                                              Title         UserID  FeedbackScore  PositiveFeedbackPercent  SellerBusinessType NewUser FeedbackPrivate  nPhotos  conditionId  \\\n",
       "0        0  131642735687              0      10590              0           False   False                          0            False        41              0      202.09          False             2       190     Completed            0  South Salem, New York        NaN         1                  0                0                 iPhone 5s-32gb-Space Gray-unlocked     jdwein1980             19                    100.0                   1   False           False        3            5   \n",
       "1        0  262126933108              0      35004              0           False   False                          0            False         4              0      260.00          False             3        32     Completed            0         Moody, Alabama        NaN         1                  0                0                               apple iphone 5s 32gb  forwhlrcr1965            565                    100.0                   1   False           False        2            5   \n",
       "2        0  252155964081              0      98104              0           False   False                          0            False         3              0      152.50          False             2       168     Completed            0    Seattle, Washington  168534287         1                  0                1             Apple iPhone 5s - 32GB SPACE GRAY AT&T       15-alice             15                     94.1                   1   False           False        2            5   \n",
       "3        0  252163774777              0      98104              0           False   False                          0            False         1              0       99.00          False             2       143     Completed            0    Seattle, Washington  168553370         1                  0                0  Apple iPhone 5s - 32GB - Silver (Verizon) Smar...       15-alice             15                     94.1                   1   False           False        7            9   \n",
       "4        0  252171170160              0      98104              0           False    True                          0            False         5              0       96.00          False             2       357     Completed            0    Seattle, Washington  168534287         1                  0                0             Apple iPhone 5s - 32GB SPACE GRAY AT&T       15-alice             15                     94.1                   1   False           False        2            5   \n",
       "\n",
       "  bestOfferEnabled buyItNowAvailable expeditedShipping  shippingType oneDayShippingAvailable  NegFeedback30Day  NegFeedback365Day  PosFeedback30Day  PosFeedback365Day  auctionLength  \n",
       "0            False             False              True             1                   False                 0                  0                 5                  5            168  \n",
       "1            False             False              True             0                   False                 0                  0                 3                 32            120  \n",
       "2            False             False             False             1                   False                 0                  1                 2                 17            120  \n",
       "3            False             False              True             0                   False                 0                  1                 2                 17            120  \n",
       "4            False             False             False             1                   False                 0                  1                 2                 17            120  "
      ]
     },
     "execution_count": 29,
     "metadata": {},
     "output_type": "execute_result"
    }
   ],
   "source": [
    "dftouse.head()"
   ]
  },
  {
   "cell_type": "code",
   "execution_count": 44,
   "metadata": {
    "collapsed": true
   },
   "outputs": [],
   "source": [
    "ZERO_IMPORTANT_VARIABLES = ['BidCount', 'HitCount', 'nPhotos', 'FeedbackScore', 'PositiveFeedbackPercent_x',\n",
    "                            'conditionId']\n",
    "STANDARDIZABLE = ['FinalPrice','auctionLength', 'HandlingTime', 'FeedbackScore', \n",
    "                  'PositiveFeedbackPercent', 'Quantity']"
   ]
  },
  {
   "cell_type": "code",
   "execution_count": 45,
   "metadata": {
    "collapsed": false
   },
   "outputs": [
    {
     "name": "stdout",
     "output_type": "stream",
     "text": [
      "country [0 1]\n",
      "paymentMethod [0 1]\n",
      "sellingStatus [0 1]\n",
      "topRatedListing [False True]\n",
      "AutoPay [False True]\n",
      "AvailableForPickupDropOff [0 1]\n",
      "BestOfferEnabled [False True]\n",
      "BuyItNowPrice [0 1]\n",
      "GlobalShipping [False True]\n",
      "ListingStatus ['Completed' 'Active']\n",
      "ListingType [0 1]\n",
      "QuantityThreshold [0 1]\n",
      "ShipToLocations [0 1]\n",
      "SellerBusinessType [1 0]\n",
      "NewUser [False True]\n",
      "FeedbackPrivate [False True]\n",
      "conditionId [5 9 0 1 3 4]\n",
      "bestOfferEnabled [False True]\n",
      "buyItNowAvailable [False True]\n",
      "expeditedShipping [True False]\n",
      "shippingType [1 0]\n",
      "oneDayShippingAvailable [False True]\n"
     ]
    }
   ],
   "source": [
    "for v in dftouse.columns:\n",
    "    l=dftouse[v].unique()\n",
    "    if len(l) <= 10:\n",
    "        print v, l"
   ]
  },
  {
   "cell_type": "code",
   "execution_count": 46,
   "metadata": {
    "collapsed": true
   },
   "outputs": [],
   "source": [
    "from sklearn.cross_validation import train_test_split\n",
    "itrain, itest = train_test_split(xrange(dftouse.shape[0]), train_size=0.7)"
   ]
  },
  {
   "cell_type": "code",
   "execution_count": 47,
   "metadata": {
    "collapsed": true
   },
   "outputs": [],
   "source": [
    "mask=np.ones(dftouse.shape[0], dtype='int')\n",
    "mask[itrain]=1\n",
    "mask[itest]=0\n",
    "mask = (mask==1)"
   ]
  },
  {
   "cell_type": "code",
   "execution_count": 48,
   "metadata": {
    "collapsed": false
   },
   "outputs": [
    {
     "data": {
      "text/plain": [
       "array([ True,  True,  True, ...,  True,  True,  True], dtype=bool)"
      ]
     },
     "execution_count": 48,
     "metadata": {},
     "output_type": "execute_result"
    }
   ],
   "source": [
    "mask"
   ]
  },
  {
   "cell_type": "code",
   "execution_count": 49,
   "metadata": {
    "collapsed": false
   },
   "outputs": [
    {
     "data": {
      "text/plain": [
       "((9267,), 6486)"
      ]
     },
     "execution_count": 49,
     "metadata": {},
     "output_type": "execute_result"
    }
   ],
   "source": [
    "mask.shape, mask.sum()"
   ]
  },
  {
   "cell_type": "code",
   "execution_count": 50,
   "metadata": {
    "collapsed": false
   },
   "outputs": [
    {
     "name": "stdout",
     "output_type": "stream",
     "text": [
      "FinalPrice\n",
      "auctionLength\n",
      "HandlingTime\n",
      "FeedbackScore\n",
      "PositiveFeedbackPercent\n",
      "Quantity\n"
     ]
    }
   ],
   "source": [
    "from sklearn.preprocessing import StandardScaler\n",
    "for col in STANDARDIZABLE:\n",
    "    print col\n",
    "    valstrain=dftouse[col].values[mask]\n",
    "    valstest=dftouse[col].values[~mask]\n",
    "    scaler=StandardScaler().fit(valstrain)\n",
    "    outtrain=scaler.transform(valstrain)\n",
    "    outtest=scaler.fit_transform(valstest)\n",
    "    out=np.empty(mask.shape[0])\n",
    "    out[mask]=outtrain\n",
    "    out[~mask]=outtest\n",
    "    dftouse[col]=out"
   ]
  },
  {
   "cell_type": "code",
   "execution_count": 52,
   "metadata": {
    "collapsed": false
   },
   "outputs": [
    {
     "name": "stdout",
     "output_type": "stream",
     "text": [
      "40\n"
     ]
    }
   ],
   "source": [
    "lcols=list(dftouse.columns)\n",
    "lcols.remove(u'sellingStatus')\n",
    "print len(lcols)"
   ]
  },
  {
   "cell_type": "code",
   "execution_count": 53,
   "metadata": {
    "collapsed": false
   },
   "outputs": [
    {
     "ename": "NameError",
     "evalue": "name 'INDICATORS' is not defined",
     "output_type": "error",
     "traceback": [
      "\u001b[0;31m---------------------------------------------------------------------------\u001b[0m",
      "\u001b[0;31mNameError\u001b[0m                                 Traceback (most recent call last)",
      "\u001b[0;32m<ipython-input-53-a8c00d39965a>\u001b[0m in \u001b[0;36m<module>\u001b[0;34m()\u001b[0m\n\u001b[1;32m      1\u001b[0m \u001b[0mccols\u001b[0m\u001b[0;34m=\u001b[0m\u001b[0;34m[\u001b[0m\u001b[0;34m]\u001b[0m\u001b[0;34m\u001b[0m\u001b[0m\n\u001b[1;32m      2\u001b[0m \u001b[0;32mfor\u001b[0m \u001b[0mc\u001b[0m \u001b[0;32min\u001b[0m \u001b[0mlcols\u001b[0m\u001b[0;34m:\u001b[0m\u001b[0;34m\u001b[0m\u001b[0m\n\u001b[0;32m----> 3\u001b[0;31m     \u001b[0;32mif\u001b[0m \u001b[0mc\u001b[0m \u001b[0;32mnot\u001b[0m \u001b[0;32min\u001b[0m \u001b[0mINDICATORS\u001b[0m\u001b[0;34m:\u001b[0m\u001b[0;34m\u001b[0m\u001b[0m\n\u001b[0m\u001b[1;32m      4\u001b[0m         \u001b[0mccols\u001b[0m\u001b[0;34m.\u001b[0m\u001b[0mappend\u001b[0m\u001b[0;34m(\u001b[0m\u001b[0mc\u001b[0m\u001b[0;34m)\u001b[0m\u001b[0;34m\u001b[0m\u001b[0m\n\u001b[1;32m      5\u001b[0m \u001b[0;32mprint\u001b[0m \u001b[0mlen\u001b[0m\u001b[0;34m(\u001b[0m\u001b[0mccols\u001b[0m\u001b[0;34m)\u001b[0m\u001b[0;34m,\u001b[0m \u001b[0mlen\u001b[0m\u001b[0;34m(\u001b[0m\u001b[0mINDICATORS\u001b[0m\u001b[0;34m)\u001b[0m\u001b[0;34m\u001b[0m\u001b[0m\n",
      "\u001b[0;31mNameError\u001b[0m: name 'INDICATORS' is not defined"
     ]
    }
   ],
   "source": [
    "ccols=[]\n",
    "for c in lcols:\n",
    "    if c not in INDICATORS:\n",
    "        ccols.append(c)\n",
    "print len(ccols), len(INDICATORS)\n",
    "ccols"
   ]
  },
  {
   "cell_type": "code",
   "execution_count": null,
   "metadata": {
    "collapsed": true
   },
   "outputs": [],
   "source": []
  }
 ],
 "metadata": {
  "kernelspec": {
   "display_name": "Python 2",
   "language": "python",
   "name": "python2"
  },
  "language_info": {
   "codemirror_mode": {
    "name": "ipython",
    "version": 2
   },
   "file_extension": ".py",
   "mimetype": "text/x-python",
   "name": "python",
   "nbconvert_exporter": "python",
   "pygments_lexer": "ipython2",
   "version": "2.7.10"
  }
 },
 "nbformat": 4,
 "nbformat_minor": 0
}

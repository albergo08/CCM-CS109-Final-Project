{
 "cells": [
  {
   "cell_type": "code",
   "execution_count": 29,
   "metadata": {
    "collapsed": true
   },
   "outputs": [],
   "source": [
    "%matplotlib inline\n",
    "import numpy as np\n",
    "import scipy as sp\n",
    "import json \n",
    "import csv\n",
    "import matplotlib as mpl\n",
    "import matplotlib.cm as cm\n",
    "import matplotlib.pyplot as plt\n",
    "import pandas as pd\n",
    "pd.set_option('display.width', 500)\n",
    "pd.set_option('display.max_columns', 100)\n",
    "pd.set_option('display.notebook_repr_html', True)\n",
    "import seaborn as sns\n",
    "sns.set_style(\"whitegrid\")\n",
    "sns.set_context(\"poster\")"
   ]
  },
  {
   "cell_type": "code",
   "execution_count": 117,
   "metadata": {
    "collapsed": false
   },
   "outputs": [
    {
     "data": {
      "text/plain": [
       "[u'Status',\n",
       " u'PositiveFeedbackPercent',\n",
       " u'SellerBusinessType',\n",
       " u'NewUser',\n",
       " u'UserID',\n",
       " u'FeedbackRatingStar',\n",
       " u'FeedbackPrivate',\n",
       " u'FeedbackScore',\n",
       " u'FeedbackDetailsURL',\n",
       " u'SellerItemsURL',\n",
       " u'RegistrationSite',\n",
       " u'RegistrationDate']"
      ]
     },
     "execution_count": 117,
     "metadata": {},
     "output_type": "execute_result"
    }
   ],
   "source": [
    "\n",
    "#dataframe for the finding API, will be merged with the shopping GetSingleItem\n",
    "df_finding=pd.read_json(\"./data/completedItems.json\")\n",
    "\n",
    "\n",
    "df_getsingleitem = pd.read_json(\"./data/getSingleItem.json\")\n",
    "df_getsingleitem=df_getsingleitem.rename(columns = {'ItemID':'itemId'})\n",
    "#df_getsingleitem.head()\n",
    "\n",
    "\n",
    "df_UserProfile=pd.read_json(\"./data/getUserProfile.json\")\n",
    "#df_UserProfile.head()\n",
    "\n",
    "df_finding['IDHash'] = df_finding.itemId.apply(lambda r: tuple(sorted(r)))\n",
    "df_getsingleitem['IDHash'] = df_getsingleitem.itemId.apply(lambda r: tuple(sorted(str(r))))\n",
    "\n",
    "\n",
    "\n",
    "#df = pd.merge(df_finding, df_getsingleitem, on='IDHash', how='outer')\n",
    "#df.head()\n"
   ]
  },
  {
   "cell_type": "code",
   "execution_count": null,
   "metadata": {
    "collapsed": true
   },
   "outputs": [],
   "source": [
    "for i, key in df_UserProfile['User'].keys(), df_UserProfile.index:\n",
    "    df_UserProfile[key] = df_UserProfile.map()"
   ]
  },
  {
   "cell_type": "markdown",
   "metadata": {},
   "source": [
    "**NEXT, we will delete columns that we just don't need to do our analysis. This could even come at the end once we figure out which aren't useful, but must remember to put it here.**\n",
    "\n",
    "\n",
    "## Now we will do some Feature engineering\n",
    "\n",
    "This is to figure out which variables actually make a distinction on profitability"
   ]
  },
  {
   "cell_type": "code",
   "execution_count": 67,
   "metadata": {
    "collapsed": false
   },
   "outputs": [
    {
     "data": {
      "text/plain": [
       "(9914, 23)"
      ]
     },
     "execution_count": 67,
     "metadata": {},
     "output_type": "execute_result"
    }
   ],
   "source": [
    "df_finding.shape\n"
   ]
  },
  {
   "cell_type": "markdown",
   "metadata": {},
   "source": [
    "We delete the columns that are irrelevant to our analysis. For example, DiscountPriceInfo tells us no information about our data, because none of our auctions have discounted prices."
   ]
  },
  {
   "cell_type": "code",
   "execution_count": 32,
   "metadata": {
    "collapsed": false
   },
   "outputs": [],
   "source": [
    "del df_getsingleitem['Charity'], df_getsingleitem['Country'], df_getsingleitem['ConvertedCurrentPrice'], df_getsingleitem['DiscountPriceInfo']\n",
    "del df_getsingleitem['ListingStatus'], df_getsingleitem['PaymentAllowedSite'], df_getsingleitem['ReserveMet'], df_getsingleitem['SKU'], df_getsingleitem['Site'], df_getsingleitem['Storefront']\n",
    "del df['Subtitle'], df['TimeLeft'], df['ViewItemURLForNaturalSearch'], df['ConvertedBuyItNowPrice']"
   ]
  },
  {
   "cell_type": "markdown",
   "metadata": {},
   "source": [
    "We then remove unnecessary information from each of the columns. For example, on CurrentPrice, we only want the value in the dictionary and not the whole dictionary. "
   ]
  },
  {
   "cell_type": "code",
   "execution_count": null,
   "metadata": {
    "collapsed": false
   },
   "outputs": [],
   "source": []
  },
  {
   "cell_type": "code",
   "execution_count": 33,
   "metadata": {
    "collapsed": false
   },
   "outputs": [],
   "source": [
    "#df['CurrentPrice'].values[3][u'Value']\n",
    "\n",
    "df['ListingType'] = df['ListingType'].map({'Chinese': 0, 'FixedPriceItem': 1})\n",
    "df=df.rename(columns = {'CurrentPrice':'FinalPrice'})\n",
    "\n",
    "for i in df.index:\n",
    "    \n",
    "    #getting just the float value and ridding of the dictionary \n",
    "    df['CurrentPrice'].values[i] = df['CurrentPrice'].values[i][u'Value']\n",
    "    \n",
    "    if pd.isnull(df['BuyItNowPrice'].values[i]) == False:\n",
    "        #print df['BuyItNowPrice'].values[i]\n",
    "        df['BuyItNowPrice'].values[i] = df['BuyItNowPrice'].values[i][u'Value']\n",
    "    if pd.isnull(df['MinimumToBid'].values[i]) == False:\n",
    "        df['MinimumToBid'].values[i] = df['MinimumToBid'].values[i][u'Value']\n",
    "    \n",
    "    #we make a numbering system fo ListingType so we can see which type of auction is most successful\n",
    "    #if df['ListingType'][i] == 'Chinese':\n",
    "        #df['ListingType'][i] = 0\n",
    "    #print df.ix[i,'ListingType']\n",
    "    \n",
    "    #df['ListingType'] = df['ListingType'].map({'Chinese': 0, 'FixedPriceItem': 1})\n",
    "    \n",
    "    #if df.ix[i,'ListingType'] == 'Chinese':\n",
    "    #    df.ix[i,'ListingType'] == 0\n",
    "    #df.loc[df['ListingType'] == 'Chinese'] = 0\n",
    "    #df.loc[df['ListingType'] == 'FixedPriceItem'] = 1\n",
    "    #elif df['ListingType'][i] == 'FixedPriceItem':\n",
    "        #df['ListingType'][i] == 1\n",
    "    #if df.ix[i,'ListingType'] == 'FixedPriceItem':\n",
    "    #    df.ix[i,'ListingType'] == 1\n",
    "        \n",
    "    \n",
    "    \n",
    "#because each auction we are dealing with is completed, we say\n",
    "df=df.rename(columns = {'CurrentPrice':'FinalPrice'})"
   ]
  },
  {
   "cell_type": "code",
   "execution_count": 57,
   "metadata": {
    "collapsed": false
   },
   "outputs": [
    {
     "data": {
      "text/plain": [
       "(9856, 54)"
      ]
     },
     "execution_count": 57,
     "metadata": {},
     "output_type": "execute_result"
    }
   ],
   "source": [
    "df.shape"
   ]
  },
  {
   "cell_type": "code",
   "execution_count": 17,
   "metadata": {
    "collapsed": true
   },
   "outputs": [],
   "source": [
    "dftouse = df.copy()"
   ]
  },
  {
   "cell_type": "markdown",
   "metadata": {},
   "source": [
    "**We can now make some separator variables to make listings unique**\n",
    "\n",
    "Certain parameters that are zero are can be significant indicators of specific characteristics of an auction. For example, if the HitCount is zero, that means nobody really bothered to interact with the auction at all."
   ]
  },
  {
   "cell_type": "code",
   "execution_count": 18,
   "metadata": {
    "collapsed": true
   },
   "outputs": [],
   "source": [
    "ZERO_IMPORTANT_VARIABLES = ['BidCount', 'HitCount']"
   ]
  },
  {
   "cell_type": "markdown",
   "metadata": {},
   "source": [
    "To mark binary or indicator variables, we see which of the dataframe fall into this category"
   ]
  },
  {
   "cell_type": "code",
   "execution_count": 19,
   "metadata": {
    "collapsed": false
   },
   "outputs": [
    {
     "name": "stdout",
     "output_type": "stream",
     "text": [
      "AutoPay [False True]\n",
      "AvailableForPickupDropOff [ nan   1.]\n",
      "BestOfferEnabled [False True]\n",
      "BuyItNowAvailable [  1.  nan]\n",
      "EligibleForPickupDropOff [ nan   1.]\n"
     ]
    },
    {
     "ename": "TypeError",
     "evalue": "unhashable type: 'list'",
     "output_type": "error",
     "traceback": [
      "\u001b[0;31m---------------------------------------------------------------------------\u001b[0m",
      "\u001b[0;31mTypeError\u001b[0m                                 Traceback (most recent call last)",
      "\u001b[0;32m<ipython-input-19-8dbd284525cf>\u001b[0m in \u001b[0;36m<module>\u001b[0;34m()\u001b[0m\n\u001b[1;32m      1\u001b[0m \u001b[0;32mfor\u001b[0m \u001b[0mv\u001b[0m \u001b[0;32min\u001b[0m \u001b[0mdf\u001b[0m\u001b[0;34m.\u001b[0m\u001b[0mcolumns\u001b[0m\u001b[0;34m:\u001b[0m\u001b[0;34m\u001b[0m\u001b[0m\n\u001b[0;32m----> 2\u001b[0;31m     \u001b[0ml\u001b[0m\u001b[0;34m=\u001b[0m\u001b[0mdf\u001b[0m\u001b[0;34m[\u001b[0m\u001b[0mv\u001b[0m\u001b[0;34m]\u001b[0m\u001b[0;34m.\u001b[0m\u001b[0munique\u001b[0m\u001b[0;34m(\u001b[0m\u001b[0;34m)\u001b[0m\u001b[0;34m\u001b[0m\u001b[0m\n\u001b[0m\u001b[1;32m      3\u001b[0m     \u001b[0;32mif\u001b[0m \u001b[0mlen\u001b[0m\u001b[0;34m(\u001b[0m\u001b[0ml\u001b[0m\u001b[0;34m)\u001b[0m \u001b[0;34m<=\u001b[0m \u001b[0;36m10\u001b[0m\u001b[0;34m:\u001b[0m\u001b[0;34m\u001b[0m\u001b[0m\n\u001b[1;32m      4\u001b[0m         \u001b[0;32mprint\u001b[0m \u001b[0mv\u001b[0m\u001b[0;34m,\u001b[0m \u001b[0ml\u001b[0m\u001b[0;34m\u001b[0m\u001b[0m\n",
      "\u001b[0;32m//anaconda/lib/python2.7/site-packages/pandas/core/base.pyc\u001b[0m in \u001b[0;36munique\u001b[0;34m(self)\u001b[0m\n\u001b[1;32m    453\u001b[0m             \u001b[0;32mreturn\u001b[0m \u001b[0mvalues\u001b[0m\u001b[0;34m.\u001b[0m\u001b[0munique\u001b[0m\u001b[0;34m(\u001b[0m\u001b[0;34m)\u001b[0m\u001b[0;34m\u001b[0m\u001b[0m\n\u001b[1;32m    454\u001b[0m \u001b[0;34m\u001b[0m\u001b[0m\n\u001b[0;32m--> 455\u001b[0;31m         \u001b[0;32mreturn\u001b[0m \u001b[0munique1d\u001b[0m\u001b[0;34m(\u001b[0m\u001b[0mvalues\u001b[0m\u001b[0;34m)\u001b[0m\u001b[0;34m\u001b[0m\u001b[0m\n\u001b[0m\u001b[1;32m    456\u001b[0m \u001b[0;34m\u001b[0m\u001b[0m\n\u001b[1;32m    457\u001b[0m     \u001b[0;32mdef\u001b[0m \u001b[0mnunique\u001b[0m\u001b[0;34m(\u001b[0m\u001b[0mself\u001b[0m\u001b[0;34m,\u001b[0m \u001b[0mdropna\u001b[0m\u001b[0;34m=\u001b[0m\u001b[0mTrue\u001b[0m\u001b[0;34m)\u001b[0m\u001b[0;34m:\u001b[0m\u001b[0;34m\u001b[0m\u001b[0m\n",
      "\u001b[0;32m//anaconda/lib/python2.7/site-packages/pandas/core/nanops.pyc\u001b[0m in \u001b[0;36munique1d\u001b[0;34m(values)\u001b[0m\n\u001b[1;32m    751\u001b[0m     \u001b[0;32melse\u001b[0m\u001b[0;34m:\u001b[0m\u001b[0;34m\u001b[0m\u001b[0m\n\u001b[1;32m    752\u001b[0m         \u001b[0mtable\u001b[0m \u001b[0;34m=\u001b[0m \u001b[0m_hash\u001b[0m\u001b[0;34m.\u001b[0m\u001b[0mPyObjectHashTable\u001b[0m\u001b[0;34m(\u001b[0m\u001b[0mlen\u001b[0m\u001b[0;34m(\u001b[0m\u001b[0mvalues\u001b[0m\u001b[0;34m)\u001b[0m\u001b[0;34m)\u001b[0m\u001b[0;34m\u001b[0m\u001b[0m\n\u001b[0;32m--> 753\u001b[0;31m         \u001b[0muniques\u001b[0m \u001b[0;34m=\u001b[0m \u001b[0mtable\u001b[0m\u001b[0;34m.\u001b[0m\u001b[0munique\u001b[0m\u001b[0;34m(\u001b[0m\u001b[0m_ensure_object\u001b[0m\u001b[0;34m(\u001b[0m\u001b[0mvalues\u001b[0m\u001b[0;34m)\u001b[0m\u001b[0;34m)\u001b[0m\u001b[0;34m\u001b[0m\u001b[0m\n\u001b[0m\u001b[1;32m    754\u001b[0m     \u001b[0;32mreturn\u001b[0m \u001b[0muniques\u001b[0m\u001b[0;34m\u001b[0m\u001b[0m\n",
      "\u001b[0;32mpandas/hashtable.pyx\u001b[0m in \u001b[0;36mpandas.hashtable.PyObjectHashTable.unique (pandas/hashtable.c:13637)\u001b[0;34m()\u001b[0m\n",
      "\u001b[0;31mTypeError\u001b[0m: unhashable type: 'list'"
     ]
    }
   ],
   "source": [
    "for v in df.columns:\n",
    "    l=df[v].unique()\n",
    "    if len(l) <= 10:\n",
    "        print v, l"
   ]
  },
  {
   "cell_type": "code",
   "execution_count": null,
   "metadata": {
    "collapsed": true
   },
   "outputs": [],
   "source": []
  }
 ],
 "metadata": {
  "kernelspec": {
   "display_name": "Python 2",
   "language": "python",
   "name": "python2"
  },
  "language_info": {
   "codemirror_mode": {
    "name": "ipython",
    "version": 2
   },
   "file_extension": ".py",
   "mimetype": "text/x-python",
   "name": "python",
   "nbconvert_exporter": "python",
   "pygments_lexer": "ipython2",
   "version": "2.7.10"
  }
 },
 "nbformat": 4,
 "nbformat_minor": 0
}

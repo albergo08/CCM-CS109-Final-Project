{
 "cells": [
  {
   "cell_type": "markdown",
   "metadata": {},
   "source": [
    "# Analyzing text in Ebay Auction Titles"
   ]
  },
  {
   "cell_type": "markdown",
   "metadata": {},
   "source": [
    "The goal of the following code is to use language processing techniques to parse the ebay auction titles, seeing if there is any correlation between certain words and success of the auction."
   ]
  },
  {
   "cell_type": "code",
   "execution_count": 5,
   "metadata": {
    "collapsed": true
   },
   "outputs": [],
   "source": [
    "%matplotlib inline\n",
    "import numpy as np\n",
    "import scipy as sp\n",
    "import matplotlib as mpl\n",
    "import matplotlib.cm as cm\n",
    "import matplotlib.pyplot as plt\n",
    "import pandas as pd\n",
    "pd.set_option('display.width', 500)\n",
    "pd.set_option('display.max_columns', 100)\n",
    "pd.set_option('display.notebook_repr_html', True)\n",
    "import csv, json, time, sklearn\n",
    "from pattern.en import parse\n",
    "from pattern.en import pprint\n",
    "from pattern.vector import stem, PORTER, LEMMA\n",
    "from sklearn.feature_extraction import text \n",
    "import re"
   ]
  },
  {
   "cell_type": "markdown",
   "metadata": {},
   "source": [
    "We first load in the data, although we are only concerned with a few of these columns"
   ]
  },
  {
   "cell_type": "code",
   "execution_count": 8,
   "metadata": {
    "collapsed": false
   },
   "outputs": [],
   "source": [
    "with open('dftouse.csv', 'r') as fd:\n",
    "    dftouse = pd.read_csv(fd)\n"
   ]
  },
  {
   "cell_type": "code",
   "execution_count": 10,
   "metadata": {
    "collapsed": false
   },
   "outputs": [
    {
     "data": {
      "text/html": [
       "<div>\n",
       "<table border=\"1\" class=\"dataframe\">\n",
       "  <thead>\n",
       "    <tr style=\"text-align: right;\">\n",
       "      <th></th>\n",
       "      <th>Unnamed: 0</th>\n",
       "      <th>country</th>\n",
       "      <th>itemId</th>\n",
       "      <th>paymentMethod</th>\n",
       "      <th>postalCode</th>\n",
       "      <th>sellingStatus</th>\n",
       "      <th>topRatedListing</th>\n",
       "      <th>AutoPay</th>\n",
       "      <th>AvailableForPickupDropOff</th>\n",
       "      <th>BestOfferEnabled</th>\n",
       "      <th>BidCount</th>\n",
       "      <th>BuyItNowPrice</th>\n",
       "      <th>FinalPrice</th>\n",
       "      <th>GlobalShipping</th>\n",
       "      <th>HandlingTime</th>\n",
       "      <th>HitCount</th>\n",
       "      <th>ListingStatus</th>\n",
       "      <th>ListingType</th>\n",
       "      <th>Location</th>\n",
       "      <th>MinimumToBid</th>\n",
       "      <th>ProductID</th>\n",
       "      <th>Quantity</th>\n",
       "      <th>QuantityThreshold</th>\n",
       "      <th>ReserveMet</th>\n",
       "      <th>ShipToLocations</th>\n",
       "      <th>Title</th>\n",
       "      <th>UserID</th>\n",
       "      <th>FeedbackScore</th>\n",
       "      <th>PositiveFeedbackPercent</th>\n",
       "      <th>SellerBusinessType</th>\n",
       "      <th>NewUser</th>\n",
       "      <th>nPhotos</th>\n",
       "      <th>nPaymentMethods</th>\n",
       "      <th>nShippingCountries</th>\n",
       "      <th>conditionId</th>\n",
       "      <th>bestOfferEnabled</th>\n",
       "      <th>buyItNowAvailable</th>\n",
       "      <th>expeditedShipping</th>\n",
       "      <th>shippingType</th>\n",
       "      <th>oneDayShippingAvailable</th>\n",
       "      <th>RatingsPresent</th>\n",
       "      <th>AverageRating</th>\n",
       "      <th>NegFeedback30Day</th>\n",
       "      <th>NegFeedback365Day</th>\n",
       "      <th>PosFeedback30Day</th>\n",
       "      <th>PosFeedback365Day</th>\n",
       "      <th>auctionLength</th>\n",
       "    </tr>\n",
       "  </thead>\n",
       "  <tbody>\n",
       "    <tr>\n",
       "      <th>0</th>\n",
       "      <td>0</td>\n",
       "      <td>0</td>\n",
       "      <td>131642735687</td>\n",
       "      <td>0</td>\n",
       "      <td>10590</td>\n",
       "      <td>0</td>\n",
       "      <td>False</td>\n",
       "      <td>False</td>\n",
       "      <td>0</td>\n",
       "      <td>False</td>\n",
       "      <td>41</td>\n",
       "      <td>NaN</td>\n",
       "      <td>202.09</td>\n",
       "      <td>False</td>\n",
       "      <td>2</td>\n",
       "      <td>190</td>\n",
       "      <td>Completed</td>\n",
       "      <td>0</td>\n",
       "      <td>South Salem, New York</td>\n",
       "      <td>204.59</td>\n",
       "      <td>NaN</td>\n",
       "      <td>1</td>\n",
       "      <td>0</td>\n",
       "      <td>NaN</td>\n",
       "      <td>US</td>\n",
       "      <td>iPhone 5s-32gb-Space Gray-unlocked</td>\n",
       "      <td>jdwein1980</td>\n",
       "      <td>19</td>\n",
       "      <td>100.0</td>\n",
       "      <td>2</td>\n",
       "      <td>False</td>\n",
       "      <td>3</td>\n",
       "      <td>1</td>\n",
       "      <td>1</td>\n",
       "      <td>5</td>\n",
       "      <td>False</td>\n",
       "      <td>False</td>\n",
       "      <td>True</td>\n",
       "      <td>2</td>\n",
       "      <td>False</td>\n",
       "      <td>False</td>\n",
       "      <td>NaN</td>\n",
       "      <td>0</td>\n",
       "      <td>0</td>\n",
       "      <td>5</td>\n",
       "      <td>5</td>\n",
       "      <td>168</td>\n",
       "    </tr>\n",
       "    <tr>\n",
       "      <th>1</th>\n",
       "      <td>1</td>\n",
       "      <td>0</td>\n",
       "      <td>262126933108</td>\n",
       "      <td>0</td>\n",
       "      <td>35004</td>\n",
       "      <td>0</td>\n",
       "      <td>False</td>\n",
       "      <td>False</td>\n",
       "      <td>0</td>\n",
       "      <td>False</td>\n",
       "      <td>4</td>\n",
       "      <td>NaN</td>\n",
       "      <td>260.00</td>\n",
       "      <td>False</td>\n",
       "      <td>3</td>\n",
       "      <td>32</td>\n",
       "      <td>Completed</td>\n",
       "      <td>0</td>\n",
       "      <td>Moody, Alabama</td>\n",
       "      <td>265.00</td>\n",
       "      <td>NaN</td>\n",
       "      <td>1</td>\n",
       "      <td>0</td>\n",
       "      <td>NaN</td>\n",
       "      <td>US</td>\n",
       "      <td>apple iphone 5s 32gb</td>\n",
       "      <td>forwhlrcr1965</td>\n",
       "      <td>565</td>\n",
       "      <td>100.0</td>\n",
       "      <td>1</td>\n",
       "      <td>False</td>\n",
       "      <td>2</td>\n",
       "      <td>1</td>\n",
       "      <td>1</td>\n",
       "      <td>5</td>\n",
       "      <td>False</td>\n",
       "      <td>False</td>\n",
       "      <td>True</td>\n",
       "      <td>0</td>\n",
       "      <td>False</td>\n",
       "      <td>False</td>\n",
       "      <td>NaN</td>\n",
       "      <td>0</td>\n",
       "      <td>0</td>\n",
       "      <td>3</td>\n",
       "      <td>32</td>\n",
       "      <td>120</td>\n",
       "    </tr>\n",
       "    <tr>\n",
       "      <th>2</th>\n",
       "      <td>2</td>\n",
       "      <td>0</td>\n",
       "      <td>252155964081</td>\n",
       "      <td>0</td>\n",
       "      <td>98104</td>\n",
       "      <td>0</td>\n",
       "      <td>False</td>\n",
       "      <td>False</td>\n",
       "      <td>0</td>\n",
       "      <td>False</td>\n",
       "      <td>3</td>\n",
       "      <td>NaN</td>\n",
       "      <td>152.50</td>\n",
       "      <td>False</td>\n",
       "      <td>2</td>\n",
       "      <td>168</td>\n",
       "      <td>Completed</td>\n",
       "      <td>0</td>\n",
       "      <td>Seattle, Washington</td>\n",
       "      <td>155.00</td>\n",
       "      <td>168534287</td>\n",
       "      <td>1</td>\n",
       "      <td>0</td>\n",
       "      <td>NaN</td>\n",
       "      <td>Worldwide</td>\n",
       "      <td>Apple iPhone 5s - 32GB SPACE GRAY AT&amp;T</td>\n",
       "      <td>15-alice</td>\n",
       "      <td>15</td>\n",
       "      <td>94.1</td>\n",
       "      <td>1</td>\n",
       "      <td>False</td>\n",
       "      <td>2</td>\n",
       "      <td>1</td>\n",
       "      <td>1</td>\n",
       "      <td>5</td>\n",
       "      <td>False</td>\n",
       "      <td>False</td>\n",
       "      <td>False</td>\n",
       "      <td>1</td>\n",
       "      <td>False</td>\n",
       "      <td>False</td>\n",
       "      <td>NaN</td>\n",
       "      <td>0</td>\n",
       "      <td>1</td>\n",
       "      <td>2</td>\n",
       "      <td>17</td>\n",
       "      <td>120</td>\n",
       "    </tr>\n",
       "    <tr>\n",
       "      <th>3</th>\n",
       "      <td>3</td>\n",
       "      <td>0</td>\n",
       "      <td>252163774777</td>\n",
       "      <td>0</td>\n",
       "      <td>98104</td>\n",
       "      <td>0</td>\n",
       "      <td>False</td>\n",
       "      <td>False</td>\n",
       "      <td>0</td>\n",
       "      <td>False</td>\n",
       "      <td>1</td>\n",
       "      <td>NaN</td>\n",
       "      <td>99.00</td>\n",
       "      <td>False</td>\n",
       "      <td>2</td>\n",
       "      <td>143</td>\n",
       "      <td>Completed</td>\n",
       "      <td>0</td>\n",
       "      <td>Seattle, Washington</td>\n",
       "      <td>100.00</td>\n",
       "      <td>168553370</td>\n",
       "      <td>1</td>\n",
       "      <td>0</td>\n",
       "      <td>NaN</td>\n",
       "      <td>US</td>\n",
       "      <td>Apple iPhone 5s - 32GB - Silver (Verizon) Smar...</td>\n",
       "      <td>15-alice</td>\n",
       "      <td>15</td>\n",
       "      <td>94.1</td>\n",
       "      <td>1</td>\n",
       "      <td>False</td>\n",
       "      <td>7</td>\n",
       "      <td>1</td>\n",
       "      <td>1</td>\n",
       "      <td>9</td>\n",
       "      <td>False</td>\n",
       "      <td>False</td>\n",
       "      <td>True</td>\n",
       "      <td>0</td>\n",
       "      <td>False</td>\n",
       "      <td>False</td>\n",
       "      <td>NaN</td>\n",
       "      <td>0</td>\n",
       "      <td>1</td>\n",
       "      <td>2</td>\n",
       "      <td>17</td>\n",
       "      <td>120</td>\n",
       "    </tr>\n",
       "    <tr>\n",
       "      <th>4</th>\n",
       "      <td>4</td>\n",
       "      <td>0</td>\n",
       "      <td>252171170160</td>\n",
       "      <td>0</td>\n",
       "      <td>98104</td>\n",
       "      <td>0</td>\n",
       "      <td>False</td>\n",
       "      <td>True</td>\n",
       "      <td>0</td>\n",
       "      <td>False</td>\n",
       "      <td>5</td>\n",
       "      <td>NaN</td>\n",
       "      <td>96.00</td>\n",
       "      <td>False</td>\n",
       "      <td>2</td>\n",
       "      <td>357</td>\n",
       "      <td>Completed</td>\n",
       "      <td>0</td>\n",
       "      <td>Seattle, Washington</td>\n",
       "      <td>97.00</td>\n",
       "      <td>168534287</td>\n",
       "      <td>1</td>\n",
       "      <td>0</td>\n",
       "      <td>NaN</td>\n",
       "      <td>US</td>\n",
       "      <td>Apple iPhone 5s - 32GB SPACE GRAY AT&amp;T</td>\n",
       "      <td>15-alice</td>\n",
       "      <td>15</td>\n",
       "      <td>94.1</td>\n",
       "      <td>1</td>\n",
       "      <td>False</td>\n",
       "      <td>2</td>\n",
       "      <td>1</td>\n",
       "      <td>1</td>\n",
       "      <td>5</td>\n",
       "      <td>False</td>\n",
       "      <td>False</td>\n",
       "      <td>False</td>\n",
       "      <td>1</td>\n",
       "      <td>False</td>\n",
       "      <td>False</td>\n",
       "      <td>NaN</td>\n",
       "      <td>0</td>\n",
       "      <td>1</td>\n",
       "      <td>2</td>\n",
       "      <td>17</td>\n",
       "      <td>120</td>\n",
       "    </tr>\n",
       "  </tbody>\n",
       "</table>\n",
       "</div>"
      ],
      "text/plain": [
       "   Unnamed: 0  country        itemId  paymentMethod postalCode  sellingStatus topRatedListing AutoPay  AvailableForPickupDropOff BestOfferEnabled  BidCount  BuyItNowPrice  FinalPrice GlobalShipping  HandlingTime  HitCount ListingStatus  ListingType               Location  MinimumToBid  ProductID  Quantity  QuantityThreshold  ReserveMet ShipToLocations                                              Title         UserID  FeedbackScore  PositiveFeedbackPercent  SellerBusinessType NewUser  nPhotos  \\\n",
       "0           0        0  131642735687              0      10590              0           False   False                          0            False        41            NaN      202.09          False             2       190     Completed            0  South Salem, New York        204.59        NaN         1                  0         NaN              US                 iPhone 5s-32gb-Space Gray-unlocked     jdwein1980             19                    100.0                   2   False        3   \n",
       "1           1        0  262126933108              0      35004              0           False   False                          0            False         4            NaN      260.00          False             3        32     Completed            0         Moody, Alabama        265.00        NaN         1                  0         NaN              US                               apple iphone 5s 32gb  forwhlrcr1965            565                    100.0                   1   False        2   \n",
       "2           2        0  252155964081              0      98104              0           False   False                          0            False         3            NaN      152.50          False             2       168     Completed            0    Seattle, Washington        155.00  168534287         1                  0         NaN       Worldwide             Apple iPhone 5s - 32GB SPACE GRAY AT&T       15-alice             15                     94.1                   1   False        2   \n",
       "3           3        0  252163774777              0      98104              0           False   False                          0            False         1            NaN       99.00          False             2       143     Completed            0    Seattle, Washington        100.00  168553370         1                  0         NaN              US  Apple iPhone 5s - 32GB - Silver (Verizon) Smar...       15-alice             15                     94.1                   1   False        7   \n",
       "4           4        0  252171170160              0      98104              0           False    True                          0            False         5            NaN       96.00          False             2       357     Completed            0    Seattle, Washington         97.00  168534287         1                  0         NaN              US             Apple iPhone 5s - 32GB SPACE GRAY AT&T       15-alice             15                     94.1                   1   False        2   \n",
       "\n",
       "   nPaymentMethods  nShippingCountries  conditionId bestOfferEnabled buyItNowAvailable expeditedShipping  shippingType oneDayShippingAvailable RatingsPresent  AverageRating  NegFeedback30Day  NegFeedback365Day  PosFeedback30Day  PosFeedback365Day  auctionLength  \n",
       "0                1                   1            5            False             False              True             2                   False          False            NaN                 0                  0                 5                  5            168  \n",
       "1                1                   1            5            False             False              True             0                   False          False            NaN                 0                  0                 3                 32            120  \n",
       "2                1                   1            5            False             False             False             1                   False          False            NaN                 0                  1                 2                 17            120  \n",
       "3                1                   1            9            False             False              True             0                   False          False            NaN                 0                  1                 2                 17            120  \n",
       "4                1                   1            5            False             False             False             1                   False          False            NaN                 0                  1                 2                 17            120  "
      ]
     },
     "execution_count": 10,
     "metadata": {},
     "output_type": "execute_result"
    }
   ],
   "source": [
    "dftouse.head()"
   ]
  },
  {
   "cell_type": "markdown",
   "metadata": {},
   "source": [
    "Time to parse the titles. This is done almost exactly like in HW5, except we want to broaden our parsing. We don't care if there are no descriptors or if we are working with pronouns. Right now, we just want to see what people have been using as ebay titles"
   ]
  },
  {
   "cell_type": "code",
   "execution_count": 40,
   "metadata": {
    "collapsed": true
   },
   "outputs": [],
   "source": [
    "punctuation = list('.,;:!?()[]{}`''\\\"@#$^&*+-|=~_')\n",
    "from sklearn.feature_extraction import text \n",
    "stopwords=text.ENGLISH_STOP_WORDS\n",
    "import re\n",
    "regex1=re.compile(r\"\\.{1,}\")\n",
    "regex2=re.compile(r\"\\-{1,}\")"
   ]
  },
  {
   "cell_type": "code",
   "execution_count": 58,
   "metadata": {
    "collapsed": true
   },
   "outputs": [],
   "source": [
    "def get_parts(thetext):\n",
    "    thetext=re.sub(regex1, ' ', thetext)\n",
    "    thetext=re.sub(regex2, ' ', thetext)\n",
    "    nouns=[]\n",
    "    descriptives=[]\n",
    "    for i,sentence in enumerate(parse(thetext, tokenize=True, lemmata=True).split()):\n",
    "        nouns.append([])\n",
    "        descriptives.append([])\n",
    "        for token in sentence:\n",
    "            if len(token[4]) >0:\n",
    "                # this checks if token is an adjective\n",
    "                if token[1] in ['JJ', 'JJR', 'JJS']:\n",
    "                    # this checks if token is in stopwords, or is a punctuation, or is a single letter\n",
    "                    if token[4] in stopwords or token[4][0] in punctuation or token[4][-1] in punctuation or len(token[4])==1:\n",
    "                        continue\n",
    "                    descriptives[i].append(token[4])\n",
    "                # anything else is considered a noun for now\n",
    "                else:\n",
    "                    if token[4] in stopwords or token[4][0] in punctuation or token[4][-1] in punctuation or len(token[4])==1:\n",
    "                        continue\n",
    "                    nouns[i].append(token[4])\n",
    "    return nouns, descriptives"
   ]
  },
  {
   "cell_type": "markdown",
   "metadata": {},
   "source": [
    "Now we run get_parts on all of the titles of the auctions in our data. Let's see what we get"
   ]
  },
  {
   "cell_type": "code",
   "execution_count": 59,
   "metadata": {
    "collapsed": false,
    "scrolled": true
   },
   "outputs": [],
   "source": [
    "test = dftouse['Title'][0:5].map(lambda x: get_parts(x))"
   ]
  },
  {
   "cell_type": "code",
   "execution_count": 61,
   "metadata": {
    "collapsed": false
   },
   "outputs": [
    {
     "data": {
      "text/plain": [
       "[[u'iphone', u'5s', u'32gb', u'space', u'gray', u'unlock']]"
      ]
     },
     "execution_count": 61,
     "metadata": {},
     "output_type": "execute_result"
    }
   ],
   "source": [
    "test[0][0]"
   ]
  },
  {
   "cell_type": "code",
   "execution_count": 184,
   "metadata": {
    "collapsed": false
   },
   "outputs": [],
   "source": [
    "titles = dftouse['Title'].map(lambda x: [y.lower() for y in re.split('[.,;:!?(){}`\\\"@#$*|=~_ +-]',x)])"
   ]
  },
  {
   "cell_type": "code",
   "execution_count": 198,
   "metadata": {
    "collapsed": false
   },
   "outputs": [],
   "source": [
    "uniqueWords = set()\n",
    "for line in titles:\n",
    "    for word in line:\n",
    "        \n",
    "        # assumption here that punctuation does not affect ebay auctions\n",
    "        if word.lower() not in uniqueWords:\n",
    "            uniqueWords.add(word.lower())\n"
   ]
  },
  {
   "cell_type": "code",
   "execution_count": 199,
   "metadata": {
    "collapsed": false
   },
   "outputs": [
    {
     "data": {
      "text/plain": [
       "1430"
      ]
     },
     "execution_count": 199,
     "metadata": {},
     "output_type": "execute_result"
    }
   ],
   "source": [
    "len(uniqueWords)"
   ]
  },
  {
   "cell_type": "code",
   "execution_count": 200,
   "metadata": {
    "collapsed": false
   },
   "outputs": [],
   "source": [
    "pos_resp_count = {}\n",
    "neg_resp_count = {}\n",
    "dfnew = dftouse.copy()\n",
    "dfnew['Title'] = titles\n",
    "# create a dict with keys of unique words\n",
    "for word in uniqueWords:\n",
    "    pos_resp_count[word] = 0\n",
    "    neg_resp_count[word] = 0\n",
    "\n",
    "    \n",
    "def pos_counter(sentence):\n",
    "    for word in sentence:\n",
    "        pos_resp_count[word] += 1\n",
    "def neg_counter(sentence):\n",
    "    for word in sentence:\n",
    "        neg_resp_count[word] += 1\n"
   ]
  },
  {
   "cell_type": "code",
   "execution_count": 201,
   "metadata": {
    "collapsed": false
   },
   "outputs": [
    {
     "data": {
      "text/plain": [
       "0    0\n",
       "1    0\n",
       "2    0\n",
       "3    0\n",
       "4    0\n",
       "Name: sellingStatus, dtype: int64"
      ]
     },
     "execution_count": 201,
     "metadata": {},
     "output_type": "execute_result"
    }
   ],
   "source": [
    "responses = dfnew['sellingStatus']\n",
    "responses[:5]"
   ]
  },
  {
   "cell_type": "code",
   "execution_count": 203,
   "metadata": {
    "collapsed": false
   },
   "outputs": [
    {
     "ename": "KeyError",
     "evalue": "'iPhone'",
     "output_type": "error",
     "traceback": [
      "\u001b[0;31m---------------------------------------------------------------------------\u001b[0m",
      "\u001b[0;31mKeyError\u001b[0m                                  Traceback (most recent call last)",
      "\u001b[0;32m<ipython-input-203-586879c4d77b>\u001b[0m in \u001b[0;36m<module>\u001b[0;34m()\u001b[0m\n\u001b[1;32m      1\u001b[0m \u001b[0;32mfor\u001b[0m \u001b[0mi\u001b[0m \u001b[0;32min\u001b[0m \u001b[0mrange\u001b[0m\u001b[0;34m(\u001b[0m\u001b[0mlen\u001b[0m\u001b[0;34m(\u001b[0m\u001b[0mresponses\u001b[0m\u001b[0;34m)\u001b[0m\u001b[0;34m)\u001b[0m\u001b[0;34m:\u001b[0m\u001b[0;34m\u001b[0m\u001b[0m\n\u001b[1;32m      2\u001b[0m     \u001b[0;32mif\u001b[0m \u001b[0mresponses\u001b[0m\u001b[0;34m[\u001b[0m\u001b[0mi\u001b[0m\u001b[0;34m]\u001b[0m \u001b[0;34m==\u001b[0m \u001b[0;36m0\u001b[0m\u001b[0;34m:\u001b[0m\u001b[0;34m\u001b[0m\u001b[0m\n\u001b[0;32m----> 3\u001b[0;31m         \u001b[0mpos_counter\u001b[0m\u001b[0;34m(\u001b[0m\u001b[0mtitles\u001b[0m\u001b[0;34m[\u001b[0m\u001b[0mi\u001b[0m\u001b[0;34m]\u001b[0m\u001b[0;34m)\u001b[0m\u001b[0;34m\u001b[0m\u001b[0m\n\u001b[0m\u001b[1;32m      4\u001b[0m     \u001b[0;32melse\u001b[0m\u001b[0;34m:\u001b[0m\u001b[0;34m\u001b[0m\u001b[0m\n\u001b[1;32m      5\u001b[0m         \u001b[0mneg_counter\u001b[0m\u001b[0;34m(\u001b[0m\u001b[0mtitles\u001b[0m\u001b[0;34m[\u001b[0m\u001b[0mi\u001b[0m\u001b[0;34m]\u001b[0m\u001b[0;34m)\u001b[0m\u001b[0;34m\u001b[0m\u001b[0m\n",
      "\u001b[0;32m<ipython-input-200-3ad112c179ab>\u001b[0m in \u001b[0;36mpos_counter\u001b[0;34m(sentence)\u001b[0m\n\u001b[1;32m     11\u001b[0m \u001b[0;32mdef\u001b[0m \u001b[0mpos_counter\u001b[0m\u001b[0;34m(\u001b[0m\u001b[0msentence\u001b[0m\u001b[0;34m)\u001b[0m\u001b[0;34m:\u001b[0m\u001b[0;34m\u001b[0m\u001b[0m\n\u001b[1;32m     12\u001b[0m     \u001b[0;32mfor\u001b[0m \u001b[0mword\u001b[0m \u001b[0;32min\u001b[0m \u001b[0msentence\u001b[0m\u001b[0;34m:\u001b[0m\u001b[0;34m\u001b[0m\u001b[0m\n\u001b[0;32m---> 13\u001b[0;31m         \u001b[0mpos_resp_count\u001b[0m\u001b[0;34m[\u001b[0m\u001b[0mword\u001b[0m\u001b[0;34m]\u001b[0m \u001b[0;34m+=\u001b[0m \u001b[0;36m1\u001b[0m\u001b[0;34m\u001b[0m\u001b[0m\n\u001b[0m\u001b[1;32m     14\u001b[0m \u001b[0;32mdef\u001b[0m \u001b[0mneg_counter\u001b[0m\u001b[0;34m(\u001b[0m\u001b[0msentence\u001b[0m\u001b[0;34m)\u001b[0m\u001b[0;34m:\u001b[0m\u001b[0;34m\u001b[0m\u001b[0m\n\u001b[1;32m     15\u001b[0m     \u001b[0;32mfor\u001b[0m \u001b[0mword\u001b[0m \u001b[0;32min\u001b[0m \u001b[0msentence\u001b[0m\u001b[0;34m:\u001b[0m\u001b[0;34m\u001b[0m\u001b[0m\n",
      "\u001b[0;31mKeyError\u001b[0m: 'iPhone'"
     ]
    }
   ],
   "source": [
    "for i in range(len(responses)):\n",
    "    if responses[i] == 0:\n",
    "        pos_counter(titles[i])\n",
    "    else:\n",
    "        neg_counter(titles[i])\n",
    "del pos_resp_count['']\n",
    "del neg_resp_count['']"
   ]
  },
  {
   "cell_type": "code",
   "execution_count": 196,
   "metadata": {
    "collapsed": false
   },
   "outputs": [
    {
     "data": {
      "text/plain": [
       "[('ESN', 103),\n",
       " ('Clean', 107),\n",
       " ('APPLE', 120),\n",
       " ('Iphone', 124),\n",
       " ('32gb', 135),\n",
       " ('Condition', 149),\n",
       " ('UNLOCKED', 157),\n",
       " ('Sprint', 210),\n",
       " ('Black', 297),\n",
       " ('GSM', 461),\n",
       " ('White', 477),\n",
       " ('Silver', 479),\n",
       " ('Factory', 510),\n",
       " ('Mobile', 647),\n",
       " ('T', 683),\n",
       " ('Gold', 723),\n",
       " ('Verizon', 842),\n",
       " ('Space', 986),\n",
       " ('Gray', 1013),\n",
       " ('5S', 1293),\n",
       " ('Unlocked', 1404),\n",
       " ('AT&T', 1536),\n",
       " ('Smartphone', 1643),\n",
       " ('5s', 1979),\n",
       " ('Apple', 2820),\n",
       " ('32GB', 2903),\n",
       " ('iPhone', 2958)]"
      ]
     },
     "execution_count": 196,
     "metadata": {},
     "output_type": "execute_result"
    }
   ],
   "source": [
    "new_pos = []\n",
    "new_neg = []\n",
    "for key in pos_resp_count.keys():\n",
    "    if pos_resp_count[key] > 100:\n",
    "        new_pos.append((key,pos_resp_count[key]))\n",
    "    if neg_resp_count[key] > 100:\n",
    "        new_neg.append((key,neg_resp_count[key]))\n",
    "new_pos.sort(key=lambda tup: tup[1])\n",
    "new_neg.sort(key=lambda tup: tup[1])\n",
    "        \n",
    "new_neg"
   ]
  },
  {
   "cell_type": "code",
   "execution_count": 197,
   "metadata": {
    "collapsed": false
   },
   "outputs": [
    {
     "data": {
      "text/plain": [
       "[('Good', 113),\n",
       " ('Case', 118),\n",
       " ('&', 125),\n",
       " ('Grey', 125),\n",
       " ('32', 138),\n",
       " ('Black', 143),\n",
       " ('Great', 143),\n",
       " ('APPLE', 143),\n",
       " ('Iphone', 166),\n",
       " ('Excellent', 169),\n",
       " ('32gb', 186),\n",
       " ('White', 193),\n",
       " ('ESN', 197),\n",
       " ('UNLOCKED', 201),\n",
       " ('Clean', 221),\n",
       " ('GSM', 230),\n",
       " ('Sprint', 300),\n",
       " ('T', 319),\n",
       " ('Mobile', 330),\n",
       " ('Condition', 331),\n",
       " ('5S', 879),\n",
       " ('Factory', 1033),\n",
       " ('Silver', 1332),\n",
       " ('Gold', 1617),\n",
       " ('Verizon', 1704),\n",
       " ('Unlocked', 1859),\n",
       " ('AT&T', 2430),\n",
       " ('Gray', 2541),\n",
       " ('Space', 2577),\n",
       " ('Smartphone', 4500),\n",
       " ('5s', 5433),\n",
       " ('Apple', 5785),\n",
       " ('32GB', 5813),\n",
       " ('iPhone', 5990)]"
      ]
     },
     "execution_count": 197,
     "metadata": {},
     "output_type": "execute_result"
    }
   ],
   "source": [
    "new_pos"
   ]
  },
  {
   "cell_type": "code",
   "execution_count": 194,
   "metadata": {
    "collapsed": false
   },
   "outputs": [
    {
     "data": {
      "text/plain": [
       "([<matplotlib.axis.XTick at 0x116f4dd10>,\n",
       "  <matplotlib.axis.XTick at 0x11750aed0>,\n",
       "  <matplotlib.axis.XTick at 0x11a8ac490>,\n",
       "  <matplotlib.axis.XTick at 0x11a948490>,\n",
       "  <matplotlib.axis.XTick at 0x11a948c10>,\n",
       "  <matplotlib.axis.XTick at 0x11a9523d0>,\n",
       "  <matplotlib.axis.XTick at 0x11a952b50>,\n",
       "  <matplotlib.axis.XTick at 0x11771fdd0>,\n",
       "  <matplotlib.axis.XTick at 0x1170dc7d0>,\n",
       "  <matplotlib.axis.XTick at 0x11a95c350>,\n",
       "  <matplotlib.axis.XTick at 0x11a95cad0>,\n",
       "  <matplotlib.axis.XTick at 0x11a966290>,\n",
       "  <matplotlib.axis.XTick at 0x11a966a10>,\n",
       "  <matplotlib.axis.XTick at 0x11a96e1d0>,\n",
       "  <matplotlib.axis.XTick at 0x11a96e950>,\n",
       "  <matplotlib.axis.XTick at 0x11a978110>,\n",
       "  <matplotlib.axis.XTick at 0x11a978890>,\n",
       "  <matplotlib.axis.XTick at 0x11a982050>,\n",
       "  <matplotlib.axis.XTick at 0x11a9827d0>,\n",
       "  <matplotlib.axis.XTick at 0x11a982f50>,\n",
       "  <matplotlib.axis.XTick at 0x11a98a710>,\n",
       "  <matplotlib.axis.XTick at 0x11a98ae90>,\n",
       "  <matplotlib.axis.XTick at 0x11a995650>,\n",
       "  <matplotlib.axis.XTick at 0x11a995dd0>,\n",
       "  <matplotlib.axis.XTick at 0x11a99e590>,\n",
       "  <matplotlib.axis.XTick at 0x11a99ed10>,\n",
       "  <matplotlib.axis.XTick at 0x11a9a84d0>,\n",
       "  <matplotlib.axis.XTick at 0x11a9a8c50>,\n",
       "  <matplotlib.axis.XTick at 0x11a9b0410>,\n",
       "  <matplotlib.axis.XTick at 0x11a9b0b90>,\n",
       "  <matplotlib.axis.XTick at 0x11a9bb350>,\n",
       "  <matplotlib.axis.XTick at 0x11a9bbad0>,\n",
       "  <matplotlib.axis.XTick at 0x11a9c4290>,\n",
       "  <matplotlib.axis.XTick at 0x11a9c4a10>],\n",
       " <a list of 34 Text xticklabel objects>)"
      ]
     },
     "execution_count": 194,
     "metadata": {},
     "output_type": "execute_result"
    },
    {
     "data": {
      "image/png": "[encoded data removed]",
      "text/plain": [
       "<matplotlib.figure.Figure at 0x119967c50>"
      ]
     },
     "metadata": {},
     "output_type": "display_data"
    }
   ],
   "source": [
    "plt.bar(np.arange(len(new_pos)), [x[1] for x in new_pos])\n",
    "plt.xticks(np.arange(len(new_pos)))"
   ]
  },
  {
   "cell_type": "code",
   "execution_count": null,
   "metadata": {
    "collapsed": true
   },
   "outputs": [],
   "source": []
  },
  {
   "cell_type": "code",
   "execution_count": null,
   "metadata": {
    "collapsed": true
   },
   "outputs": [],
   "source": []
  }
 ],
 "metadata": {
  "kernelspec": {
   "display_name": "Python 2",
   "language": "python",
   "name": "python2"
  },
  "language_info": {
   "codemirror_mode": {
    "name": "ipython",
    "version": 2
   },
   "file_extension": ".py",
   "mimetype": "text/x-python",
   "name": "python",
   "nbconvert_exporter": "python",
   "pygments_lexer": "ipython2",
   "version": "2.7.10"
  }
 },
 "nbformat": 4,
 "nbformat_minor": 0
}
